{
 "cells": [
  {
   "cell_type": "markdown",
   "metadata": {},
   "source": [
    "# Using Predictive Analytics to Predict Delays in Maritime Container Shipping"
   ]
  },
  {
   "cell_type": "code",
   "execution_count": 1,
   "metadata": {
    "collapsed": true
   },
   "outputs": [],
   "source": [
    "%matplotlib inline"
   ]
  },
  {
   "cell_type": "markdown",
   "metadata": {},
   "source": [
    "** Import Libraries **"
   ]
  },
  {
   "cell_type": "code",
   "execution_count": 2,
   "metadata": {
    "collapsed": true
   },
   "outputs": [],
   "source": [
    "import csv\n",
    "import pandas as pd\n",
    "import numpy as np\n",
    "from datetime import datetime, timedelta\n",
    "\n",
    "import pylab \n",
    "import scipy.stats as stats\n",
    "import matplotlib.pyplot as plt\n",
    "import seaborn as sns\n",
    "\n",
    "import warnings\n",
    "#https://github.com/pandas-dev/pandas/issues/8509\n",
    "warnings.filterwarnings('ignore', 'numpy not_equal will not check object identity in the future')\n",
    "\n",
    "#import sklearn libraries\n",
    "from sklearn.model_selection import train_test_split\n",
    "from sklearn.preprocessing import scale, StandardScaler\n",
    "from sklearn import linear_model\n",
    "from sklearn.metrics import mean_squared_error, r2_score, make_scorer\n",
    "\n",
    "from sklearn.model_selection import ShuffleSplit\n",
    "from sklearn.model_selection import learning_curve\n",
    "\n",
    "from sklearn.preprocessing import PolynomialFeatures\n",
    "\n",
    "from sklearn.linear_model import Ridge\n",
    "from sklearn.linear_model import Lasso\n",
    "\n",
    "from sklearn.model_selection import validation_curve\n",
    "\n",
    "import pickle"
   ]
  },
  {
   "cell_type": "markdown",
   "metadata": {},
   "source": [
    "** Open dataset files **"
   ]
  },
  {
   "cell_type": "code",
   "execution_count": 3,
   "metadata": {
    "collapsed": true
   },
   "outputs": [],
   "source": [
    "#get features (X) and target (y)\n",
    "X = pd.read_pickle('D:/CUNY Files/capstone/code files/X_vessel.pkl')\n",
    "y = pd.read_pickle('D:/CUNY Files/capstone/code files/y_vessel.pkl')"
   ]
  },
  {
   "cell_type": "code",
   "execution_count": 4,
   "metadata": {
    "collapsed": true
   },
   "outputs": [],
   "source": [
    "#get all sets\n",
    "train_X = pd.read_pickle('D:/CUNY Files/capstone/code files/train_X_v.pkl')\n",
    "train_y = pd.read_pickle('D:/CUNY Files/capstone/code files/train_y_v.pkl')\n",
    "\n",
    "validation_X = pd.read_pickle('D:/CUNY Files/capstone/code files/validation_X_v.pkl')\n",
    "validation_y = pd.read_pickle('D:/CUNY Files/capstone/code files/validation_y_v.pkl')\n",
    "\n",
    "training_X = pd.read_pickle('D:/CUNY Files/capstone/code files/training_X_v.pkl')\n",
    "training_y = pd.read_pickle('D:/CUNY Files/capstone/code files/training_y_v.pkl')\n",
    "\n",
    "test_X = pd.read_pickle('D:/CUNY Files/capstone/code files/test_X_v.pkl')\n",
    "test_y = pd.read_pickle('D:/CUNY Files/capstone/code files/test_y_v.pkl')"
   ]
  },
  {
   "cell_type": "code",
   "execution_count": 5,
   "metadata": {},
   "outputs": [
    {
     "data": {
      "text/plain": [
       "(902, 721, 181, 226)"
      ]
     },
     "execution_count": 5,
     "metadata": {},
     "output_type": "execute_result"
    }
   ],
   "source": [
    "len(training_X), len(train_X), len(validation_X), len(test_X)"
   ]
  },
  {
   "cell_type": "code",
   "execution_count": 6,
   "metadata": {},
   "outputs": [
    {
     "data": {
      "text/plain": [
       "(902, 721, 181, 226)"
      ]
     },
     "execution_count": 6,
     "metadata": {},
     "output_type": "execute_result"
    }
   ],
   "source": [
    "len(training_y), len(train_y), len(validation_y), len(test_y)"
   ]
  },
  {
   "cell_type": "markdown",
   "metadata": {},
   "source": [
    "** Build Linear Regression Model **"
   ]
  },
  {
   "cell_type": "code",
   "execution_count": 7,
   "metadata": {
    "collapsed": true
   },
   "outputs": [],
   "source": [
    "#set the random seed\n",
    "rand = 15"
   ]
  },
  {
   "cell_type": "markdown",
   "metadata": {},
   "source": [
    "** Scale all features **  \n",
    "transform the features to be closer to standard normally distributed data: Gaussian with zero mean and unit variance."
   ]
  },
  {
   "cell_type": "code",
   "execution_count": 8,
   "metadata": {
    "collapsed": true
   },
   "outputs": [],
   "source": [
    "#use the training set to create a standard scaler for validation and test sets\n",
    "#this scaler finds the mean and standard deviation of the train set\n",
    "scaler = StandardScaler().fit(train_X)"
   ]
  },
  {
   "cell_type": "code",
   "execution_count": 9,
   "metadata": {},
   "outputs": [
    {
     "data": {
      "text/plain": [
       "(902, 721, 181, 226)"
      ]
     },
     "execution_count": 9,
     "metadata": {},
     "output_type": "execute_result"
    }
   ],
   "source": [
    "#transform the features for all sets using the scaler created from the train set\n",
    "#this will subtract the mean to center the data and divide by the standard deviation\n",
    "#to scale it\n",
    "training_X_scaled = scaler.transform(training_X)\n",
    "train_X_scaled = scaler.transform(train_X)\n",
    "validation_X_scaled = scaler.transform(validation_X)\n",
    "test_X_scaled = scaler.transform(test_X)\n",
    "len(training_X_scaled),len(train_X_scaled),len(validation_X_scaled),len(test_X_scaled)"
   ]
  },
  {
   "cell_type": "code",
   "execution_count": 10,
   "metadata": {
    "collapsed": true
   },
   "outputs": [],
   "source": [
    "#save all sets to a file to use same sets if this model is re-run\n",
    "np.save('D:/CUNY Files/capstone/code files/train_X_scaled_v.npy', train_X_scaled)\n",
    "#np.load('train_X_scaled.npy')  to reload\n",
    "\n",
    "np.save('D:/CUNY Files/capstone/code files/validation_X_scaled_v.npy', validation_X_scaled)\n",
    "\n",
    "np.save('D:/CUNY Files/capstone/code files/training_X_scaled_v.npy',training_X_scaled)\n",
    "\n",
    "np.save('D:/CUNY Files/capstone/code files/test_X_scaled_v.pkl',test_X_scaled)"
   ]
  },
  {
   "cell_type": "markdown",
   "metadata": {},
   "source": [
    "** Initial implementation: Linear Regression with Scaled Features, No Regularization **"
   ]
  },
  {
   "cell_type": "code",
   "execution_count": 11,
   "metadata": {
    "collapsed": true
   },
   "outputs": [],
   "source": [
    "#create a linear regression\n",
    "regr = linear_model.LinearRegression(fit_intercept=True, normalize=False, copy_X=True, n_jobs=1)"
   ]
  },
  {
   "cell_type": "code",
   "execution_count": 12,
   "metadata": {},
   "outputs": [
    {
     "data": {
      "text/plain": [
       "LinearRegression(copy_X=True, fit_intercept=True, n_jobs=1, normalize=False)"
      ]
     },
     "execution_count": 12,
     "metadata": {},
     "output_type": "execute_result"
    }
   ],
   "source": [
    "#fit the regression model\n",
    "regr.fit(train_X_scaled, train_y)"
   ]
  },
  {
   "cell_type": "markdown",
   "metadata": {},
   "source": [
    "** Evaluate the performance of the model on the validation set **"
   ]
  },
  {
   "cell_type": "code",
   "execution_count": 13,
   "metadata": {
    "collapsed": true
   },
   "outputs": [],
   "source": [
    "#predict the target values of the validation set using the model\n",
    "validation_y_pred = regr.predict(validation_X_scaled)"
   ]
  },
  {
   "cell_type": "code",
   "execution_count": 14,
   "metadata": {},
   "outputs": [
    {
     "data": {
      "text/plain": [
       "181"
      ]
     },
     "execution_count": 14,
     "metadata": {},
     "output_type": "execute_result"
    }
   ],
   "source": [
    "len(validation_y_pred)"
   ]
  },
  {
   "cell_type": "code",
   "execution_count": 15,
   "metadata": {},
   "outputs": [
    {
     "data": {
      "text/plain": [
       "27.579999999999998"
      ]
     },
     "execution_count": 15,
     "metadata": {},
     "output_type": "execute_result"
    }
   ],
   "source": [
    "#Evaluate the MSE on the validation set\n",
    "round(mean_squared_error(validation_y, validation_y_pred),2)"
   ]
  },
  {
   "cell_type": "markdown",
   "metadata": {},
   "source": [
    "The MSE is high, equivalent to a 5 day error in the delay prediction, so this is not a good model"
   ]
  },
  {
   "cell_type": "code",
   "execution_count": 16,
   "metadata": {},
   "outputs": [
    {
     "name": "stdout",
     "output_type": "stream",
     "text": [
      "Intercept: \n",
      " [-0.54923717]\n",
      "Coefficients: \n",
      " [[ -4.74795271  10.87563315  -2.12140543   2.94242338  -5.53027439\n",
      "   -0.09648804   0.09813509  -0.33993172   0.21697707   0.09137488\n",
      "    0.34963431  -0.22024572  -0.07417991  -0.30726827  -0.21807061\n",
      "   -0.39198945  -1.05564312   0.55016064   0.82747968   0.40775447]]\n"
     ]
    }
   ],
   "source": [
    "#get intercept and coefficients of the model\n",
    "print('Intercept: \\n', regr.intercept_)\n",
    "print('Coefficients: \\n', regr.coef_)"
   ]
  },
  {
   "cell_type": "markdown",
   "metadata": {},
   "source": [
    "** Assess Bias vs Variance of the model **"
   ]
  },
  {
   "cell_type": "code",
   "execution_count": 17,
   "metadata": {
    "collapsed": true
   },
   "outputs": [],
   "source": [
    "#get the list of the training set sizes\n",
    "s = 5\n",
    "cv = ShuffleSplit(n_splits=10, test_size=0.2, random_state=rand)\n",
    "m = len(training_X)  #number of training examples\n",
    "m_s = m/s*(s-1)\n",
    "l = range(10,int(np.round(m_s,0)))\n",
    "train_size = l[0::int(np.round(m_s/10,0))][1:]"
   ]
  },
  {
   "cell_type": "code",
   "execution_count": 18,
   "metadata": {
    "collapsed": true
   },
   "outputs": [],
   "source": [
    "#set up mean squared error as a scoring metric\n",
    "mse_scorer = make_scorer(mean_squared_error)"
   ]
  },
  {
   "cell_type": "code",
   "execution_count": 19,
   "metadata": {
    "collapsed": true
   },
   "outputs": [],
   "source": [
    "def learn_curve(model,X,y,train_size):\n",
    "    #Use full training set (train + validation and implement k-folds)\n",
    "    #create a learning curve: http://scikit-learn.org/stable/modules/generated/sklearn.model_selection.learning_curve.html#sklearn.model_selection.learning_curve\n",
    "    \n",
    "    train_sizes, train_scores, validation_scores = learning_curve(\n",
    "        model, X, y, train_sizes=train_size, cv = cv, \n",
    "        scoring = mse_scorer, random_state = rand)\n",
    "    #get the mean of the training and validation scores\n",
    "    train_scores_mean = np.mean(train_scores, axis=1)\n",
    "    validation_scores_mean = np.mean(validation_scores, axis=1)\n",
    "    #plot the chart\n",
    "    plt.figure()\n",
    "    plt.title('Learning Curve')\n",
    "    plt.xlabel(\"Training examples\")\n",
    "    plt.ylabel(\"MSE\")\n",
    "    plt.ticklabel_format(useOffset=False,style='plain')\n",
    "    #plt.ylim(6, 8)\n",
    "\n",
    "    plt.grid()\n",
    "\n",
    "    plt.plot(train_sizes, train_scores_mean, 'o-', color=\"r\",label=\"Training score\")\n",
    "    plt.plot(train_sizes, validation_scores_mean, 'o-', color=\"g\",label=\"Cross-validation score\")\n",
    "\n",
    "    plt.legend(loc=\"best\")"
   ]
  },
  {
   "cell_type": "code",
   "execution_count": 20,
   "metadata": {},
   "outputs": [
    {
     "data": {
      "image/png": "[encoded data removed]",
      "text/plain": [
       "<matplotlib.figure.Figure at 0xfcc3899ac8>"
      ]
     },
     "metadata": {},
     "output_type": "display_data"
    }
   ],
   "source": [
    "#plot the learning curve, with respect to training examples\n",
    "learn_curve(regr, training_X, training_y, train_size)"
   ]
  },
  {
   "cell_type": "markdown",
   "metadata": {},
   "source": [
    "The MSE is high for both the training and validations sets.\n",
    "\n",
    "This curve reflects high bias in the model, meaning that it underfits.\n",
    "Some ways to address high bias include: adding additional features, adding polynomial features, if a regularization parameter was used then decreasing the regularization parameter lambda (it was not used in this case).  \n",
    "\n",
    "**High Bias**: error will be high for the training set and the validation set   \n",
    "**High Variance**:  error will be low for the training set but much higher for the validation set  \n",
    "\n",
    "Addressing high bias: additional features, adding polynomial features, decreasing the regularization parameter lambda  \n",
    "Addressing high variance: additional training examples, smaller set of features, increase the regularization parameter lambda"
   ]
  },
  {
   "cell_type": "markdown",
   "metadata": {},
   "source": [
    "** Address bias in the model by adding polynomial features **"
   ]
  },
  {
   "cell_type": "code",
   "execution_count": 21,
   "metadata": {
    "collapsed": true
   },
   "outputs": [],
   "source": [
    "#get polynomial function of order 2\n",
    "poly = PolynomialFeatures(2)\n",
    "\n",
    "#interaction terms only\n",
    "#poly = PolynomialFeatures(degree=3, interaction_only=True)"
   ]
  },
  {
   "cell_type": "code",
   "execution_count": 22,
   "metadata": {
    "collapsed": true
   },
   "outputs": [],
   "source": [
    "#apply polynomial transform to get polynomial features\n",
    "train_polyFit = poly.fit_transform(train_X_scaled) \n",
    "validation_polyFit = poly.fit_transform(validation_X_scaled) \n",
    "training_polyFit =  poly.fit_transform(training_X_scaled) \n",
    "test_polyFit = poly.fit_transform(test_X_scaled)"
   ]
  },
  {
   "cell_type": "code",
   "execution_count": 23,
   "metadata": {},
   "outputs": [
    {
     "data": {
      "text/plain": [
       "((721, 231), (181, 231), (902, 231), (226, 231))"
      ]
     },
     "execution_count": 23,
     "metadata": {},
     "output_type": "execute_result"
    }
   ],
   "source": [
    "train_polyFit.shape, validation_polyFit.shape, training_polyFit.shape, test_polyFit.shape"
   ]
  },
  {
   "cell_type": "code",
   "execution_count": 24,
   "metadata": {},
   "outputs": [
    {
     "data": {
      "text/plain": [
       "['1',\n",
       " 'consignee_name_nunique',\n",
       " 'shipper_party_name_nunique',\n",
       " 'shipper_consigner_nunique',\n",
       " 'container_number_nunique',\n",
       " 'identifier_count',\n",
       " 'piece_count_sum',\n",
       " 'shipment_count',\n",
       " 'top5_carrier',\n",
       " 'month_est_1',\n",
       " 'month_est_2',\n",
       " 'month_est_3',\n",
       " 'month_est_4',\n",
       " 'month_est_5',\n",
       " 'month_est_6',\n",
       " 'month_est_7',\n",
       " 'month_est_8',\n",
       " 'month_est_9',\n",
       " 'month_est_10',\n",
       " 'month_est_11',\n",
       " 'month_est_12',\n",
       " 'consignee_name_nunique^2',\n",
       " 'consignee_name_nunique shipper_party_name_nunique',\n",
       " 'consignee_name_nunique shipper_consigner_nunique',\n",
       " 'consignee_name_nunique container_number_nunique',\n",
       " 'consignee_name_nunique identifier_count',\n",
       " 'consignee_name_nunique piece_count_sum',\n",
       " 'consignee_name_nunique shipment_count',\n",
       " 'consignee_name_nunique top5_carrier',\n",
       " 'consignee_name_nunique month_est_1',\n",
       " 'consignee_name_nunique month_est_2',\n",
       " 'consignee_name_nunique month_est_3',\n",
       " 'consignee_name_nunique month_est_4',\n",
       " 'consignee_name_nunique month_est_5',\n",
       " 'consignee_name_nunique month_est_6',\n",
       " 'consignee_name_nunique month_est_7',\n",
       " 'consignee_name_nunique month_est_8',\n",
       " 'consignee_name_nunique month_est_9',\n",
       " 'consignee_name_nunique month_est_10',\n",
       " 'consignee_name_nunique month_est_11',\n",
       " 'consignee_name_nunique month_est_12',\n",
       " 'shipper_party_name_nunique^2',\n",
       " 'shipper_party_name_nunique shipper_consigner_nunique',\n",
       " 'shipper_party_name_nunique container_number_nunique',\n",
       " 'shipper_party_name_nunique identifier_count',\n",
       " 'shipper_party_name_nunique piece_count_sum',\n",
       " 'shipper_party_name_nunique shipment_count',\n",
       " 'shipper_party_name_nunique top5_carrier',\n",
       " 'shipper_party_name_nunique month_est_1',\n",
       " 'shipper_party_name_nunique month_est_2',\n",
       " 'shipper_party_name_nunique month_est_3',\n",
       " 'shipper_party_name_nunique month_est_4',\n",
       " 'shipper_party_name_nunique month_est_5',\n",
       " 'shipper_party_name_nunique month_est_6',\n",
       " 'shipper_party_name_nunique month_est_7',\n",
       " 'shipper_party_name_nunique month_est_8',\n",
       " 'shipper_party_name_nunique month_est_9',\n",
       " 'shipper_party_name_nunique month_est_10',\n",
       " 'shipper_party_name_nunique month_est_11',\n",
       " 'shipper_party_name_nunique month_est_12',\n",
       " 'shipper_consigner_nunique^2',\n",
       " 'shipper_consigner_nunique container_number_nunique',\n",
       " 'shipper_consigner_nunique identifier_count',\n",
       " 'shipper_consigner_nunique piece_count_sum',\n",
       " 'shipper_consigner_nunique shipment_count',\n",
       " 'shipper_consigner_nunique top5_carrier',\n",
       " 'shipper_consigner_nunique month_est_1',\n",
       " 'shipper_consigner_nunique month_est_2',\n",
       " 'shipper_consigner_nunique month_est_3',\n",
       " 'shipper_consigner_nunique month_est_4',\n",
       " 'shipper_consigner_nunique month_est_5',\n",
       " 'shipper_consigner_nunique month_est_6',\n",
       " 'shipper_consigner_nunique month_est_7',\n",
       " 'shipper_consigner_nunique month_est_8',\n",
       " 'shipper_consigner_nunique month_est_9',\n",
       " 'shipper_consigner_nunique month_est_10',\n",
       " 'shipper_consigner_nunique month_est_11',\n",
       " 'shipper_consigner_nunique month_est_12',\n",
       " 'container_number_nunique^2',\n",
       " 'container_number_nunique identifier_count',\n",
       " 'container_number_nunique piece_count_sum',\n",
       " 'container_number_nunique shipment_count',\n",
       " 'container_number_nunique top5_carrier',\n",
       " 'container_number_nunique month_est_1',\n",
       " 'container_number_nunique month_est_2',\n",
       " 'container_number_nunique month_est_3',\n",
       " 'container_number_nunique month_est_4',\n",
       " 'container_number_nunique month_est_5',\n",
       " 'container_number_nunique month_est_6',\n",
       " 'container_number_nunique month_est_7',\n",
       " 'container_number_nunique month_est_8',\n",
       " 'container_number_nunique month_est_9',\n",
       " 'container_number_nunique month_est_10',\n",
       " 'container_number_nunique month_est_11',\n",
       " 'container_number_nunique month_est_12',\n",
       " 'identifier_count^2',\n",
       " 'identifier_count piece_count_sum',\n",
       " 'identifier_count shipment_count',\n",
       " 'identifier_count top5_carrier',\n",
       " 'identifier_count month_est_1',\n",
       " 'identifier_count month_est_2',\n",
       " 'identifier_count month_est_3',\n",
       " 'identifier_count month_est_4',\n",
       " 'identifier_count month_est_5',\n",
       " 'identifier_count month_est_6',\n",
       " 'identifier_count month_est_7',\n",
       " 'identifier_count month_est_8',\n",
       " 'identifier_count month_est_9',\n",
       " 'identifier_count month_est_10',\n",
       " 'identifier_count month_est_11',\n",
       " 'identifier_count month_est_12',\n",
       " 'piece_count_sum^2',\n",
       " 'piece_count_sum shipment_count',\n",
       " 'piece_count_sum top5_carrier',\n",
       " 'piece_count_sum month_est_1',\n",
       " 'piece_count_sum month_est_2',\n",
       " 'piece_count_sum month_est_3',\n",
       " 'piece_count_sum month_est_4',\n",
       " 'piece_count_sum month_est_5',\n",
       " 'piece_count_sum month_est_6',\n",
       " 'piece_count_sum month_est_7',\n",
       " 'piece_count_sum month_est_8',\n",
       " 'piece_count_sum month_est_9',\n",
       " 'piece_count_sum month_est_10',\n",
       " 'piece_count_sum month_est_11',\n",
       " 'piece_count_sum month_est_12',\n",
       " 'shipment_count^2',\n",
       " 'shipment_count top5_carrier',\n",
       " 'shipment_count month_est_1',\n",
       " 'shipment_count month_est_2',\n",
       " 'shipment_count month_est_3',\n",
       " 'shipment_count month_est_4',\n",
       " 'shipment_count month_est_5',\n",
       " 'shipment_count month_est_6',\n",
       " 'shipment_count month_est_7',\n",
       " 'shipment_count month_est_8',\n",
       " 'shipment_count month_est_9',\n",
       " 'shipment_count month_est_10',\n",
       " 'shipment_count month_est_11',\n",
       " 'shipment_count month_est_12',\n",
       " 'top5_carrier^2',\n",
       " 'top5_carrier month_est_1',\n",
       " 'top5_carrier month_est_2',\n",
       " 'top5_carrier month_est_3',\n",
       " 'top5_carrier month_est_4',\n",
       " 'top5_carrier month_est_5',\n",
       " 'top5_carrier month_est_6',\n",
       " 'top5_carrier month_est_7',\n",
       " 'top5_carrier month_est_8',\n",
       " 'top5_carrier month_est_9',\n",
       " 'top5_carrier month_est_10',\n",
       " 'top5_carrier month_est_11',\n",
       " 'top5_carrier month_est_12',\n",
       " 'month_est_1^2',\n",
       " 'month_est_1 month_est_2',\n",
       " 'month_est_1 month_est_3',\n",
       " 'month_est_1 month_est_4',\n",
       " 'month_est_1 month_est_5',\n",
       " 'month_est_1 month_est_6',\n",
       " 'month_est_1 month_est_7',\n",
       " 'month_est_1 month_est_8',\n",
       " 'month_est_1 month_est_9',\n",
       " 'month_est_1 month_est_10',\n",
       " 'month_est_1 month_est_11',\n",
       " 'month_est_1 month_est_12',\n",
       " 'month_est_2^2',\n",
       " 'month_est_2 month_est_3',\n",
       " 'month_est_2 month_est_4',\n",
       " 'month_est_2 month_est_5',\n",
       " 'month_est_2 month_est_6',\n",
       " 'month_est_2 month_est_7',\n",
       " 'month_est_2 month_est_8',\n",
       " 'month_est_2 month_est_9',\n",
       " 'month_est_2 month_est_10',\n",
       " 'month_est_2 month_est_11',\n",
       " 'month_est_2 month_est_12',\n",
       " 'month_est_3^2',\n",
       " 'month_est_3 month_est_4',\n",
       " 'month_est_3 month_est_5',\n",
       " 'month_est_3 month_est_6',\n",
       " 'month_est_3 month_est_7',\n",
       " 'month_est_3 month_est_8',\n",
       " 'month_est_3 month_est_9',\n",
       " 'month_est_3 month_est_10',\n",
       " 'month_est_3 month_est_11',\n",
       " 'month_est_3 month_est_12',\n",
       " 'month_est_4^2',\n",
       " 'month_est_4 month_est_5',\n",
       " 'month_est_4 month_est_6',\n",
       " 'month_est_4 month_est_7',\n",
       " 'month_est_4 month_est_8',\n",
       " 'month_est_4 month_est_9',\n",
       " 'month_est_4 month_est_10',\n",
       " 'month_est_4 month_est_11',\n",
       " 'month_est_4 month_est_12',\n",
       " 'month_est_5^2',\n",
       " 'month_est_5 month_est_6',\n",
       " 'month_est_5 month_est_7',\n",
       " 'month_est_5 month_est_8',\n",
       " 'month_est_5 month_est_9',\n",
       " 'month_est_5 month_est_10',\n",
       " 'month_est_5 month_est_11',\n",
       " 'month_est_5 month_est_12',\n",
       " 'month_est_6^2',\n",
       " 'month_est_6 month_est_7',\n",
       " 'month_est_6 month_est_8',\n",
       " 'month_est_6 month_est_9',\n",
       " 'month_est_6 month_est_10',\n",
       " 'month_est_6 month_est_11',\n",
       " 'month_est_6 month_est_12',\n",
       " 'month_est_7^2',\n",
       " 'month_est_7 month_est_8',\n",
       " 'month_est_7 month_est_9',\n",
       " 'month_est_7 month_est_10',\n",
       " 'month_est_7 month_est_11',\n",
       " 'month_est_7 month_est_12',\n",
       " 'month_est_8^2',\n",
       " 'month_est_8 month_est_9',\n",
       " 'month_est_8 month_est_10',\n",
       " 'month_est_8 month_est_11',\n",
       " 'month_est_8 month_est_12',\n",
       " 'month_est_9^2',\n",
       " 'month_est_9 month_est_10',\n",
       " 'month_est_9 month_est_11',\n",
       " 'month_est_9 month_est_12',\n",
       " 'month_est_10^2',\n",
       " 'month_est_10 month_est_11',\n",
       " 'month_est_10 month_est_12',\n",
       " 'month_est_11^2',\n",
       " 'month_est_11 month_est_12',\n",
       " 'month_est_12^2']"
      ]
     },
     "execution_count": 24,
     "metadata": {},
     "output_type": "execute_result"
    }
   ],
   "source": [
    "#View features\n",
    "poly_features = poly.fit(training_X_scaled)\n",
    "poly_features.get_feature_names(X.columns)"
   ]
  },
  {
   "cell_type": "code",
   "execution_count": 25,
   "metadata": {
    "collapsed": true
   },
   "outputs": [],
   "source": [
    "#save all sets to a file to use the same sets in other models\n",
    "np.save('D:/CUNY Files/capstone/code files/train_polyFit_v.npy', train_polyFit)"
   ]
  },
  {
   "cell_type": "code",
   "execution_count": 26,
   "metadata": {
    "collapsed": true
   },
   "outputs": [],
   "source": [
    "np.save('D:/CUNY Files/capstone/code files/validation_polyFit_v.npy', validation_polyFit)"
   ]
  },
  {
   "cell_type": "code",
   "execution_count": 27,
   "metadata": {
    "collapsed": true
   },
   "outputs": [],
   "source": [
    "np.save('D:/CUNY Files/capstone/code files/training_polyFit_v.npy',training_polyFit)"
   ]
  },
  {
   "cell_type": "code",
   "execution_count": 28,
   "metadata": {
    "collapsed": true
   },
   "outputs": [],
   "source": [
    "np.save('D:/CUNY Files/capstone/code files/test_polyFit_v.npy',test_polyFit)"
   ]
  },
  {
   "cell_type": "markdown",
   "metadata": {},
   "source": [
    "** Implement a Linear Regression with scaled polynomial features, without regularization **"
   ]
  },
  {
   "cell_type": "code",
   "execution_count": 29,
   "metadata": {
    "collapsed": true
   },
   "outputs": [],
   "source": [
    "#create a linear regression\n",
    "regr_poly = linear_model.LinearRegression(fit_intercept=True, normalize=False, copy_X=True, n_jobs=1)"
   ]
  },
  {
   "cell_type": "code",
   "execution_count": 30,
   "metadata": {},
   "outputs": [
    {
     "data": {
      "text/plain": [
       "LinearRegression(copy_X=True, fit_intercept=True, n_jobs=1, normalize=False)"
      ]
     },
     "execution_count": 30,
     "metadata": {},
     "output_type": "execute_result"
    }
   ],
   "source": [
    "#fit the regression model\n",
    "regr_poly.fit(train_polyFit, train_y)"
   ]
  },
  {
   "cell_type": "code",
   "execution_count": 31,
   "metadata": {},
   "outputs": [
    {
     "name": "stdout",
     "output_type": "stream",
     "text": [
      "Intercept: \n",
      " [ -7.65623235e+11]\n",
      "Coefficients: \n",
      " [[ -1.67107811e-11   8.07728396e+00   1.31058268e+01  -1.70236065e+01\n",
      "    1.27353891e+01  -3.36803627e+00   1.27046243e+00  -2.44740707e+01\n",
      "    5.06420027e+10  -4.89256885e+10   1.30247635e+11   1.23485657e+11\n",
      "   -4.67536886e+10  -4.52979746e+10   4.02491632e+09  -4.57044799e+10\n",
      "    4.67506332e+09  -6.98816208e+10  -6.08941211e+10  -3.61541551e+10\n",
      "    9.80646387e+10  -8.44268503e+01   1.50729887e+02   3.01611302e+01\n",
      "    5.63083196e+00  -1.42541037e+01  -1.92153778e+01  -2.47094303e-01\n",
      "   -3.86533260e+00   6.01059011e+08   5.71830342e+08   5.54109602e+08\n",
      "    6.24510541e+08   5.80402657e+08   6.35737008e+08   5.67473834e+08\n",
      "    5.76139596e+08   5.58614642e+08   5.40277655e+08   5.21042940e+08\n",
      "    5.16082335e+08  -1.50602445e+02   1.53361579e+02  -3.93432754e+01\n",
      "    3.96844027e+01  -2.16174936e+01   1.84241145e+01   5.87131023e+00\n",
      "    8.14281614e+07   7.74684179e+07   7.50677150e+07   8.46052476e+07\n",
      "    7.86297466e+07   8.61261461e+07   7.68782304e+07   7.80522100e+07\n",
      "    7.56780410e+07   7.31938354e+07   7.05880362e+07   6.99159886e+07\n",
      "   -1.07227295e+02   2.36236327e+01  -1.22402089e+01   4.12279862e+01\n",
      "   -7.73754096e+00   1.69597340e+00  -2.78547537e+08  -2.65002154e+08\n",
      "   -2.56789871e+08  -2.89415635e+08  -2.68974801e+08  -2.94618296e+08\n",
      "   -2.62983235e+08  -2.66999179e+08  -2.58877648e+08  -2.50379759e+08\n",
      "   -2.41465867e+08  -2.39166976e+08  -3.87645650e+00   1.38329816e+01\n",
      "    7.13918972e+00  -6.71541655e+00   1.57362938e+00   2.26587586e+08\n",
      "    2.15568943e+08   2.08888567e+08   2.35428359e+08   2.18800540e+08\n",
      "    2.39660518e+08   2.13926623e+08   2.17193451e+08   2.10586887e+08\n",
      "    2.03674193e+08   1.96423076e+08   1.94553026e+08  -1.21068277e+01\n",
      "   -2.51892662e+00   4.81286621e+00  -2.58518600e+00  -2.17582534e+08\n",
      "   -2.07001793e+08  -2.00586914e+08  -2.26071956e+08  -2.10104962e+08\n",
      "   -2.30135916e+08  -2.05424747e+08  -2.08561739e+08  -2.02217721e+08\n",
      "   -1.95579764e+08  -1.88616829e+08  -1.86821090e+08   2.24678695e+00\n",
      "   -9.65067642e+00   6.98288560e-01   1.47437705e+09   1.40268012e+09\n",
      "    1.35921176e+09   1.53190284e+09   1.42370772e+09   1.55944097e+09\n",
      "    1.39199376e+09   1.41325058e+09   1.37026244e+09   1.32528247e+09\n",
      "    1.27810038e+09   1.26593218e+09   5.53817844e+00  -3.97973061e+00\n",
      "   -4.77663975e+08  -4.54435834e+08  -4.40353087e+08  -4.96300999e+08\n",
      "   -4.61248286e+08  -5.05222719e+08  -4.50973695e+08  -4.57860418e+08\n",
      "   -4.43933288e+08  -4.29360791e+08  -4.14074879e+08  -4.10132675e+08\n",
      "   -1.56719301e+11   7.51558861e+08   7.15011586e+08   6.92853732e+08\n",
      "    7.80882441e+08   7.25730335e+08   7.94919915e+08   7.09564248e+08\n",
      "    7.20399843e+08   6.98486782e+08   6.75558388e+08   6.51507473e+08\n",
      "    6.45304770e+08   1.09474085e+11  -2.66694467e+10  -4.96949049e+10\n",
      "   -1.49545391e+10   5.68736497e+10   3.98849768e+10   1.59862326e+09\n",
      "   -3.19950166e+09   1.66482367e+10   2.33945221e+10   3.94811800e+10\n",
      "   -4.80007818e+10  -8.88466032e+09  -9.35903300e+10  -3.50689425e+10\n",
      "    8.17166417e+08  -1.51625894e+10  -8.15489357e+10  -6.91032036e+10\n",
      "   -1.77250868e+09  -5.97799077e+10  -6.49906129e+09  -4.98956179e+10\n",
      "   -1.19083410e+10  -5.97438046e+10  -4.35269013e+10  -3.41486588e+10\n",
      "   -8.04487753e+09  -4.85813326e+09  -5.85748396e+10  -4.64089266e+10\n",
      "    6.06120155e+09  -7.03820166e+10   1.22977902e+11   2.01238603e+10\n",
      "    4.37994152e+10   1.99229599e+10   9.11748219e+08   2.12472043e+10\n",
      "    2.54833794e+10   4.72838195e+10   8.54627582e+09   1.10640384e+11\n",
      "    1.17860845e+10   5.04756067e+09   3.46661655e+10   2.62555271e+10\n",
      "    2.08449713e+10   3.52605314e+10  -2.77913338e+10   1.04823442e+11\n",
      "   -4.73095389e+09  -3.29424710e+09   7.44230304e+10  -2.11197875e+10\n",
      "   -2.30548096e+09  -5.90350970e+10   9.60526309e+10  -7.93739813e+09\n",
      "    5.91145767e+10   6.66172810e+10  -2.18525441e+09   8.23321878e+09\n",
      "    8.04174346e+10   3.00524909e+10   4.84180711e+10   1.88919709e+10\n",
      "   -8.95269307e+09   1.18856401e+11   2.19643174e+10   5.58852635e+10\n",
      "   -1.45115606e+10   9.43806534e+10   2.79096756e+09   4.98557813e+09\n",
      "    8.69772953e+10  -4.12547780e+10   6.27231396e+09]]\n"
     ]
    }
   ],
   "source": [
    "#get intercept and coefficients\n",
    "print('Intercept: \\n', regr_poly.intercept_)\n",
    "print('Coefficients: \\n', regr_poly.coef_)"
   ]
  },
  {
   "cell_type": "markdown",
   "metadata": {},
   "source": [
    "** Evaluate the model with polynomial features **"
   ]
  },
  {
   "cell_type": "code",
   "execution_count": 32,
   "metadata": {
    "collapsed": true
   },
   "outputs": [],
   "source": [
    "#predict the target values of the validation set using the model\n",
    "validation_y_poly_pred = regr_poly.predict(validation_polyFit)"
   ]
  },
  {
   "cell_type": "code",
   "execution_count": 35,
   "metadata": {},
   "outputs": [
    {
     "data": {
      "text/plain": [
       "45.409999999999997"
      ]
     },
     "execution_count": 35,
     "metadata": {},
     "output_type": "execute_result"
    }
   ],
   "source": [
    "#Evaluate the MSE on the validation set\n",
    "round(mean_squared_error(validation_y, validation_y_poly_pred),2)"
   ]
  },
  {
   "cell_type": "markdown",
   "metadata": {},
   "source": [
    "The error is higher than in the non-polynomial regression  \n",
    "try regularization with ridge regression and then Lasso Regression"
   ]
  },
  {
   "cell_type": "markdown",
   "metadata": {},
   "source": [
    "** Regularize with Ridge Regression (Linear least squares with l2 regularization) **"
   ]
  },
  {
   "cell_type": "code",
   "execution_count": 36,
   "metadata": {
    "collapsed": true
   },
   "outputs": [],
   "source": [
    "#set up the ridge model\n",
    "ridge = Ridge(alpha=1.0, fit_intercept=True, normalize=True, copy_X=True, max_iter=1000, tol=0.001, solver='auto', random_state=rand)"
   ]
  },
  {
   "cell_type": "code",
   "execution_count": 37,
   "metadata": {},
   "outputs": [
    {
     "data": {
      "text/plain": [
       "Ridge(alpha=1.0, copy_X=True, fit_intercept=True, max_iter=1000,\n",
       "   normalize=True, random_state=15, solver='auto', tol=0.001)"
      ]
     },
     "execution_count": 37,
     "metadata": {},
     "output_type": "execute_result"
    }
   ],
   "source": [
    "#fit the ridge model\n",
    "ridge.fit(train_polyFit, train_y)"
   ]
  },
  {
   "cell_type": "markdown",
   "metadata": {},
   "source": [
    "** Evaluate the ridge model **"
   ]
  },
  {
   "cell_type": "code",
   "execution_count": 38,
   "metadata": {
    "collapsed": true
   },
   "outputs": [],
   "source": [
    "#predict the target values of the validation set using the model\n",
    "validation_y_ridge_pred = ridge.predict(validation_polyFit)"
   ]
  },
  {
   "cell_type": "code",
   "execution_count": 39,
   "metadata": {},
   "outputs": [
    {
     "data": {
      "text/plain": [
       "27.82"
      ]
     },
     "execution_count": 39,
     "metadata": {},
     "output_type": "execute_result"
    }
   ],
   "source": [
    "#Evaluate the MSE on the validation set\n",
    "round(mean_squared_error(validation_y, validation_y_ridge_pred),2)"
   ]
  },
  {
   "cell_type": "markdown",
   "metadata": {},
   "source": [
    "This is slightly higher than linear regression without polynomials"
   ]
  },
  {
   "cell_type": "markdown",
   "metadata": {},
   "source": [
    "** Regularize with Lasso Regression (Linear Model trained with L1 prior as regularizer) **"
   ]
  },
  {
   "cell_type": "code",
   "execution_count": 40,
   "metadata": {
    "collapsed": true
   },
   "outputs": [],
   "source": [
    "#set up the lasso model\n",
    "lasso = Lasso(alpha=1.0, fit_intercept=True, normalize=True, precompute=False, copy_X=True, max_iter=2500, tol=0.0001, warm_start=False, positive=False, random_state=rand, selection='cyclic')"
   ]
  },
  {
   "cell_type": "code",
   "execution_count": 41,
   "metadata": {},
   "outputs": [
    {
     "data": {
      "text/plain": [
       "Lasso(alpha=1.0, copy_X=True, fit_intercept=True, max_iter=2500,\n",
       "   normalize=True, positive=False, precompute=False, random_state=15,\n",
       "   selection='cyclic', tol=0.0001, warm_start=False)"
      ]
     },
     "execution_count": 41,
     "metadata": {},
     "output_type": "execute_result"
    }
   ],
   "source": [
    "#fit the lasso model\n",
    "lasso.fit(train_polyFit, train_y)"
   ]
  },
  {
   "cell_type": "markdown",
   "metadata": {},
   "source": [
    "** Evaluate the Lasso model **"
   ]
  },
  {
   "cell_type": "code",
   "execution_count": 42,
   "metadata": {
    "collapsed": true
   },
   "outputs": [],
   "source": [
    "#predict the target values of the validation set using the model\n",
    "validation_y_lasso_pred = lasso.predict(validation_polyFit)"
   ]
  },
  {
   "cell_type": "code",
   "execution_count": 43,
   "metadata": {},
   "outputs": [
    {
     "data": {
      "text/plain": [
       "27.260000000000002"
      ]
     },
     "execution_count": 43,
     "metadata": {},
     "output_type": "execute_result"
    }
   ],
   "source": [
    "#Evaluate the MSE on the validation set\n",
    "round(mean_squared_error(validation_y, validation_y_lasso_pred),2)"
   ]
  },
  {
   "cell_type": "markdown",
   "metadata": {},
   "source": [
    "The MSE is slightly lower than the non-polynomial regression and ridege regression"
   ]
  },
  {
   "cell_type": "markdown",
   "metadata": {},
   "source": [
    "** Consider alternate values of alpha (regularization strength) for the Ridge regularization **"
   ]
  },
  {
   "cell_type": "code",
   "execution_count": 44,
   "metadata": {
    "collapsed": true
   },
   "outputs": [],
   "source": [
    "def valid_curve(model,X,y):\n",
    "    #Use full training set (train + validation and implement k-folds)\n",
    "    #create a learning curve: http://scikit-learn.org/stable/modules/generated/sklearn.model_selection.learning_curve.html#sklearn.model_selection.learning_curve\n",
    "    train_scores, validation_scores = validation_curve(\n",
    "        model, X, y, param_name = \"alpha\", \n",
    "        param_range = alpha_range, groups=None, cv=cv, \n",
    "        scoring= mse_scorer, n_jobs=1, pre_dispatch='all', verbose=0)\n",
    "    #get the mean of the training and validation scores\n",
    "    train_scores_mean = np.mean(train_scores, axis=1)\n",
    "    validation_scores_mean = np.mean(validation_scores, axis=1)\n",
    "    #plot the chart\n",
    "    plt.figure()\n",
    "    plt.title('Validation Curve')\n",
    "    plt.xlabel(\"Alpha - regularization strength\")\n",
    "    plt.ylabel(\"MSE\")\n",
    "    plt.ticklabel_format(useOffset=False,style='plain')\n",
    "    #plt.ylim(6, 8)\n",
    "\n",
    "    plt.grid()\n",
    "\n",
    "    plt.plot(alpha_range, train_scores_mean, 'o-', color=\"r\",label=\"Training score\")\n",
    "    plt.plot(alpha_range, validation_scores_mean, 'o-', color=\"g\",label=\"Cross-validation score\")\n",
    "\n",
    "    plt.legend(loc=\"best\")"
   ]
  },
  {
   "cell_type": "code",
   "execution_count": 45,
   "metadata": {},
   "outputs": [
    {
     "data": {
      "text/plain": [
       "array([ 0.1,  0.3,  0.5,  0.7,  0.9,  1.1,  1.3,  1.5,  1.7,  1.9,  2.1,\n",
       "        2.3,  2.5,  2.7,  2.9,  3.1,  3.3,  3.5,  3.7,  3.9,  4.1,  4.3,\n",
       "        4.5,  4.7,  4.9,  5.1,  5.3,  5.5,  5.7,  5.9,  6.1,  6.3,  6.5,\n",
       "        6.7,  6.9,  7.1,  7.3,  7.5,  7.7,  7.9,  8.1,  8.3,  8.5,  8.7,\n",
       "        8.9,  9.1,  9.3,  9.5,  9.7,  9.9])"
      ]
     },
     "execution_count": 45,
     "metadata": {},
     "output_type": "execute_result"
    }
   ],
   "source": [
    "#set up the range for alpha values\n",
    "alpha_range = np.arange(0.1, 10, 0.2)\n",
    "alpha_range"
   ]
  },
  {
   "cell_type": "code",
   "execution_count": 46,
   "metadata": {},
   "outputs": [
    {
     "data": {
      "image/png": "[encoded data removed]",
      "text/plain": [
       "<matplotlib.figure.Figure at 0xfcc3ad5978>"
      ]
     },
     "metadata": {},
     "output_type": "display_data"
    }
   ],
   "source": [
    "#plot the validation curve with a range of alpha values\n",
    "valid_curve(ridge, training_polyFit, training_y)"
   ]
  },
  {
   "cell_type": "code",
   "execution_count": 47,
   "metadata": {},
   "outputs": [
    {
     "data": {
      "image/png": "[encoded data removed]",
      "text/plain": [
       "<matplotlib.figure.Figure at 0xfcc3ca5908>"
      ]
     },
     "metadata": {},
     "output_type": "display_data"
    }
   ],
   "source": [
    "#plot the validation curve with a range of alpha values\n",
    "valid_curve(lasso, training_polyFit, training_y)"
   ]
  },
  {
   "cell_type": "markdown",
   "metadata": {},
   "source": [
    "The training and validation set MSE are pretty close for all values of alpha, reducing alpha to 0.1 would reduce the MSE slightly, but there aren't large differences between alpha = 0.1 and alpha = 1.0"
   ]
  },
  {
   "cell_type": "markdown",
   "metadata": {},
   "source": [
    "** Test the model on the test set **"
   ]
  },
  {
   "cell_type": "code",
   "execution_count": 48,
   "metadata": {
    "collapsed": true
   },
   "outputs": [],
   "source": [
    "#predict the target values of the validation set using the model\n",
    "test_y_pred = regr.predict(test_X_scaled)"
   ]
  },
  {
   "cell_type": "code",
   "execution_count": 49,
   "metadata": {},
   "outputs": [
    {
     "data": {
      "text/plain": [
       "27.5"
      ]
     },
     "execution_count": 49,
     "metadata": {},
     "output_type": "execute_result"
    }
   ],
   "source": [
    "#Evaluate the MSE on the validation set\n",
    "round(mean_squared_error(test_y, test_y_pred),2)"
   ]
  },
  {
   "cell_type": "markdown",
   "metadata": {},
   "source": [
    "** Save the model to test later **"
   ]
  },
  {
   "cell_type": "code",
   "execution_count": null,
   "metadata": {
    "collapsed": true
   },
   "outputs": [],
   "source": [
    "# save the model\n",
    "filename = 'ridge_polynomial_regresion.sav'\n",
    "pickle.dump(ridge, open(filename, 'wb'))"
   ]
  },
  {
   "cell_type": "code",
   "execution_count": null,
   "metadata": {
    "collapsed": true
   },
   "outputs": [],
   "source": [
    "'''\n",
    "to reload model:\n",
    "# load the model from disk\n",
    "filename = 'ridge_polynomial_regresion.sav'\n",
    "loaded_model = pickle.load(open(filename, 'rb'))\n",
    "result = loaded_model.score(X_test, y_test)\n",
    "print(result)\n",
    "'''"
   ]
  }
 ],
 "metadata": {
  "kernelspec": {
   "display_name": "Python 3",
   "language": "python",
   "name": "python3"
  },
  "language_info": {
   "codemirror_mode": {
    "name": "ipython",
    "version": 3
   },
   "file_extension": ".py",
   "mimetype": "text/x-python",
   "name": "python",
   "nbconvert_exporter": "python",
   "pygments_lexer": "ipython3",
   "version": "3.6.3"
  }
 },
 "nbformat": 4,
 "nbformat_minor": 2
}
