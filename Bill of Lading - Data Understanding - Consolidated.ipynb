{
 "cells": [
  {
   "cell_type": "markdown",
   "metadata": {},
   "source": [
    "# Using Predictive Analytics to Predict Delays in Maritime Container Shipping"
   ]
  },
  {
   "cell_type": "code",
   "execution_count": 1,
   "metadata": {
    "collapsed": true
   },
   "outputs": [],
   "source": [
    "%matplotlib inline"
   ]
  },
  {
   "cell_type": "markdown",
   "metadata": {},
   "source": [
    "**Import Libraries**"
   ]
  },
  {
   "cell_type": "code",
   "execution_count": 2,
   "metadata": {
    "collapsed": true
   },
   "outputs": [],
   "source": [
    "import csv\n",
    "import pandas as pd\n",
    "import numpy as np\n",
    "from datetime import datetime, timedelta\n",
    "\n",
    "import pylab \n",
    "import scipy.stats as stats\n",
    "import matplotlib.pyplot as plt\n",
    "import seaborn as sns\n",
    "\n",
    "from fuzzywuzzy import fuzz\n",
    "\n",
    "import warnings\n",
    "#https://github.com/pandas-dev/pandas/issues/8509\n",
    "warnings.filterwarnings('ignore', 'numpy not_equal will not check object identity in the future')\n",
    "\n",
    "#http://pythondata.com/dask-large-csv-python/\n",
    "#import dask.dataframe as dd\n",
    " \n",
    "#from collections import Counter\n",
    "#from patsy import dmatrices\n",
    "#import statsmodels.api as sm\n",
    "\n",
    "#https://www.dataquest.io/blog/pandas-big-data/"
   ]
  },
  {
   "cell_type": "markdown",
   "metadata": {},
   "source": [
    "## ** Consider Original Dataset **"
   ]
  },
  {
   "cell_type": "code",
   "execution_count": 3,
   "metadata": {
    "collapsed": true
   },
   "outputs": [],
   "source": [
    "#View original dataframe\n",
    "df_orig = pd.read_pickle('2014_data.pkl')"
   ]
  },
  {
   "cell_type": "code",
   "execution_count": 4,
   "metadata": {},
   "outputs": [
    {
     "name": "stdout",
     "output_type": "stream",
     "text": [
      "(10816209, 24)\n"
     ]
    },
    {
     "data": {
      "text/html": [
       "<div>\n",
       "<style>\n",
       "    .dataframe thead tr:only-child th {\n",
       "        text-align: right;\n",
       "    }\n",
       "\n",
       "    .dataframe thead th {\n",
       "        text-align: left;\n",
       "    }\n",
       "\n",
       "    .dataframe tbody tr th {\n",
       "        vertical-align: top;\n",
       "    }\n",
       "</style>\n",
       "<table border=\"1\" class=\"dataframe\">\n",
       "  <thead>\n",
       "    <tr style=\"text-align: right;\">\n",
       "      <th></th>\n",
       "      <th>identifier</th>\n",
       "      <th>trade_update_date</th>\n",
       "      <th>run_date</th>\n",
       "      <th>vessel_name</th>\n",
       "      <th>port_of_unlading</th>\n",
       "      <th>estimated_arrival_date</th>\n",
       "      <th>foreign_port_of_lading</th>\n",
       "      <th>record_status_indicator</th>\n",
       "      <th>place_of_receipt</th>\n",
       "      <th>port_of_destination</th>\n",
       "      <th>...</th>\n",
       "      <th>container_number</th>\n",
       "      <th>description_sequence_number</th>\n",
       "      <th>piece_count</th>\n",
       "      <th>description_text</th>\n",
       "      <th>carrier</th>\n",
       "      <th>day_of_week_est</th>\n",
       "      <th>day_of_week_act</th>\n",
       "      <th>month_est</th>\n",
       "      <th>month_act</th>\n",
       "      <th>delay_days</th>\n",
       "    </tr>\n",
       "  </thead>\n",
       "  <tbody>\n",
       "    <tr>\n",
       "      <th>0</th>\n",
       "      <td>2014082158845</td>\n",
       "      <td>2014-07-30</td>\n",
       "      <td>2014-08-21</td>\n",
       "      <td>HYUNDAI FORCE</td>\n",
       "      <td>Seattle, Washington</td>\n",
       "      <td>2014-08-14</td>\n",
       "      <td>Pusan,South Korea</td>\n",
       "      <td>New</td>\n",
       "      <td>XINGANG, PC</td>\n",
       "      <td>NaN</td>\n",
       "      <td>...</td>\n",
       "      <td>TGHU8036820</td>\n",
       "      <td>1</td>\n",
       "      <td>7881</td>\n",
       "      <td>IKEA HOME FURNISHING PRODUCTS TARIFF NUMBER 44...</td>\n",
       "      <td>HYUNDAI</td>\n",
       "      <td>3</td>\n",
       "      <td>1</td>\n",
       "      <td>8</td>\n",
       "      <td>8</td>\n",
       "      <td>5</td>\n",
       "    </tr>\n",
       "    <tr>\n",
       "      <th>1</th>\n",
       "      <td>2014082158905</td>\n",
       "      <td>2014-07-30</td>\n",
       "      <td>2014-08-21</td>\n",
       "      <td>HYUNDAI FORCE</td>\n",
       "      <td>Seattle, Washington</td>\n",
       "      <td>2014-08-14</td>\n",
       "      <td>Pusan,South Korea</td>\n",
       "      <td>New</td>\n",
       "      <td>XINGANG, PC</td>\n",
       "      <td>NaN</td>\n",
       "      <td>...</td>\n",
       "      <td>APZU3172532</td>\n",
       "      <td>1</td>\n",
       "      <td>80</td>\n",
       "      <td>KLA-GARD PACKED ON 60 PALLETS -DRILLING MUD AD...</td>\n",
       "      <td>HYUNDAI</td>\n",
       "      <td>3</td>\n",
       "      <td>1</td>\n",
       "      <td>8</td>\n",
       "      <td>8</td>\n",
       "      <td>5</td>\n",
       "    </tr>\n",
       "    <tr>\n",
       "      <th>2</th>\n",
       "      <td>2014082158905</td>\n",
       "      <td>2014-07-30</td>\n",
       "      <td>2014-08-21</td>\n",
       "      <td>HYUNDAI FORCE</td>\n",
       "      <td>Seattle, Washington</td>\n",
       "      <td>2014-08-14</td>\n",
       "      <td>Pusan,South Korea</td>\n",
       "      <td>New</td>\n",
       "      <td>XINGANG, PC</td>\n",
       "      <td>NaN</td>\n",
       "      <td>...</td>\n",
       "      <td>APZU3599329</td>\n",
       "      <td>1</td>\n",
       "      <td>80</td>\n",
       "      <td>KLA-GARD PACKED ON 60 PALLETS -DRILLING MUD AD...</td>\n",
       "      <td>HYUNDAI</td>\n",
       "      <td>3</td>\n",
       "      <td>1</td>\n",
       "      <td>8</td>\n",
       "      <td>8</td>\n",
       "      <td>5</td>\n",
       "    </tr>\n",
       "    <tr>\n",
       "      <th>3</th>\n",
       "      <td>2014082158905</td>\n",
       "      <td>2014-07-30</td>\n",
       "      <td>2014-08-21</td>\n",
       "      <td>HYUNDAI FORCE</td>\n",
       "      <td>Seattle, Washington</td>\n",
       "      <td>2014-08-14</td>\n",
       "      <td>Pusan,South Korea</td>\n",
       "      <td>New</td>\n",
       "      <td>XINGANG, PC</td>\n",
       "      <td>NaN</td>\n",
       "      <td>...</td>\n",
       "      <td>TRLU3176120</td>\n",
       "      <td>1</td>\n",
       "      <td>80</td>\n",
       "      <td>KLA-GARD PACKED ON 60 PALLETS -DRILLING MUD AD...</td>\n",
       "      <td>HYUNDAI</td>\n",
       "      <td>3</td>\n",
       "      <td>1</td>\n",
       "      <td>8</td>\n",
       "      <td>8</td>\n",
       "      <td>5</td>\n",
       "    </tr>\n",
       "    <tr>\n",
       "      <th>4</th>\n",
       "      <td>2014082158983</td>\n",
       "      <td>2014-08-06</td>\n",
       "      <td>2014-08-21</td>\n",
       "      <td>OOCL SHENZHEN</td>\n",
       "      <td>Long Beach, California</td>\n",
       "      <td>2014-08-19</td>\n",
       "      <td>Yantian,China (Mainland)</td>\n",
       "      <td>New</td>\n",
       "      <td>YANTIAN,CHINA</td>\n",
       "      <td>NaN</td>\n",
       "      <td>...</td>\n",
       "      <td>OOLU1064780</td>\n",
       "      <td>1</td>\n",
       "      <td>498</td>\n",
       "      <td>P.O.NO.050803/050938/051058/051197/051345/051 ...</td>\n",
       "      <td>OOCL</td>\n",
       "      <td>1</td>\n",
       "      <td>2</td>\n",
       "      <td>8</td>\n",
       "      <td>8</td>\n",
       "      <td>1</td>\n",
       "    </tr>\n",
       "  </tbody>\n",
       "</table>\n",
       "<p>5 rows × 24 columns</p>\n",
       "</div>"
      ],
      "text/plain": [
       "      identifier trade_update_date   run_date    vessel_name  \\\n",
       "0  2014082158845        2014-07-30 2014-08-21  HYUNDAI FORCE   \n",
       "1  2014082158905        2014-07-30 2014-08-21  HYUNDAI FORCE   \n",
       "2  2014082158905        2014-07-30 2014-08-21  HYUNDAI FORCE   \n",
       "3  2014082158905        2014-07-30 2014-08-21  HYUNDAI FORCE   \n",
       "4  2014082158983        2014-08-06 2014-08-21  OOCL SHENZHEN   \n",
       "\n",
       "         port_of_unlading estimated_arrival_date    foreign_port_of_lading  \\\n",
       "0     Seattle, Washington             2014-08-14         Pusan,South Korea   \n",
       "1     Seattle, Washington             2014-08-14         Pusan,South Korea   \n",
       "2     Seattle, Washington             2014-08-14         Pusan,South Korea   \n",
       "3     Seattle, Washington             2014-08-14         Pusan,South Korea   \n",
       "4  Long Beach, California             2014-08-19  Yantian,China (Mainland)   \n",
       "\n",
       "  record_status_indicator place_of_receipt port_of_destination     ...      \\\n",
       "0                     New      XINGANG, PC                 NaN     ...       \n",
       "1                     New      XINGANG, PC                 NaN     ...       \n",
       "2                     New      XINGANG, PC                 NaN     ...       \n",
       "3                     New      XINGANG, PC                 NaN     ...       \n",
       "4                     New    YANTIAN,CHINA                 NaN     ...       \n",
       "\n",
       "  container_number description_sequence_number piece_count  \\\n",
       "0      TGHU8036820                           1        7881   \n",
       "1      APZU3172532                           1          80   \n",
       "2      APZU3599329                           1          80   \n",
       "3      TRLU3176120                           1          80   \n",
       "4      OOLU1064780                           1         498   \n",
       "\n",
       "                                    description_text  carrier  \\\n",
       "0  IKEA HOME FURNISHING PRODUCTS TARIFF NUMBER 44...  HYUNDAI   \n",
       "1  KLA-GARD PACKED ON 60 PALLETS -DRILLING MUD AD...  HYUNDAI   \n",
       "2  KLA-GARD PACKED ON 60 PALLETS -DRILLING MUD AD...  HYUNDAI   \n",
       "3  KLA-GARD PACKED ON 60 PALLETS -DRILLING MUD AD...  HYUNDAI   \n",
       "4  P.O.NO.050803/050938/051058/051197/051345/051 ...     OOCL   \n",
       "\n",
       "   day_of_week_est  day_of_week_act month_est month_act  delay_days  \n",
       "0                3                1         8         8           5  \n",
       "1                3                1         8         8           5  \n",
       "2                3                1         8         8           5  \n",
       "3                3                1         8         8           5  \n",
       "4                1                2         8         8           1  \n",
       "\n",
       "[5 rows x 24 columns]"
      ]
     },
     "execution_count": 4,
     "metadata": {},
     "output_type": "execute_result"
    }
   ],
   "source": [
    "#check the import\n",
    "print df_orig.shape\n",
    "df_orig.head()"
   ]
  },
  {
   "cell_type": "code",
   "execution_count": 5,
   "metadata": {
    "collapsed": true
   },
   "outputs": [],
   "source": [
    "#Add a month column for estimated arrival date and actual arrival date\n",
    "df_orig['month_est'] = df_orig.estimated_arrival_date.dt.month\n",
    "df_orig['month_act'] = df_orig.actual_arrival_date.dt.month"
   ]
  },
  {
   "cell_type": "code",
   "execution_count": 6,
   "metadata": {
    "collapsed": true
   },
   "outputs": [],
   "source": [
    "temp = df_orig[(df_orig.month_act == 3) & (df_orig.vessel_name.str.contains('OAKLAND EXPRESS'))]"
   ]
  },
  {
   "cell_type": "code",
   "execution_count": 7,
   "metadata": {
    "collapsed": true
   },
   "outputs": [],
   "source": [
    "temp.to_csv('Oakland_Express.csv')"
   ]
  },
  {
   "cell_type": "markdown",
   "metadata": {},
   "source": [
    "** Check for data anomolies **"
   ]
  },
  {
   "cell_type": "code",
   "execution_count": 8,
   "metadata": {
    "collapsed": true
   },
   "outputs": [],
   "source": [
    "#number of non-2014 actual or estimated arrival date observations\n",
    "non_2014 = df_orig[(df_orig.actual_arrival_date.dt.year != 2014) | (df_orig.estimated_arrival_date.dt.year != 2014)]"
   ]
  },
  {
   "cell_type": "code",
   "execution_count": 9,
   "metadata": {},
   "outputs": [
    {
     "name": "stdout",
     "output_type": "stream",
     "text": [
      "136058 10816209\n",
      "0.0126\n"
     ]
    }
   ],
   "source": [
    "#percent of observations that are not 2014\n",
    "print len(non_2014), len(df_orig)\n",
    "print round(len(non_2014) / (len(df_orig) * 1.0), 4)"
   ]
  },
  {
   "cell_type": "markdown",
   "metadata": {},
   "source": [
    "Just over 1% of observations contain a non-2014 date, so non-2014 observations will be dropped from the dataset"
   ]
  },
  {
   "cell_type": "markdown",
   "metadata": {},
   "source": [
    "** Create a dataframe that only has 2014 estimated and actual arrival dates **"
   ]
  },
  {
   "cell_type": "code",
   "execution_count": 10,
   "metadata": {
    "collapsed": true
   },
   "outputs": [],
   "source": [
    "#get non-2014 actual arrival date observations\n",
    "df_orig_2014 = df_orig[(df_orig.actual_arrival_date.dt.year == 2014) &\n",
    "                       (df_orig.estimated_arrival_date.dt.year == 2014)]"
   ]
  },
  {
   "cell_type": "code",
   "execution_count": 11,
   "metadata": {},
   "outputs": [
    {
     "data": {
      "text/plain": [
       "(10680151, 24)"
      ]
     },
     "execution_count": 11,
     "metadata": {},
     "output_type": "execute_result"
    }
   ],
   "source": [
    "df_orig_2014.shape"
   ]
  },
  {
   "cell_type": "markdown",
   "metadata": {},
   "source": [
    "** Check if vessel_names are standardized, if not estimate the magnitude of the issue **"
   ]
  },
  {
   "cell_type": "code",
   "execution_count": 12,
   "metadata": {
    "collapsed": true
   },
   "outputs": [],
   "source": [
    "#get unique vessel_names and add a column for the revised vessel names\n",
    "vessel_names = df_orig_2014[['vessel_name']].drop_duplicates()\n",
    "vessel_names['vessel_name_new'] = vessel_names.vessel_name.copy()"
   ]
  },
  {
   "cell_type": "code",
   "execution_count": 13,
   "metadata": {},
   "outputs": [
    {
     "data": {
      "text/html": [
       "<div>\n",
       "<style>\n",
       "    .dataframe thead tr:only-child th {\n",
       "        text-align: right;\n",
       "    }\n",
       "\n",
       "    .dataframe thead th {\n",
       "        text-align: left;\n",
       "    }\n",
       "\n",
       "    .dataframe tbody tr th {\n",
       "        vertical-align: top;\n",
       "    }\n",
       "</style>\n",
       "<table border=\"1\" class=\"dataframe\">\n",
       "  <thead>\n",
       "    <tr style=\"text-align: right;\">\n",
       "      <th></th>\n",
       "      <th>vessel_name</th>\n",
       "      <th>vessel_name_new</th>\n",
       "    </tr>\n",
       "  </thead>\n",
       "  <tbody>\n",
       "    <tr>\n",
       "      <th>0</th>\n",
       "      <td>HYUNDAI FORCE</td>\n",
       "      <td>HYUNDAI FORCE</td>\n",
       "    </tr>\n",
       "    <tr>\n",
       "      <th>4</th>\n",
       "      <td>OOCL SHENZHEN</td>\n",
       "      <td>OOCL SHENZHEN</td>\n",
       "    </tr>\n",
       "    <tr>\n",
       "      <th>5</th>\n",
       "      <td>HYUNDAI GLOBAL</td>\n",
       "      <td>HYUNDAI GLOBAL</td>\n",
       "    </tr>\n",
       "    <tr>\n",
       "      <th>7</th>\n",
       "      <td>COSCO HARMONY</td>\n",
       "      <td>COSCO HARMONY</td>\n",
       "    </tr>\n",
       "    <tr>\n",
       "      <th>12</th>\n",
       "      <td>MSC LORETTA</td>\n",
       "      <td>MSC LORETTA</td>\n",
       "    </tr>\n",
       "  </tbody>\n",
       "</table>\n",
       "</div>"
      ],
      "text/plain": [
       "       vessel_name vessel_name_new\n",
       "0    HYUNDAI FORCE   HYUNDAI FORCE\n",
       "4    OOCL SHENZHEN   OOCL SHENZHEN\n",
       "5   HYUNDAI GLOBAL  HYUNDAI GLOBAL\n",
       "7    COSCO HARMONY   COSCO HARMONY\n",
       "12     MSC LORETTA     MSC LORETTA"
      ]
     },
     "execution_count": 13,
     "metadata": {},
     "output_type": "execute_result"
    }
   ],
   "source": [
    "vessel_names.head()"
   ]
  },
  {
   "cell_type": "code",
   "execution_count": 14,
   "metadata": {
    "collapsed": true
   },
   "outputs": [],
   "source": [
    "#Remove whitespace, punctuation and extra spaces between words\n",
    "vessel_names['vessel_name_new'] = vessel_names.vessel_name_new.str.strip()\n",
    "vessel_names['vessel_name_new'] = vessel_names.vessel_name_new.str.replace('[^\\w\\s]','')\n",
    "vessel_names['vessel_name_new'] = vessel_names.vessel_name_new.replace('\\s+', ' ', regex=True)"
   ]
  },
  {
   "cell_type": "code",
   "execution_count": 15,
   "metadata": {},
   "outputs": [
    {
     "data": {
      "text/plain": [
       "(9378, 8963)"
      ]
     },
     "execution_count": 15,
     "metadata": {},
     "output_type": "execute_result"
    }
   ],
   "source": [
    "#check the reduction in unique names\n",
    "len(vessel_names.vessel_name.unique()), len(vessel_names.vessel_name_new.unique())"
   ]
  },
  {
   "cell_type": "markdown",
   "metadata": {},
   "source": [
    "Compare each row to the prior row: this assumes spelling differences are in the center of the name so sorting and comparing row to row will provide an indication of how pervasive the problem is"
   ]
  },
  {
   "cell_type": "code",
   "execution_count": 16,
   "metadata": {
    "collapsed": true
   },
   "outputs": [],
   "source": [
    "#sort the dataframe by vessel_name_new and create a new column that shifts vessel_name_new down 1 row\n",
    "vessel_names.sort_values('vessel_name_new', inplace = True)\n",
    "vessel_names['vnn_shift_1'] = vessel_names.vessel_name_new.shift()"
   ]
  },
  {
   "cell_type": "code",
   "execution_count": 17,
   "metadata": {},
   "outputs": [
    {
     "data": {
      "text/html": [
       "<div>\n",
       "<style>\n",
       "    .dataframe thead tr:only-child th {\n",
       "        text-align: right;\n",
       "    }\n",
       "\n",
       "    .dataframe thead th {\n",
       "        text-align: left;\n",
       "    }\n",
       "\n",
       "    .dataframe tbody tr th {\n",
       "        vertical-align: top;\n",
       "    }\n",
       "</style>\n",
       "<table border=\"1\" class=\"dataframe\">\n",
       "  <thead>\n",
       "    <tr style=\"text-align: right;\">\n",
       "      <th></th>\n",
       "      <th>vessel_name</th>\n",
       "      <th>vessel_name_new</th>\n",
       "      <th>vnn_shift_1</th>\n",
       "    </tr>\n",
       "  </thead>\n",
       "  <tbody>\n",
       "    <tr>\n",
       "      <th>10230562</th>\n",
       "      <td>076W</td>\n",
       "      <td>076W</td>\n",
       "      <td>NaN</td>\n",
       "    </tr>\n",
       "    <tr>\n",
       "      <th>10965333</th>\n",
       "      <td>11169744</td>\n",
       "      <td>11169744</td>\n",
       "      <td>076W</td>\n",
       "    </tr>\n",
       "    <tr>\n",
       "      <th>1877120</th>\n",
       "      <td>1406</td>\n",
       "      <td>1406</td>\n",
       "      <td>11169744</td>\n",
       "    </tr>\n",
       "    <tr>\n",
       "      <th>4793505</th>\n",
       "      <td>2658840</td>\n",
       "      <td>2658840</td>\n",
       "      <td>1406</td>\n",
       "    </tr>\n",
       "    <tr>\n",
       "      <th>3015898</th>\n",
       "      <td>3 OAK</td>\n",
       "      <td>3 OAK</td>\n",
       "      <td>2658840</td>\n",
       "    </tr>\n",
       "  </tbody>\n",
       "</table>\n",
       "</div>"
      ],
      "text/plain": [
       "         vessel_name vessel_name_new vnn_shift_1\n",
       "10230562        076W            076W         NaN\n",
       "10965333    11169744        11169744        076W\n",
       "1877120         1406            1406    11169744\n",
       "4793505      2658840         2658840        1406\n",
       "3015898        3 OAK           3 OAK     2658840"
      ]
     },
     "execution_count": 17,
     "metadata": {},
     "output_type": "execute_result"
    }
   ],
   "source": [
    "vessel_names.head()"
   ]
  },
  {
   "cell_type": "markdown",
   "metadata": {},
   "source": [
    "** Get the fuzz ratio between the ordered observations **"
   ]
  },
  {
   "cell_type": "code",
   "execution_count": 18,
   "metadata": {
    "collapsed": true
   },
   "outputs": [],
   "source": [
    "#get the fuzz ratio for vessel name and vessel name shifted down one place\n",
    "fuzz_ratio = vessel_names.iloc[1:,:].apply(lambda x: fuzz.ratio(x['vessel_name_new'], x['vnn_shift_1']), axis = 1)"
   ]
  },
  {
   "cell_type": "code",
   "execution_count": 19,
   "metadata": {
    "collapsed": true
   },
   "outputs": [],
   "source": [
    "#convert fuzz_ratio from series to dataframe and merge with vessel_names\n",
    "fuzz_ratio = fuzz_ratio.to_frame(name = 'fuzz_ratio')\n",
    "vessel_names = vessel_names.merge(fuzz_ratio, left_index = True, right_index = True, how = \"left\")"
   ]
  },
  {
   "cell_type": "code",
   "execution_count": 20,
   "metadata": {},
   "outputs": [
    {
     "data": {
      "text/html": [
       "<div>\n",
       "<style>\n",
       "    .dataframe thead tr:only-child th {\n",
       "        text-align: right;\n",
       "    }\n",
       "\n",
       "    .dataframe thead th {\n",
       "        text-align: left;\n",
       "    }\n",
       "\n",
       "    .dataframe tbody tr th {\n",
       "        vertical-align: top;\n",
       "    }\n",
       "</style>\n",
       "<table border=\"1\" class=\"dataframe\">\n",
       "  <thead>\n",
       "    <tr style=\"text-align: right;\">\n",
       "      <th></th>\n",
       "      <th>vessel_name</th>\n",
       "      <th>vessel_name_new</th>\n",
       "      <th>vnn_shift_1</th>\n",
       "      <th>fuzz_ratio</th>\n",
       "    </tr>\n",
       "  </thead>\n",
       "  <tbody>\n",
       "    <tr>\n",
       "      <th>5042996</th>\n",
       "      <td>U-861</td>\n",
       "      <td>U861</td>\n",
       "      <td>TYSON B</td>\n",
       "      <td>0.0</td>\n",
       "    </tr>\n",
       "    <tr>\n",
       "      <th>3015898</th>\n",
       "      <td>3 OAK</td>\n",
       "      <td>3 OAK</td>\n",
       "      <td>2658840</td>\n",
       "      <td>0.0</td>\n",
       "    </tr>\n",
       "    <tr>\n",
       "      <th>5125073</th>\n",
       "      <td>M 5001</td>\n",
       "      <td>M 5001</td>\n",
       "      <td>LYSIAS</td>\n",
       "      <td>0.0</td>\n",
       "    </tr>\n",
       "    <tr>\n",
       "      <th>8334</th>\n",
       "      <td>CHACABUCO</td>\n",
       "      <td>CHACABUCO</td>\n",
       "      <td>CGM NEW JERSEY</td>\n",
       "      <td>9.0</td>\n",
       "    </tr>\n",
       "    <tr>\n",
       "      <th>1638045</th>\n",
       "      <td>D2005</td>\n",
       "      <td>D2005</td>\n",
       "      <td>D SSELDORF EXPRESS</td>\n",
       "      <td>9.0</td>\n",
       "    </tr>\n",
       "  </tbody>\n",
       "</table>\n",
       "</div>"
      ],
      "text/plain": [
       "        vessel_name vessel_name_new         vnn_shift_1  fuzz_ratio\n",
       "5042996       U-861            U861             TYSON B         0.0\n",
       "3015898       3 OAK           3 OAK             2658840         0.0\n",
       "5125073      M 5001          M 5001              LYSIAS         0.0\n",
       "8334      CHACABUCO       CHACABUCO      CGM NEW JERSEY         9.0\n",
       "1638045       D2005           D2005  D SSELDORF EXPRESS         9.0"
      ]
     },
     "execution_count": 20,
     "metadata": {},
     "output_type": "execute_result"
    }
   ],
   "source": [
    "#sort by fuzz_ratio\n",
    "vessel_names.sort_values('fuzz_ratio',inplace = True)\n",
    "vessel_names.head()"
   ]
  },
  {
   "cell_type": "code",
   "execution_count": 21,
   "metadata": {},
   "outputs": [
    {
     "data": {
      "text/html": [
       "<div>\n",
       "<style>\n",
       "    .dataframe thead tr:only-child th {\n",
       "        text-align: right;\n",
       "    }\n",
       "\n",
       "    .dataframe thead th {\n",
       "        text-align: left;\n",
       "    }\n",
       "\n",
       "    .dataframe tbody tr th {\n",
       "        vertical-align: top;\n",
       "    }\n",
       "</style>\n",
       "<table border=\"1\" class=\"dataframe\">\n",
       "  <thead>\n",
       "    <tr style=\"text-align: right;\">\n",
       "      <th></th>\n",
       "      <th>vessel_name</th>\n",
       "      <th>vessel_name_new</th>\n",
       "      <th>vnn_shift_1</th>\n",
       "      <th>fuzz_ratio</th>\n",
       "    </tr>\n",
       "  </thead>\n",
       "  <tbody>\n",
       "    <tr>\n",
       "      <th>162550</th>\n",
       "      <td>MSC AURORA</td>\n",
       "      <td>MSC AURORA</td>\n",
       "      <td>MSC AURONA</td>\n",
       "      <td>90.0</td>\n",
       "    </tr>\n",
       "    <tr>\n",
       "      <th>4960180</th>\n",
       "      <td>ITAL LIRCA</td>\n",
       "      <td>ITAL LIRCA</td>\n",
       "      <td>ITAL LIBRA</td>\n",
       "      <td>90.0</td>\n",
       "    </tr>\n",
       "    <tr>\n",
       "      <th>6322158</th>\n",
       "      <td>CMA CGM DAILILA</td>\n",
       "      <td>CMA CGM DAILILA</td>\n",
       "      <td>CMA CGM DAHLIA</td>\n",
       "      <td>90.0</td>\n",
       "    </tr>\n",
       "    <tr>\n",
       "      <th>7828201</th>\n",
       "      <td>MSC PANEMA</td>\n",
       "      <td>MSC PANEMA</td>\n",
       "      <td>MSC PANAMA</td>\n",
       "      <td>90.0</td>\n",
       "    </tr>\n",
       "    <tr>\n",
       "      <th>5036</th>\n",
       "      <td>MSC MARTINA</td>\n",
       "      <td>MSC MARTINA</td>\n",
       "      <td>MSC MARTA</td>\n",
       "      <td>90.0</td>\n",
       "    </tr>\n",
       "  </tbody>\n",
       "</table>\n",
       "</div>"
      ],
      "text/plain": [
       "             vessel_name  vessel_name_new     vnn_shift_1  fuzz_ratio\n",
       "162550        MSC AURORA       MSC AURORA      MSC AURONA        90.0\n",
       "4960180       ITAL LIRCA       ITAL LIRCA      ITAL LIBRA        90.0\n",
       "6322158  CMA CGM DAILILA  CMA CGM DAILILA  CMA CGM DAHLIA        90.0\n",
       "7828201       MSC PANEMA       MSC PANEMA      MSC PANAMA        90.0\n",
       "5036         MSC MARTINA      MSC MARTINA       MSC MARTA        90.0"
      ]
     },
     "execution_count": 21,
     "metadata": {},
     "output_type": "execute_result"
    }
   ],
   "source": [
    "vessel_names[vessel_names.fuzz_ratio == 90].head()"
   ]
  },
  {
   "cell_type": "code",
   "execution_count": 22,
   "metadata": {},
   "outputs": [
    {
     "data": {
      "text/html": [
       "<div>\n",
       "<style>\n",
       "    .dataframe thead tr:only-child th {\n",
       "        text-align: right;\n",
       "    }\n",
       "\n",
       "    .dataframe thead th {\n",
       "        text-align: left;\n",
       "    }\n",
       "\n",
       "    .dataframe tbody tr th {\n",
       "        vertical-align: top;\n",
       "    }\n",
       "</style>\n",
       "<table border=\"1\" class=\"dataframe\">\n",
       "  <thead>\n",
       "    <tr style=\"text-align: right;\">\n",
       "      <th></th>\n",
       "      <th>vessel_name</th>\n",
       "      <th>vessel_name_new</th>\n",
       "      <th>vnn_shift_1</th>\n",
       "      <th>fuzz_ratio</th>\n",
       "    </tr>\n",
       "  </thead>\n",
       "  <tbody>\n",
       "    <tr>\n",
       "      <th>97112</th>\n",
       "      <td>DALIAN EXPRESS 082E</td>\n",
       "      <td>DALIAN EXPRESS 082E</td>\n",
       "      <td>DALIAN EXPRESS</td>\n",
       "      <td>85.0</td>\n",
       "    </tr>\n",
       "    <tr>\n",
       "      <th>8352221</th>\n",
       "      <td>CHEMTRANS SKY</td>\n",
       "      <td>CHEMTRANS SKY</td>\n",
       "      <td>CHEMTRANS SEA</td>\n",
       "      <td>85.0</td>\n",
       "    </tr>\n",
       "    <tr>\n",
       "      <th>3592697</th>\n",
       "      <td>HANJIN MILANIO</td>\n",
       "      <td>HANJIN MILANIO</td>\n",
       "      <td>HANJIN MIAMI</td>\n",
       "      <td>85.0</td>\n",
       "    </tr>\n",
       "    <tr>\n",
       "      <th>5056014</th>\n",
       "      <td>CONTI SINGAPORE</td>\n",
       "      <td>CONTI SINGAPORE</td>\n",
       "      <td>CONTI SINGA</td>\n",
       "      <td>85.0</td>\n",
       "    </tr>\n",
       "    <tr>\n",
       "      <th>9216700</th>\n",
       "      <td>MAERSK MONTANA 1409</td>\n",
       "      <td>MAERSK MONTANA 1409</td>\n",
       "      <td>MAERSK MONTANA</td>\n",
       "      <td>85.0</td>\n",
       "    </tr>\n",
       "  </tbody>\n",
       "</table>\n",
       "</div>"
      ],
      "text/plain": [
       "                 vessel_name      vessel_name_new     vnn_shift_1  fuzz_ratio\n",
       "97112    DALIAN EXPRESS 082E  DALIAN EXPRESS 082E  DALIAN EXPRESS        85.0\n",
       "8352221        CHEMTRANS SKY        CHEMTRANS SKY   CHEMTRANS SEA        85.0\n",
       "3592697       HANJIN MILANIO       HANJIN MILANIO    HANJIN MIAMI        85.0\n",
       "5056014      CONTI SINGAPORE      CONTI SINGAPORE     CONTI SINGA        85.0\n",
       "9216700  MAERSK MONTANA 1409  MAERSK MONTANA 1409  MAERSK MONTANA        85.0"
      ]
     },
     "execution_count": 22,
     "metadata": {},
     "output_type": "execute_result"
    }
   ],
   "source": [
    "vessel_names[vessel_names.fuzz_ratio == 85].head()"
   ]
  },
  {
   "cell_type": "code",
   "execution_count": 23,
   "metadata": {
    "collapsed": true
   },
   "outputs": [],
   "source": [
    "fuzz_ratio_90 = vessel_names[(vessel_names.fuzz_ratio >= 90) & (vessel_names.fuzz_ratio < 100)]"
   ]
  },
  {
   "cell_type": "markdown",
   "metadata": {},
   "source": [
    "** Use the dividing line of a fuzz ratio between 90 and 99 to indicate the same ship with a different spelling **"
   ]
  },
  {
   "cell_type": "code",
   "execution_count": 24,
   "metadata": {},
   "outputs": [
    {
     "data": {
      "text/plain": [
       "<matplotlib.axes._subplots.AxesSubplot at 0xadd67828>"
      ]
     },
     "execution_count": 24,
     "metadata": {},
     "output_type": "execute_result"
    },
    {
     "data": {
      "image/png": "[encoded data removed]",
      "text/plain": [
       "<matplotlib.figure.Figure at 0xc6b5b70>"
      ]
     },
     "metadata": {},
     "output_type": "display_data"
    }
   ],
   "source": [
    "#look at the distribution of the fuzz_ratio\n",
    "fuzz_dist = vessel_names[vessel_names.fuzz_ratio < 100]\n",
    "sns.distplot(fuzz_dist.fuzz_ratio.dropna())"
   ]
  },
  {
   "cell_type": "code",
   "execution_count": 25,
   "metadata": {},
   "outputs": [
    {
     "name": "stdout",
     "output_type": "stream",
     "text": [
      "733 9378\n",
      "0.0782\n"
     ]
    }
   ],
   "source": [
    "#determine number of words that are greater than or equal to 90\n",
    "print sum(fuzz_ratio_90.fuzz_ratio >= 90), len(vessel_names)\n",
    "print round(sum(fuzz_ratio_90.fuzz_ratio >= 90)/ (len(vessel_names) * 1.0),4)"
   ]
  },
  {
   "cell_type": "markdown",
   "metadata": {},
   "source": [
    "** Just under 8% of vessel names might be mispellings of each other, we may want to adjust for this at a later point **\n",
    "This does not account for cases where the beginning letters are different as these wouldn't be picked up in the sort, but it provide an indicator of the magnitude of the issue."
   ]
  },
  {
   "cell_type": "code",
   "execution_count": 26,
   "metadata": {
    "collapsed": true
   },
   "outputs": [],
   "source": [
    "#get the new vessel names dataframe with whitespaces and punctutation removed\n",
    "vessel_names_2 = vessel_names[['vessel_name','vessel_name_new']]"
   ]
  },
  {
   "cell_type": "code",
   "execution_count": 27,
   "metadata": {
    "collapsed": true
   },
   "outputs": [],
   "source": [
    "#merge vessel_names with original dataframe\n",
    "df_orig_2014 = df_orig_2014.merge(vessel_names_2, left_on = 'vessel_name', right_on = 'vessel_name', how = \"left\")"
   ]
  },
  {
   "cell_type": "code",
   "execution_count": 28,
   "metadata": {
    "collapsed": true
   },
   "outputs": [],
   "source": [
    "df_orig_2014.rename(columns={'vessel_name': 'vessel_name_orig', 'vessel_name_new': 'vessel_name'}, inplace=True)"
   ]
  },
  {
   "cell_type": "code",
   "execution_count": 29,
   "metadata": {},
   "outputs": [
    {
     "data": {
      "text/html": [
       "<div>\n",
       "<style>\n",
       "    .dataframe thead tr:only-child th {\n",
       "        text-align: right;\n",
       "    }\n",
       "\n",
       "    .dataframe thead th {\n",
       "        text-align: left;\n",
       "    }\n",
       "\n",
       "    .dataframe tbody tr th {\n",
       "        vertical-align: top;\n",
       "    }\n",
       "</style>\n",
       "<table border=\"1\" class=\"dataframe\">\n",
       "  <thead>\n",
       "    <tr style=\"text-align: right;\">\n",
       "      <th></th>\n",
       "      <th>identifier</th>\n",
       "      <th>trade_update_date</th>\n",
       "      <th>run_date</th>\n",
       "      <th>vessel_name_orig</th>\n",
       "      <th>port_of_unlading</th>\n",
       "      <th>estimated_arrival_date</th>\n",
       "      <th>foreign_port_of_lading</th>\n",
       "      <th>record_status_indicator</th>\n",
       "      <th>place_of_receipt</th>\n",
       "      <th>port_of_destination</th>\n",
       "      <th>...</th>\n",
       "      <th>description_sequence_number</th>\n",
       "      <th>piece_count</th>\n",
       "      <th>description_text</th>\n",
       "      <th>carrier</th>\n",
       "      <th>day_of_week_est</th>\n",
       "      <th>day_of_week_act</th>\n",
       "      <th>month_est</th>\n",
       "      <th>month_act</th>\n",
       "      <th>delay_days</th>\n",
       "      <th>vessel_name</th>\n",
       "    </tr>\n",
       "  </thead>\n",
       "  <tbody>\n",
       "    <tr>\n",
       "      <th>0</th>\n",
       "      <td>2014082158845</td>\n",
       "      <td>2014-07-30</td>\n",
       "      <td>2014-08-21</td>\n",
       "      <td>HYUNDAI FORCE</td>\n",
       "      <td>Seattle, Washington</td>\n",
       "      <td>2014-08-14</td>\n",
       "      <td>Pusan,South Korea</td>\n",
       "      <td>New</td>\n",
       "      <td>XINGANG, PC</td>\n",
       "      <td>NaN</td>\n",
       "      <td>...</td>\n",
       "      <td>1</td>\n",
       "      <td>7881</td>\n",
       "      <td>IKEA HOME FURNISHING PRODUCTS TARIFF NUMBER 44...</td>\n",
       "      <td>HYUNDAI</td>\n",
       "      <td>3</td>\n",
       "      <td>1</td>\n",
       "      <td>8</td>\n",
       "      <td>8</td>\n",
       "      <td>5</td>\n",
       "      <td>HYUNDAI FORCE</td>\n",
       "    </tr>\n",
       "    <tr>\n",
       "      <th>1</th>\n",
       "      <td>2014082158905</td>\n",
       "      <td>2014-07-30</td>\n",
       "      <td>2014-08-21</td>\n",
       "      <td>HYUNDAI FORCE</td>\n",
       "      <td>Seattle, Washington</td>\n",
       "      <td>2014-08-14</td>\n",
       "      <td>Pusan,South Korea</td>\n",
       "      <td>New</td>\n",
       "      <td>XINGANG, PC</td>\n",
       "      <td>NaN</td>\n",
       "      <td>...</td>\n",
       "      <td>1</td>\n",
       "      <td>80</td>\n",
       "      <td>KLA-GARD PACKED ON 60 PALLETS -DRILLING MUD AD...</td>\n",
       "      <td>HYUNDAI</td>\n",
       "      <td>3</td>\n",
       "      <td>1</td>\n",
       "      <td>8</td>\n",
       "      <td>8</td>\n",
       "      <td>5</td>\n",
       "      <td>HYUNDAI FORCE</td>\n",
       "    </tr>\n",
       "    <tr>\n",
       "      <th>2</th>\n",
       "      <td>2014082158905</td>\n",
       "      <td>2014-07-30</td>\n",
       "      <td>2014-08-21</td>\n",
       "      <td>HYUNDAI FORCE</td>\n",
       "      <td>Seattle, Washington</td>\n",
       "      <td>2014-08-14</td>\n",
       "      <td>Pusan,South Korea</td>\n",
       "      <td>New</td>\n",
       "      <td>XINGANG, PC</td>\n",
       "      <td>NaN</td>\n",
       "      <td>...</td>\n",
       "      <td>1</td>\n",
       "      <td>80</td>\n",
       "      <td>KLA-GARD PACKED ON 60 PALLETS -DRILLING MUD AD...</td>\n",
       "      <td>HYUNDAI</td>\n",
       "      <td>3</td>\n",
       "      <td>1</td>\n",
       "      <td>8</td>\n",
       "      <td>8</td>\n",
       "      <td>5</td>\n",
       "      <td>HYUNDAI FORCE</td>\n",
       "    </tr>\n",
       "    <tr>\n",
       "      <th>3</th>\n",
       "      <td>2014082158905</td>\n",
       "      <td>2014-07-30</td>\n",
       "      <td>2014-08-21</td>\n",
       "      <td>HYUNDAI FORCE</td>\n",
       "      <td>Seattle, Washington</td>\n",
       "      <td>2014-08-14</td>\n",
       "      <td>Pusan,South Korea</td>\n",
       "      <td>New</td>\n",
       "      <td>XINGANG, PC</td>\n",
       "      <td>NaN</td>\n",
       "      <td>...</td>\n",
       "      <td>1</td>\n",
       "      <td>80</td>\n",
       "      <td>KLA-GARD PACKED ON 60 PALLETS -DRILLING MUD AD...</td>\n",
       "      <td>HYUNDAI</td>\n",
       "      <td>3</td>\n",
       "      <td>1</td>\n",
       "      <td>8</td>\n",
       "      <td>8</td>\n",
       "      <td>5</td>\n",
       "      <td>HYUNDAI FORCE</td>\n",
       "    </tr>\n",
       "    <tr>\n",
       "      <th>4</th>\n",
       "      <td>2014082158983</td>\n",
       "      <td>2014-08-06</td>\n",
       "      <td>2014-08-21</td>\n",
       "      <td>OOCL SHENZHEN</td>\n",
       "      <td>Long Beach, California</td>\n",
       "      <td>2014-08-19</td>\n",
       "      <td>Yantian,China (Mainland)</td>\n",
       "      <td>New</td>\n",
       "      <td>YANTIAN,CHINA</td>\n",
       "      <td>NaN</td>\n",
       "      <td>...</td>\n",
       "      <td>1</td>\n",
       "      <td>498</td>\n",
       "      <td>P.O.NO.050803/050938/051058/051197/051345/051 ...</td>\n",
       "      <td>OOCL</td>\n",
       "      <td>1</td>\n",
       "      <td>2</td>\n",
       "      <td>8</td>\n",
       "      <td>8</td>\n",
       "      <td>1</td>\n",
       "      <td>OOCL SHENZHEN</td>\n",
       "    </tr>\n",
       "  </tbody>\n",
       "</table>\n",
       "<p>5 rows × 25 columns</p>\n",
       "</div>"
      ],
      "text/plain": [
       "      identifier trade_update_date   run_date vessel_name_orig  \\\n",
       "0  2014082158845        2014-07-30 2014-08-21    HYUNDAI FORCE   \n",
       "1  2014082158905        2014-07-30 2014-08-21    HYUNDAI FORCE   \n",
       "2  2014082158905        2014-07-30 2014-08-21    HYUNDAI FORCE   \n",
       "3  2014082158905        2014-07-30 2014-08-21    HYUNDAI FORCE   \n",
       "4  2014082158983        2014-08-06 2014-08-21    OOCL SHENZHEN   \n",
       "\n",
       "         port_of_unlading estimated_arrival_date    foreign_port_of_lading  \\\n",
       "0     Seattle, Washington             2014-08-14         Pusan,South Korea   \n",
       "1     Seattle, Washington             2014-08-14         Pusan,South Korea   \n",
       "2     Seattle, Washington             2014-08-14         Pusan,South Korea   \n",
       "3     Seattle, Washington             2014-08-14         Pusan,South Korea   \n",
       "4  Long Beach, California             2014-08-19  Yantian,China (Mainland)   \n",
       "\n",
       "  record_status_indicator place_of_receipt port_of_destination      ...        \\\n",
       "0                     New      XINGANG, PC                 NaN      ...         \n",
       "1                     New      XINGANG, PC                 NaN      ...         \n",
       "2                     New      XINGANG, PC                 NaN      ...         \n",
       "3                     New      XINGANG, PC                 NaN      ...         \n",
       "4                     New    YANTIAN,CHINA                 NaN      ...         \n",
       "\n",
       "  description_sequence_number piece_count  \\\n",
       "0                           1        7881   \n",
       "1                           1          80   \n",
       "2                           1          80   \n",
       "3                           1          80   \n",
       "4                           1         498   \n",
       "\n",
       "                                    description_text  carrier day_of_week_est  \\\n",
       "0  IKEA HOME FURNISHING PRODUCTS TARIFF NUMBER 44...  HYUNDAI               3   \n",
       "1  KLA-GARD PACKED ON 60 PALLETS -DRILLING MUD AD...  HYUNDAI               3   \n",
       "2  KLA-GARD PACKED ON 60 PALLETS -DRILLING MUD AD...  HYUNDAI               3   \n",
       "3  KLA-GARD PACKED ON 60 PALLETS -DRILLING MUD AD...  HYUNDAI               3   \n",
       "4  P.O.NO.050803/050938/051058/051197/051345/051 ...     OOCL               1   \n",
       "\n",
       "   day_of_week_act  month_est month_act delay_days    vessel_name  \n",
       "0                1          8         8          5  HYUNDAI FORCE  \n",
       "1                1          8         8          5  HYUNDAI FORCE  \n",
       "2                1          8         8          5  HYUNDAI FORCE  \n",
       "3                1          8         8          5  HYUNDAI FORCE  \n",
       "4                2          8         8          1  OOCL SHENZHEN  \n",
       "\n",
       "[5 rows x 25 columns]"
      ]
     },
     "execution_count": 29,
     "metadata": {},
     "output_type": "execute_result"
    }
   ],
   "source": [
    "df_orig_2014.head()"
   ]
  },
  {
   "cell_type": "code",
   "execution_count": 30,
   "metadata": {},
   "outputs": [
    {
     "data": {
      "text/plain": [
       "['identifier',\n",
       " 'trade_update_date',\n",
       " 'run_date',\n",
       " 'vessel_name_orig',\n",
       " 'port_of_unlading',\n",
       " 'estimated_arrival_date',\n",
       " 'foreign_port_of_lading',\n",
       " 'record_status_indicator',\n",
       " 'place_of_receipt',\n",
       " 'port_of_destination',\n",
       " 'foreign_port_of_destination',\n",
       " 'actual_arrival_date',\n",
       " 'consignee_name',\n",
       " 'shipper_party_name',\n",
       " 'container_number',\n",
       " 'description_sequence_number',\n",
       " 'piece_count',\n",
       " 'description_text',\n",
       " 'carrier',\n",
       " 'day_of_week_est',\n",
       " 'day_of_week_act',\n",
       " 'month_est',\n",
       " 'month_act',\n",
       " 'delay_days',\n",
       " 'vessel_name']"
      ]
     },
     "execution_count": 30,
     "metadata": {},
     "output_type": "execute_result"
    }
   ],
   "source": [
    "list(df_orig_2014)"
   ]
  },
  {
   "cell_type": "markdown",
   "metadata": {},
   "source": [
    "** Get stats by vessel by month **"
   ]
  },
  {
   "cell_type": "code",
   "execution_count": 31,
   "metadata": {
    "collapsed": true
   },
   "outputs": [],
   "source": [
    "#get the unique counts\n",
    "voyage_stats_all = df_orig_2014.groupby(['vessel_name','month_act']\n",
    "          )['identifier','record_status_indicator','foreign_port_of_lading','port_of_unlading',\n",
    "            'trade_update_date','run_date','estimated_arrival_date','actual_arrival_date',\n",
    "            'container_number','consignee_name','shipper_party_name'].nunique()\n",
    "\n",
    "#flatten the index to make it easier to work with\n",
    "voyage_stats_all.reset_index(col_level=1,inplace = True)"
   ]
  },
  {
   "cell_type": "code",
   "execution_count": 32,
   "metadata": {},
   "outputs": [
    {
     "data": {
      "text/plain": [
       "(26084, 13)"
      ]
     },
     "execution_count": 32,
     "metadata": {},
     "output_type": "execute_result"
    }
   ],
   "source": [
    "voyage_stats_all.shape"
   ]
  },
  {
   "cell_type": "code",
   "execution_count": 33,
   "metadata": {},
   "outputs": [
    {
     "data": {
      "text/html": [
       "<div>\n",
       "<style>\n",
       "    .dataframe thead tr:only-child th {\n",
       "        text-align: right;\n",
       "    }\n",
       "\n",
       "    .dataframe thead th {\n",
       "        text-align: left;\n",
       "    }\n",
       "\n",
       "    .dataframe tbody tr th {\n",
       "        vertical-align: top;\n",
       "    }\n",
       "</style>\n",
       "<table border=\"1\" class=\"dataframe\">\n",
       "  <thead>\n",
       "    <tr style=\"text-align: right;\">\n",
       "      <th></th>\n",
       "      <th>vessel_name</th>\n",
       "      <th>month_act</th>\n",
       "      <th>identifier</th>\n",
       "      <th>record_status_indicator</th>\n",
       "      <th>foreign_port_of_lading</th>\n",
       "      <th>port_of_unlading</th>\n",
       "      <th>trade_update_date</th>\n",
       "      <th>run_date</th>\n",
       "      <th>estimated_arrival_date</th>\n",
       "      <th>actual_arrival_date</th>\n",
       "      <th>container_number</th>\n",
       "      <th>consignee_name</th>\n",
       "      <th>shipper_party_name</th>\n",
       "    </tr>\n",
       "  </thead>\n",
       "  <tbody>\n",
       "    <tr>\n",
       "      <th>18588</th>\n",
       "      <td>OAKLAND EXPRESS</td>\n",
       "      <td>3</td>\n",
       "      <td>1013</td>\n",
       "      <td>2</td>\n",
       "      <td>7</td>\n",
       "      <td>8</td>\n",
       "      <td>50</td>\n",
       "      <td>30</td>\n",
       "      <td>40</td>\n",
       "      <td>21</td>\n",
       "      <td>1163</td>\n",
       "      <td>666</td>\n",
       "      <td>673</td>\n",
       "    </tr>\n",
       "    <tr>\n",
       "      <th>18364</th>\n",
       "      <td>NYK DEMETER</td>\n",
       "      <td>12</td>\n",
       "      <td>269</td>\n",
       "      <td>2</td>\n",
       "      <td>8</td>\n",
       "      <td>5</td>\n",
       "      <td>36</td>\n",
       "      <td>21</td>\n",
       "      <td>25</td>\n",
       "      <td>20</td>\n",
       "      <td>507</td>\n",
       "      <td>193</td>\n",
       "      <td>185</td>\n",
       "    </tr>\n",
       "    <tr>\n",
       "      <th>23839</th>\n",
       "      <td>TROPIC EXPRESS</td>\n",
       "      <td>5</td>\n",
       "      <td>77</td>\n",
       "      <td>2</td>\n",
       "      <td>2</td>\n",
       "      <td>1</td>\n",
       "      <td>20</td>\n",
       "      <td>18</td>\n",
       "      <td>17</td>\n",
       "      <td>18</td>\n",
       "      <td>651</td>\n",
       "      <td>53</td>\n",
       "      <td>43</td>\n",
       "    </tr>\n",
       "    <tr>\n",
       "      <th>18238</th>\n",
       "      <td>NYK APHRODITE</td>\n",
       "      <td>11</td>\n",
       "      <td>1386</td>\n",
       "      <td>2</td>\n",
       "      <td>15</td>\n",
       "      <td>4</td>\n",
       "      <td>59</td>\n",
       "      <td>28</td>\n",
       "      <td>18</td>\n",
       "      <td>17</td>\n",
       "      <td>1307</td>\n",
       "      <td>680</td>\n",
       "      <td>739</td>\n",
       "    </tr>\n",
       "    <tr>\n",
       "      <th>23841</th>\n",
       "      <td>TROPIC EXPRESS</td>\n",
       "      <td>7</td>\n",
       "      <td>53</td>\n",
       "      <td>2</td>\n",
       "      <td>3</td>\n",
       "      <td>1</td>\n",
       "      <td>20</td>\n",
       "      <td>16</td>\n",
       "      <td>17</td>\n",
       "      <td>17</td>\n",
       "      <td>725</td>\n",
       "      <td>33</td>\n",
       "      <td>34</td>\n",
       "    </tr>\n",
       "    <tr>\n",
       "      <th>649</th>\n",
       "      <td>ALIANCA EUROPA</td>\n",
       "      <td>12</td>\n",
       "      <td>76</td>\n",
       "      <td>2</td>\n",
       "      <td>2</td>\n",
       "      <td>14</td>\n",
       "      <td>24</td>\n",
       "      <td>15</td>\n",
       "      <td>28</td>\n",
       "      <td>17</td>\n",
       "      <td>76</td>\n",
       "      <td>43</td>\n",
       "      <td>49</td>\n",
       "    </tr>\n",
       "    <tr>\n",
       "      <th>642</th>\n",
       "      <td>ALIANCA EUROPA</td>\n",
       "      <td>4</td>\n",
       "      <td>30</td>\n",
       "      <td>2</td>\n",
       "      <td>1</td>\n",
       "      <td>10</td>\n",
       "      <td>13</td>\n",
       "      <td>14</td>\n",
       "      <td>15</td>\n",
       "      <td>17</td>\n",
       "      <td>30</td>\n",
       "      <td>14</td>\n",
       "      <td>23</td>\n",
       "    </tr>\n",
       "    <tr>\n",
       "      <th>18931</th>\n",
       "      <td>OOCL BRITAIN</td>\n",
       "      <td>12</td>\n",
       "      <td>1575</td>\n",
       "      <td>2</td>\n",
       "      <td>12</td>\n",
       "      <td>7</td>\n",
       "      <td>32</td>\n",
       "      <td>18</td>\n",
       "      <td>27</td>\n",
       "      <td>16</td>\n",
       "      <td>1318</td>\n",
       "      <td>722</td>\n",
       "      <td>859</td>\n",
       "    </tr>\n",
       "    <tr>\n",
       "      <th>19035</th>\n",
       "      <td>OOCL KUALA LUMPUR</td>\n",
       "      <td>11</td>\n",
       "      <td>1386</td>\n",
       "      <td>2</td>\n",
       "      <td>5</td>\n",
       "      <td>4</td>\n",
       "      <td>43</td>\n",
       "      <td>25</td>\n",
       "      <td>21</td>\n",
       "      <td>16</td>\n",
       "      <td>1313</td>\n",
       "      <td>598</td>\n",
       "      <td>673</td>\n",
       "    </tr>\n",
       "    <tr>\n",
       "      <th>13320</th>\n",
       "      <td>KOBE EXPRESS</td>\n",
       "      <td>12</td>\n",
       "      <td>376</td>\n",
       "      <td>2</td>\n",
       "      <td>9</td>\n",
       "      <td>9</td>\n",
       "      <td>44</td>\n",
       "      <td>20</td>\n",
       "      <td>30</td>\n",
       "      <td>16</td>\n",
       "      <td>499</td>\n",
       "      <td>243</td>\n",
       "      <td>234</td>\n",
       "    </tr>\n",
       "  </tbody>\n",
       "</table>\n",
       "</div>"
      ],
      "text/plain": [
       "             vessel_name  month_act  identifier  record_status_indicator  \\\n",
       "18588    OAKLAND EXPRESS          3        1013                        2   \n",
       "18364        NYK DEMETER         12         269                        2   \n",
       "23839     TROPIC EXPRESS          5          77                        2   \n",
       "18238      NYK APHRODITE         11        1386                        2   \n",
       "23841     TROPIC EXPRESS          7          53                        2   \n",
       "649       ALIANCA EUROPA         12          76                        2   \n",
       "642       ALIANCA EUROPA          4          30                        2   \n",
       "18931       OOCL BRITAIN         12        1575                        2   \n",
       "19035  OOCL KUALA LUMPUR         11        1386                        2   \n",
       "13320       KOBE EXPRESS         12         376                        2   \n",
       "\n",
       "       foreign_port_of_lading  port_of_unlading  trade_update_date  run_date  \\\n",
       "18588                       7                 8                 50        30   \n",
       "18364                       8                 5                 36        21   \n",
       "23839                       2                 1                 20        18   \n",
       "18238                      15                 4                 59        28   \n",
       "23841                       3                 1                 20        16   \n",
       "649                         2                14                 24        15   \n",
       "642                         1                10                 13        14   \n",
       "18931                      12                 7                 32        18   \n",
       "19035                       5                 4                 43        25   \n",
       "13320                       9                 9                 44        20   \n",
       "\n",
       "       estimated_arrival_date  actual_arrival_date  container_number  \\\n",
       "18588                      40                   21              1163   \n",
       "18364                      25                   20               507   \n",
       "23839                      17                   18               651   \n",
       "18238                      18                   17              1307   \n",
       "23841                      17                   17               725   \n",
       "649                        28                   17                76   \n",
       "642                        15                   17                30   \n",
       "18931                      27                   16              1318   \n",
       "19035                      21                   16              1313   \n",
       "13320                      30                   16               499   \n",
       "\n",
       "       consignee_name  shipper_party_name  \n",
       "18588             666                 673  \n",
       "18364             193                 185  \n",
       "23839              53                  43  \n",
       "18238             680                 739  \n",
       "23841              33                  34  \n",
       "649                43                  49  \n",
       "642                14                  23  \n",
       "18931             722                 859  \n",
       "19035             598                 673  \n",
       "13320             243                 234  "
      ]
     },
     "execution_count": 33,
     "metadata": {},
     "output_type": "execute_result"
    }
   ],
   "source": [
    "#view voyage stats in descending order of the number of actual arrival dates per vessel per month\n",
    "voyage_stats_all.sort_values('actual_arrival_date',ascending = False).head(10)"
   ]
  },
  {
   "cell_type": "code",
   "execution_count": 34,
   "metadata": {},
   "outputs": [
    {
     "data": {
      "image/png": "[encoded data removed]",
      "text/plain": [
       "<matplotlib.figure.Figure at 0x25931ef0>"
      ]
     },
     "metadata": {},
     "output_type": "display_data"
    }
   ],
   "source": [
    "#view all distributions\n",
    "n = 0\n",
    "fig, axs = plt.subplots(nrows =9,figsize=(5,20))\n",
    "for i,x in enumerate(list(voyage_stats_all)[4:]): \n",
    "    sns.distplot(voyage_stats_all[x], ax=axs[i])\n",
    "plt.tight_layout(pad=0.1, w_pad=0.5, h_pad=1.0)\n",
    "#sns.regplot(x='value', y='wage', data=df_melt, ax=axs[1])\n",
    "#sns.boxplot(x='education',y='wage', data=df_melt, ax=axs[2])"
   ]
  },
  {
   "cell_type": "markdown",
   "metadata": {},
   "source": [
    "** View distributions of number of estimated and actual arrival date by vessel for each month **"
   ]
  },
  {
   "cell_type": "markdown",
   "metadata": {},
   "source": [
    "- **actual arrival dates**: the average number of unique actual arrival dates is about 2 per vessel per month, about 32% of vessels have more than two actual arrival dates per month, and about 9% have more than 5.  On some routes it is possible that vessels can arrive two or more times at U.S. ports in a month, but this seems unlikely for most shipping routes.  This indicates a possible data integrity/data entry issue in the original system or at some point in the processing of this dataset. \n",
    "  \n",
    "- **estimated arrival dates**: the average number of unique estimated arrival dates is about 5 per vessel per month, about 25% of vessels have more than five estimated arrival dates per month, and about 16% have more than 10. A scatter plot shows that while there is some increase in the number of estimated arrivals increases there is still a wide variation in estimated arrival dates vs. actual arrival dates. In cases with only arrival date there can be as many as 25 estimated arrival dates. This may indicates a possible data integrity/data entry issue in the original system or at some point in the processing of this dataset, and/or it indicates that shippers/consigners are being provided a wide range of dates for the same vessel voyage.  \n",
    "\n",
    "- **arrival dates vs container volume**: the average number of unique actual arrival dates does not vary much with container volume; however the average number of unique estimated arrival dates increases somewhat with container volume.\n",
    "  \n",
    "- **This analysis will assume that enough of the data is accurate to build a model that can predict the arrival date given the estimated arrival date and other features.**"
   ]
  },
  {
   "cell_type": "code",
   "execution_count": 35,
   "metadata": {},
   "outputs": [
    {
     "data": {
      "text/plain": [
       "<matplotlib.text.Text at 0x2daa7f28>"
      ]
     },
     "execution_count": 35,
     "metadata": {},
     "output_type": "execute_result"
    },
    {
     "data": {
      "image/png": "[encoded data removed]",
      "text/plain": [
       "<matplotlib.figure.Figure at 0x32270400>"
      ]
     },
     "metadata": {},
     "output_type": "display_data"
    }
   ],
   "source": [
    "#view the distribution by month of estimated arrival dates\n",
    "sns.set(style=\"whitegrid\")\n",
    "ax = sns.lvplot(x=\"month_act\", y=\"estimated_arrival_date\", data=voyage_stats_all, color = 'plum')\n",
    "ax.set_ylabel('estimated arrival dates per vessel')\n",
    "ax.set_title('distribution of estimated arrival dates per vessel by month')\n",
    "#sns.distplot(voyage_stats.container_number)\n",
    "#sns.distplot(voyage_stats.container_number, bins=20, kde=False, rug=True);"
   ]
  },
  {
   "cell_type": "code",
   "execution_count": 36,
   "metadata": {},
   "outputs": [
    {
     "data": {
      "text/plain": [
       "[(0, 60)]"
      ]
     },
     "execution_count": 36,
     "metadata": {},
     "output_type": "execute_result"
    },
    {
     "data": {
      "image/png": "[encoded data removed]",
      "text/plain": [
       "<matplotlib.figure.Figure at 0x2d640748>"
      ]
     },
     "metadata": {},
     "output_type": "display_data"
    }
   ],
   "source": [
    "#view the distribution by month of actual arrival dates\n",
    "sns.set(style=\"whitegrid\")\n",
    "ax = sns.lvplot(x=\"month_act\", y=\"actual_arrival_date\", data=voyage_stats_all, color = 'mediumorchid')\n",
    "ax.set_xlabel('month')\n",
    "ax.set_ylabel('actual arrival dates per vessel by month')\n",
    "ax.set_title('distribution of actual arrival dates per vessel per month')\n",
    "ax.set(ylim=(0, 60))\n",
    "#sns.distplot(voyage_stats.container_number)\n",
    "#sns.distplot(voyage_stats.container_number, bins=20, kde=False, rug=True);"
   ]
  },
  {
   "cell_type": "code",
   "execution_count": 37,
   "metadata": {},
   "outputs": [
    {
     "data": {
      "text/plain": [
       "<matplotlib.text.Text at 0x37e186d8>"
      ]
     },
     "execution_count": 37,
     "metadata": {},
     "output_type": "execute_result"
    },
    {
     "data": {
      "image/png": "[encoded data removed]",
      "text/plain": [
       "<matplotlib.figure.Figure at 0x4346828>"
      ]
     },
     "metadata": {},
     "output_type": "display_data"
    }
   ],
   "source": [
    "#Actual vs Estimated Arrival date scatter\n",
    "#show the relationship with a scatter plot\n",
    "ax = sns.regplot(x=\"actual_arrival_date\", y=\"estimated_arrival_date\", data=voyage_stats_all, color = 'purple')\n",
    "#ax.set(ylim=(-5, 60))\n",
    "#ax.set(xlim=(-500, 5000))\n",
    "ax.set_xlabel('number of actual arrival dates')\n",
    "ax.set_ylabel('number of estimated arrival dates')"
   ]
  },
  {
   "cell_type": "markdown",
   "metadata": {},
   "source": [
    "** Compute the correlation between the number of arrival dates per ship and the number of containers per ship **"
   ]
  },
  {
   "cell_type": "code",
   "execution_count": 38,
   "metadata": {},
   "outputs": [
    {
     "data": {
      "text/plain": [
       "<matplotlib.text.Text at 0x4e2815c0>"
      ]
     },
     "execution_count": 38,
     "metadata": {},
     "output_type": "execute_result"
    },
    {
     "data": {
      "image/png": "[encoded data removed]",
      "text/plain": [
       "<matplotlib.figure.Figure at 0x25a4c3c8>"
      ]
     },
     "metadata": {},
     "output_type": "display_data"
    }
   ],
   "source": [
    "#view the distribution of containers per ship by month\n",
    "sns.set(style=\"whitegrid\")\n",
    "ax = sns.lvplot(x=\"month_act\", y=\"container_number\", data=voyage_stats_all, color = 'steelblue')\n",
    "ax.set_ylabel('containers by vessel')\n",
    "ax.set_title('container volume distribution by month')\n",
    "#sns.distplot(voyage_stats.container_number)\n",
    "#sns.distplot(voyage_stats.container_number, bins=20, kde=False, rug=True);"
   ]
  },
  {
   "cell_type": "code",
   "execution_count": 39,
   "metadata": {},
   "outputs": [
    {
     "name": "stdout",
     "output_type": "stream",
     "text": [
      "2.38889740837\n",
      "8304 26084\n",
      "0.318356080356\n",
      "2289 26084\n",
      "0.0877549455605\n"
     ]
    }
   ],
   "source": [
    "#average actual arrival dates per vessel\n",
    "print voyage_stats_all.actual_arrival_date.mean()\n",
    "\n",
    "#arrivals per vessel\n",
    "print len(voyage_stats_all[voyage_stats_all.actual_arrival_date > 2]), len(voyage_stats_all)\n",
    "print len(voyage_stats_all[voyage_stats_all.actual_arrival_date > 2]) / (len(voyage_stats_all) * 1.0)\n",
    "\n",
    "#arrivals per vessel\n",
    "print len(voyage_stats_all[voyage_stats_all.actual_arrival_date > 5]), len(voyage_stats_all)\n",
    "print len(voyage_stats_all[voyage_stats_all.actual_arrival_date > 5]) / (len(voyage_stats_all) * 1.0)"
   ]
  },
  {
   "cell_type": "code",
   "execution_count": 40,
   "metadata": {},
   "outputs": [
    {
     "name": "stdout",
     "output_type": "stream",
     "text": [
      "4.69291519706\n",
      "6474 26084\n",
      "0.248198129121\n",
      "4240 26084\n",
      "0.162551755866\n"
     ]
    }
   ],
   "source": [
    "#average estimated arrival dates per vessel\n",
    "print voyage_stats_all.estimated_arrival_date.mean()\n",
    "\n",
    "#estimated arrivals per vessel\n",
    "print len(voyage_stats_all[voyage_stats_all.estimated_arrival_date > 5]), len(voyage_stats_all)\n",
    "print len(voyage_stats_all[voyage_stats_all.estimated_arrival_date > 5]) / (len(voyage_stats_all) * 1.0)\n",
    "\n",
    "#estimated arrivals per vessel\n",
    "print len(voyage_stats_all[voyage_stats_all.estimated_arrival_date > 10]), len(voyage_stats_all)\n",
    "print len(voyage_stats_all[voyage_stats_all.estimated_arrival_date > 10]) / (len(voyage_stats_all) * 1.0)"
   ]
  },
  {
   "cell_type": "code",
   "execution_count": 41,
   "metadata": {},
   "outputs": [
    {
     "data": {
      "text/plain": [
       "0.51754877626906881"
      ]
     },
     "execution_count": 41,
     "metadata": {},
     "output_type": "execute_result"
    }
   ],
   "source": [
    "#Correlation between the number of actual_arrival_dates and number of containers per ship per month\n",
    "voyage_stats_all['actual_arrival_date'].corr(voyage_stats_all['container_number'])"
   ]
  },
  {
   "cell_type": "code",
   "execution_count": 42,
   "metadata": {},
   "outputs": [
    {
     "data": {
      "text/plain": [
       "<matplotlib.text.Text at 0x3a3524a8>"
      ]
     },
     "execution_count": 42,
     "metadata": {},
     "output_type": "execute_result"
    },
    {
     "data": {
      "image/png": "[encoded data removed]",
      "text/plain": [
       "<matplotlib.figure.Figure at 0x505e64e0>"
      ]
     },
     "metadata": {},
     "output_type": "display_data"
    }
   ],
   "source": [
    "#show the relationship between volume and the number of actual arrival dates with a scatter plot\n",
    "ax = sns.regplot(x=\"container_number\", y=\"actual_arrival_date\", data=voyage_stats_all, color = 'steelblue')\n",
    "#ax.set(ylim=(-5, 60))\n",
    "#ax.set(xlim=(-500, 5000))\n",
    "ax.set_xlabel('number of containers')\n",
    "ax.set_ylabel('number of actual arrival dates')"
   ]
  },
  {
   "cell_type": "code",
   "execution_count": 43,
   "metadata": {},
   "outputs": [
    {
     "data": {
      "text/plain": [
       "0.83899644632344317"
      ]
     },
     "execution_count": 43,
     "metadata": {},
     "output_type": "execute_result"
    }
   ],
   "source": [
    "#Correlation between the number of estimated_arrival_dates and number of containers per ship per month\n",
    "voyage_stats_all['estimated_arrival_date'].corr(voyage_stats_all['container_number'])"
   ]
  },
  {
   "cell_type": "code",
   "execution_count": 44,
   "metadata": {},
   "outputs": [
    {
     "data": {
      "text/plain": [
       "<matplotlib.text.Text at 0x4064eda0>"
      ]
     },
     "execution_count": 44,
     "metadata": {},
     "output_type": "execute_result"
    },
    {
     "data": {
      "image/png": "[encoded data removed]",
      "text/plain": [
       "<matplotlib.figure.Figure at 0x261a4d68>"
      ]
     },
     "metadata": {},
     "output_type": "display_data"
    }
   ],
   "source": [
    "#show the relationship between volume and the number of estimated arrival dates with a scatter plot\n",
    "ax = sns.regplot(x=\"container_number\", y=\"estimated_arrival_date\", data=voyage_stats_all, color = 'steelblue')\n",
    "#ax.set(ylim=(-5, 60))\n",
    "#ax.set(xlim=(-500, 5000))\n",
    "ax.set_xlabel('number of containers')\n",
    "ax.set_ylabel('number of estimated arrival dates')"
   ]
  },
  {
   "cell_type": "markdown",
   "metadata": {},
   "source": [
    "** View the distribution of foreign port of lading and ports of unlading by month **"
   ]
  },
  {
   "cell_type": "code",
   "execution_count": 45,
   "metadata": {},
   "outputs": [
    {
     "data": {
      "text/plain": [
       "<matplotlib.text.Text at 0x25ed8c88>"
      ]
     },
     "execution_count": 45,
     "metadata": {},
     "output_type": "execute_result"
    },
    {
     "data": {
      "image/png": "[encoded data removed]",
      "text/plain": [
       "<matplotlib.figure.Figure at 0x2799bd68>"
      ]
     },
     "metadata": {},
     "output_type": "display_data"
    }
   ],
   "source": [
    "#view the distribution foreign ports of lading per ship by month\n",
    "sns.set(style=\"whitegrid\")\n",
    "ax = sns.lvplot(x=\"month_act\", y=\"foreign_port_of_lading\", data=voyage_stats_all, color = 'darkseagreen')\n",
    "ax.set_ylabel('foreign ports of lading by vessel')\n",
    "ax.set_title('foreign ports of lading per vessel by month')\n",
    "#sns.distplot(voyage_stats.container_number)\n",
    "#sns.distplot(voyage_stats.container_number, bins=20, kde=False, rug=True);"
   ]
  },
  {
   "cell_type": "code",
   "execution_count": 46,
   "metadata": {},
   "outputs": [
    {
     "data": {
      "text/plain": [
       "[(0, 35)]"
      ]
     },
     "execution_count": 46,
     "metadata": {},
     "output_type": "execute_result"
    },
    {
     "data": {
      "image/png": "[encoded data removed]",
      "text/plain": [
       "<matplotlib.figure.Figure at 0x505e6518>"
      ]
     },
     "metadata": {},
     "output_type": "display_data"
    }
   ],
   "source": [
    "#view the distribution ports of unlading per ship by month\n",
    "sns.set(style=\"whitegrid\")\n",
    "ax = sns.lvplot(x=\"month_act\", y=\"port_of_unlading\", data=voyage_stats_all, color = 'forestgreen')\n",
    "ax.set_ylabel('ports of unlading by vessel')\n",
    "ax.set_title('ports of unlading per vessel by month')\n",
    "ax.set(ylim=(0, 35))\n",
    "#sns.distplot(voyage_stats.container_number)\n",
    "#sns.distplot(voyage_stats.container_number, bins=20, kde=False, rug=True);"
   ]
  },
  {
   "cell_type": "markdown",
   "metadata": {},
   "source": [
    "** Review one ship that has a large number of actual_arrival_dates **"
   ]
  },
  {
   "cell_type": "markdown",
   "metadata": {},
   "source": [
    "Observations:  \n",
    "- actual arrival dates:\n",
    "- estimated arrival dates:\n",
    "- volume"
   ]
  },
  {
   "cell_type": "code",
   "execution_count": 47,
   "metadata": {
    "collapsed": true
   },
   "outputs": [],
   "source": [
    "#create a column subset of the dataframe to be used in the next step\n",
    "df_orig_sub = df_orig_2014[['vessel_name','trade_update_date','run_date','estimated_arrival_date',\n",
    "                            'actual_arrival_date','foreign_port_of_lading','port_of_unlading',\n",
    "                            'record_status_indicator','month_act']]"
   ]
  },
  {
   "cell_type": "code",
   "execution_count": 48,
   "metadata": {
    "collapsed": true
   },
   "outputs": [],
   "source": [
    "vessel = 'OAKLAND EXPRESS'\n",
    "month = 3\n",
    "vessel_detail = df_orig_sub[(df_orig_sub.vessel_name.str.contains(vessel)) &\n",
    "        (df_orig_sub.month_act == 3)].drop_duplicates().sort_values('actual_arrival_date')"
   ]
  },
  {
   "cell_type": "code",
   "execution_count": 49,
   "metadata": {},
   "outputs": [
    {
     "data": {
      "text/plain": [
       "(349, 9)"
      ]
     },
     "execution_count": 49,
     "metadata": {},
     "output_type": "execute_result"
    }
   ],
   "source": [
    "vessel_detail.shape"
   ]
  },
  {
   "cell_type": "code",
   "execution_count": 50,
   "metadata": {},
   "outputs": [
    {
     "data": {
      "text/html": [
       "<div>\n",
       "<style>\n",
       "    .dataframe thead tr:only-child th {\n",
       "        text-align: right;\n",
       "    }\n",
       "\n",
       "    .dataframe thead th {\n",
       "        text-align: left;\n",
       "    }\n",
       "\n",
       "    .dataframe tbody tr th {\n",
       "        vertical-align: top;\n",
       "    }\n",
       "</style>\n",
       "<table border=\"1\" class=\"dataframe\">\n",
       "  <thead>\n",
       "    <tr style=\"text-align: right;\">\n",
       "      <th></th>\n",
       "      <th>vessel_name</th>\n",
       "      <th>trade_update_date</th>\n",
       "      <th>run_date</th>\n",
       "      <th>estimated_arrival_date</th>\n",
       "      <th>actual_arrival_date</th>\n",
       "      <th>foreign_port_of_lading</th>\n",
       "      <th>port_of_unlading</th>\n",
       "      <th>record_status_indicator</th>\n",
       "      <th>month_act</th>\n",
       "    </tr>\n",
       "  </thead>\n",
       "  <tbody>\n",
       "    <tr>\n",
       "      <th>8298585</th>\n",
       "      <td>OAKLAND EXPRESS</td>\n",
       "      <td>2014-02-14</td>\n",
       "      <td>2014-03-03</td>\n",
       "      <td>2014-02-14</td>\n",
       "      <td>2014-03-01</td>\n",
       "      <td>Rotterdam,Netherlands</td>\n",
       "      <td>Los Angeles, California</td>\n",
       "      <td>New</td>\n",
       "      <td>3</td>\n",
       "    </tr>\n",
       "    <tr>\n",
       "      <th>6358046</th>\n",
       "      <td>OAKLAND EXPRESS</td>\n",
       "      <td>2014-02-20</td>\n",
       "      <td>2014-03-04</td>\n",
       "      <td>2014-02-16</td>\n",
       "      <td>2014-03-03</td>\n",
       "      <td>Stadersand,Federal Republic of Germany</td>\n",
       "      <td>Oakland, California</td>\n",
       "      <td>New</td>\n",
       "      <td>3</td>\n",
       "    </tr>\n",
       "    <tr>\n",
       "      <th>6920014</th>\n",
       "      <td>OAKLAND EXPRESS</td>\n",
       "      <td>2014-02-10</td>\n",
       "      <td>2014-03-07</td>\n",
       "      <td>2014-02-25</td>\n",
       "      <td>2014-03-06</td>\n",
       "      <td>Stadersand,Federal Republic of Germany</td>\n",
       "      <td>New York, New York</td>\n",
       "      <td>New</td>\n",
       "      <td>3</td>\n",
       "    </tr>\n",
       "    <tr>\n",
       "      <th>3755157</th>\n",
       "      <td>OAKLAND EXPRESS</td>\n",
       "      <td>2014-02-13</td>\n",
       "      <td>2014-03-07</td>\n",
       "      <td>2014-02-26</td>\n",
       "      <td>2014-03-06</td>\n",
       "      <td>Stadersand,Federal Republic of Germany</td>\n",
       "      <td>New York, New York</td>\n",
       "      <td>New</td>\n",
       "      <td>3</td>\n",
       "    </tr>\n",
       "    <tr>\n",
       "      <th>8581183</th>\n",
       "      <td>OAKLAND EXPRESS</td>\n",
       "      <td>2014-02-06</td>\n",
       "      <td>2014-03-07</td>\n",
       "      <td>2014-02-19</td>\n",
       "      <td>2014-03-06</td>\n",
       "      <td>Rotterdam,Netherlands</td>\n",
       "      <td>New York, New York</td>\n",
       "      <td>New</td>\n",
       "      <td>3</td>\n",
       "    </tr>\n",
       "    <tr>\n",
       "      <th>138300</th>\n",
       "      <td>OAKLAND EXPRESS</td>\n",
       "      <td>2014-02-18</td>\n",
       "      <td>2014-03-10</td>\n",
       "      <td>2014-02-26</td>\n",
       "      <td>2014-03-09</td>\n",
       "      <td>Stadersand,Federal Republic of Germany</td>\n",
       "      <td>New York, New York</td>\n",
       "      <td>New</td>\n",
       "      <td>3</td>\n",
       "    </tr>\n",
       "    <tr>\n",
       "      <th>6085286</th>\n",
       "      <td>OAKLAND EXPRESS</td>\n",
       "      <td>2014-02-27</td>\n",
       "      <td>2014-03-10</td>\n",
       "      <td>2014-03-01</td>\n",
       "      <td>2014-03-09</td>\n",
       "      <td>Anvers,Belgium</td>\n",
       "      <td>New York, New York</td>\n",
       "      <td>New</td>\n",
       "      <td>3</td>\n",
       "    </tr>\n",
       "    <tr>\n",
       "      <th>6085311</th>\n",
       "      <td>OAKLAND EXPRESS</td>\n",
       "      <td>2014-02-13</td>\n",
       "      <td>2014-03-10</td>\n",
       "      <td>2014-02-25</td>\n",
       "      <td>2014-03-09</td>\n",
       "      <td>Rotterdam,Netherlands</td>\n",
       "      <td>New York, New York</td>\n",
       "      <td>New</td>\n",
       "      <td>3</td>\n",
       "    </tr>\n",
       "    <tr>\n",
       "      <th>2361693</th>\n",
       "      <td>OAKLAND EXPRESS</td>\n",
       "      <td>2014-02-27</td>\n",
       "      <td>2014-03-10</td>\n",
       "      <td>2014-03-02</td>\n",
       "      <td>2014-03-09</td>\n",
       "      <td>Anvers,Belgium</td>\n",
       "      <td>New York, New York</td>\n",
       "      <td>New</td>\n",
       "      <td>3</td>\n",
       "    </tr>\n",
       "    <tr>\n",
       "      <th>2361664</th>\n",
       "      <td>OAKLAND EXPRESS</td>\n",
       "      <td>2014-02-13</td>\n",
       "      <td>2014-03-10</td>\n",
       "      <td>2014-03-01</td>\n",
       "      <td>2014-03-09</td>\n",
       "      <td>Anvers,Belgium</td>\n",
       "      <td>New York, New York</td>\n",
       "      <td>New</td>\n",
       "      <td>3</td>\n",
       "    </tr>\n",
       "    <tr>\n",
       "      <th>2361635</th>\n",
       "      <td>OAKLAND EXPRESS</td>\n",
       "      <td>2014-02-12</td>\n",
       "      <td>2014-03-10</td>\n",
       "      <td>2014-02-28</td>\n",
       "      <td>2014-03-09</td>\n",
       "      <td>Rotterdam,Netherlands</td>\n",
       "      <td>New York, New York</td>\n",
       "      <td>New</td>\n",
       "      <td>3</td>\n",
       "    </tr>\n",
       "    <tr>\n",
       "      <th>9984149</th>\n",
       "      <td>OAKLAND EXPRESS</td>\n",
       "      <td>2014-02-06</td>\n",
       "      <td>2014-03-10</td>\n",
       "      <td>2014-02-28</td>\n",
       "      <td>2014-03-09</td>\n",
       "      <td>Stadersand,Federal Republic of Germany</td>\n",
       "      <td>New York, New York</td>\n",
       "      <td>New</td>\n",
       "      <td>3</td>\n",
       "    </tr>\n",
       "    <tr>\n",
       "      <th>2084932</th>\n",
       "      <td>OAKLAND EXPRESS</td>\n",
       "      <td>2014-03-13</td>\n",
       "      <td>2014-03-14</td>\n",
       "      <td>2014-03-03</td>\n",
       "      <td>2014-03-09</td>\n",
       "      <td>Stadersand,Federal Republic of Germany</td>\n",
       "      <td>New York, New York</td>\n",
       "      <td>Amended</td>\n",
       "      <td>3</td>\n",
       "    </tr>\n",
       "    <tr>\n",
       "      <th>4977890</th>\n",
       "      <td>OAKLAND EXPRESS</td>\n",
       "      <td>2014-02-18</td>\n",
       "      <td>2014-03-10</td>\n",
       "      <td>2014-03-01</td>\n",
       "      <td>2014-03-09</td>\n",
       "      <td>Stadersand,Federal Republic of Germany</td>\n",
       "      <td>New York, New York</td>\n",
       "      <td>New</td>\n",
       "      <td>3</td>\n",
       "    </tr>\n",
       "    <tr>\n",
       "      <th>1805990</th>\n",
       "      <td>OAKLAND EXPRESS</td>\n",
       "      <td>2014-02-12</td>\n",
       "      <td>2014-03-10</td>\n",
       "      <td>2014-02-26</td>\n",
       "      <td>2014-03-09</td>\n",
       "      <td>Rotterdam,Netherlands</td>\n",
       "      <td>New York, New York</td>\n",
       "      <td>New</td>\n",
       "      <td>3</td>\n",
       "    </tr>\n",
       "    <tr>\n",
       "      <th>1528522</th>\n",
       "      <td>OAKLAND EXPRESS</td>\n",
       "      <td>2014-02-05</td>\n",
       "      <td>2014-03-10</td>\n",
       "      <td>2014-02-28</td>\n",
       "      <td>2014-03-09</td>\n",
       "      <td>Rotterdam,Netherlands</td>\n",
       "      <td>New York, New York</td>\n",
       "      <td>New</td>\n",
       "      <td>3</td>\n",
       "    </tr>\n",
       "    <tr>\n",
       "      <th>6085285</th>\n",
       "      <td>OAKLAND EXPRESS</td>\n",
       "      <td>2014-03-05</td>\n",
       "      <td>2014-03-10</td>\n",
       "      <td>2014-02-28</td>\n",
       "      <td>2014-03-09</td>\n",
       "      <td>Stadersand,Federal Republic of Germany</td>\n",
       "      <td>New York/Newark Area, Newark, New Jersey</td>\n",
       "      <td>New</td>\n",
       "      <td>3</td>\n",
       "    </tr>\n",
       "    <tr>\n",
       "      <th>1528095</th>\n",
       "      <td>OAKLAND EXPRESS</td>\n",
       "      <td>2014-02-24</td>\n",
       "      <td>2014-03-10</td>\n",
       "      <td>2014-03-03</td>\n",
       "      <td>2014-03-09</td>\n",
       "      <td>Stadersand,Federal Republic of Germany</td>\n",
       "      <td>New York, New York</td>\n",
       "      <td>New</td>\n",
       "      <td>3</td>\n",
       "    </tr>\n",
       "    <tr>\n",
       "      <th>1527861</th>\n",
       "      <td>OAKLAND EXPRESS</td>\n",
       "      <td>2014-02-13</td>\n",
       "      <td>2014-03-10</td>\n",
       "      <td>2014-03-01</td>\n",
       "      <td>2014-03-09</td>\n",
       "      <td>Rotterdam,Netherlands</td>\n",
       "      <td>New York, New York</td>\n",
       "      <td>New</td>\n",
       "      <td>3</td>\n",
       "    </tr>\n",
       "    <tr>\n",
       "      <th>1527823</th>\n",
       "      <td>OAKLAND EXPRESS</td>\n",
       "      <td>2014-02-12</td>\n",
       "      <td>2014-03-10</td>\n",
       "      <td>2014-02-27</td>\n",
       "      <td>2014-03-09</td>\n",
       "      <td>Stadersand,Federal Republic of Germany</td>\n",
       "      <td>New York, New York</td>\n",
       "      <td>New</td>\n",
       "      <td>3</td>\n",
       "    </tr>\n",
       "    <tr>\n",
       "      <th>1527767</th>\n",
       "      <td>OAKLAND EXPRESS</td>\n",
       "      <td>2014-02-07</td>\n",
       "      <td>2014-03-10</td>\n",
       "      <td>2014-02-28</td>\n",
       "      <td>2014-03-09</td>\n",
       "      <td>Rotterdam,Netherlands</td>\n",
       "      <td>New York, New York</td>\n",
       "      <td>New</td>\n",
       "      <td>3</td>\n",
       "    </tr>\n",
       "    <tr>\n",
       "      <th>1527751</th>\n",
       "      <td>OAKLAND EXPRESS</td>\n",
       "      <td>2014-03-07</td>\n",
       "      <td>2014-03-10</td>\n",
       "      <td>2014-03-03</td>\n",
       "      <td>2014-03-09</td>\n",
       "      <td>Stadersand,Federal Republic of Germany</td>\n",
       "      <td>New York, New York</td>\n",
       "      <td>New</td>\n",
       "      <td>3</td>\n",
       "    </tr>\n",
       "    <tr>\n",
       "      <th>6638332</th>\n",
       "      <td>OAKLAND EXPRESS</td>\n",
       "      <td>2014-03-10</td>\n",
       "      <td>2014-03-11</td>\n",
       "      <td>2014-03-01</td>\n",
       "      <td>2014-03-09</td>\n",
       "      <td>Anvers,Belgium</td>\n",
       "      <td>New York, New York</td>\n",
       "      <td>Amended</td>\n",
       "      <td>3</td>\n",
       "    </tr>\n",
       "    <tr>\n",
       "      <th>6921631</th>\n",
       "      <td>OAKLAND EXPRESS</td>\n",
       "      <td>2014-02-12</td>\n",
       "      <td>2014-03-10</td>\n",
       "      <td>2014-02-25</td>\n",
       "      <td>2014-03-09</td>\n",
       "      <td>Rotterdam,Netherlands</td>\n",
       "      <td>New York/Newark Area, Newark, New Jersey</td>\n",
       "      <td>New</td>\n",
       "      <td>3</td>\n",
       "    </tr>\n",
       "    <tr>\n",
       "      <th>1257986</th>\n",
       "      <td>OAKLAND EXPRESS</td>\n",
       "      <td>2014-02-18</td>\n",
       "      <td>2014-03-11</td>\n",
       "      <td>2014-02-28</td>\n",
       "      <td>2014-03-09</td>\n",
       "      <td>Stadersand,Federal Republic of Germany</td>\n",
       "      <td>New York/Newark Area, Newark, New Jersey</td>\n",
       "      <td>New</td>\n",
       "      <td>3</td>\n",
       "    </tr>\n",
       "    <tr>\n",
       "      <th>1257119</th>\n",
       "      <td>OAKLAND EXPRESS</td>\n",
       "      <td>2014-02-20</td>\n",
       "      <td>2014-03-10</td>\n",
       "      <td>2014-03-08</td>\n",
       "      <td>2014-03-09</td>\n",
       "      <td>Rotterdam,Netherlands</td>\n",
       "      <td>New York, New York</td>\n",
       "      <td>New</td>\n",
       "      <td>3</td>\n",
       "    </tr>\n",
       "    <tr>\n",
       "      <th>1257009</th>\n",
       "      <td>OAKLAND EXPRESS</td>\n",
       "      <td>2014-02-12</td>\n",
       "      <td>2014-03-10</td>\n",
       "      <td>2014-03-01</td>\n",
       "      <td>2014-03-09</td>\n",
       "      <td>Southhampton,United Kingdom</td>\n",
       "      <td>New York, New York</td>\n",
       "      <td>New</td>\n",
       "      <td>3</td>\n",
       "    </tr>\n",
       "    <tr>\n",
       "      <th>6361710</th>\n",
       "      <td>OAKLAND EXPRESS</td>\n",
       "      <td>2014-02-27</td>\n",
       "      <td>2014-03-10</td>\n",
       "      <td>2014-03-01</td>\n",
       "      <td>2014-03-09</td>\n",
       "      <td>Rotterdam,Netherlands</td>\n",
       "      <td>New York, New York</td>\n",
       "      <td>New</td>\n",
       "      <td>3</td>\n",
       "    </tr>\n",
       "    <tr>\n",
       "      <th>5807813</th>\n",
       "      <td>OAKLAND EXPRESS</td>\n",
       "      <td>2014-02-13</td>\n",
       "      <td>2014-03-10</td>\n",
       "      <td>2014-02-26</td>\n",
       "      <td>2014-03-09</td>\n",
       "      <td>Anvers,Belgium</td>\n",
       "      <td>New York, New York</td>\n",
       "      <td>New</td>\n",
       "      <td>3</td>\n",
       "    </tr>\n",
       "    <tr>\n",
       "      <th>2646902</th>\n",
       "      <td>OAKLAND EXPRESS</td>\n",
       "      <td>2014-02-24</td>\n",
       "      <td>2014-03-10</td>\n",
       "      <td>2014-02-22</td>\n",
       "      <td>2014-03-09</td>\n",
       "      <td>Stadersand,Federal Republic of Germany</td>\n",
       "      <td>Savannah, Georgia</td>\n",
       "      <td>New</td>\n",
       "      <td>3</td>\n",
       "    </tr>\n",
       "    <tr>\n",
       "      <th>...</th>\n",
       "      <td>...</td>\n",
       "      <td>...</td>\n",
       "      <td>...</td>\n",
       "      <td>...</td>\n",
       "      <td>...</td>\n",
       "      <td>...</td>\n",
       "      <td>...</td>\n",
       "      <td>...</td>\n",
       "      <td>...</td>\n",
       "    </tr>\n",
       "    <tr>\n",
       "      <th>436573</th>\n",
       "      <td>OAKLAND EXPRESS</td>\n",
       "      <td>2014-02-18</td>\n",
       "      <td>2014-04-01</td>\n",
       "      <td>2014-03-18</td>\n",
       "      <td>2014-03-30</td>\n",
       "      <td>Stadersand,Federal Republic of Germany</td>\n",
       "      <td>Oakland, California</td>\n",
       "      <td>New</td>\n",
       "      <td>3</td>\n",
       "    </tr>\n",
       "    <tr>\n",
       "      <th>152631</th>\n",
       "      <td>OAKLAND EXPRESS</td>\n",
       "      <td>2014-02-13</td>\n",
       "      <td>2014-04-01</td>\n",
       "      <td>2014-03-18</td>\n",
       "      <td>2014-03-30</td>\n",
       "      <td>Anvers,Belgium</td>\n",
       "      <td>Oakland, California</td>\n",
       "      <td>New</td>\n",
       "      <td>3</td>\n",
       "    </tr>\n",
       "    <tr>\n",
       "      <th>151725</th>\n",
       "      <td>OAKLAND EXPRESS</td>\n",
       "      <td>2014-02-13</td>\n",
       "      <td>2014-03-31</td>\n",
       "      <td>2014-03-19</td>\n",
       "      <td>2014-03-30</td>\n",
       "      <td>Anvers,Belgium</td>\n",
       "      <td>Oakland, California</td>\n",
       "      <td>New</td>\n",
       "      <td>3</td>\n",
       "    </tr>\n",
       "    <tr>\n",
       "      <th>151691</th>\n",
       "      <td>OAKLAND EXPRESS</td>\n",
       "      <td>2014-02-12</td>\n",
       "      <td>2014-03-31</td>\n",
       "      <td>2014-03-19</td>\n",
       "      <td>2014-03-30</td>\n",
       "      <td>Southhampton,United Kingdom</td>\n",
       "      <td>Oakland, California</td>\n",
       "      <td>New</td>\n",
       "      <td>3</td>\n",
       "    </tr>\n",
       "    <tr>\n",
       "      <th>983316</th>\n",
       "      <td>OAKLAND EXPRESS</td>\n",
       "      <td>2014-02-20</td>\n",
       "      <td>2014-03-31</td>\n",
       "      <td>2014-03-19</td>\n",
       "      <td>2014-03-30</td>\n",
       "      <td>Rotterdam,Netherlands</td>\n",
       "      <td>Oakland, California</td>\n",
       "      <td>New</td>\n",
       "      <td>3</td>\n",
       "    </tr>\n",
       "    <tr>\n",
       "      <th>8316129</th>\n",
       "      <td>OAKLAND EXPRESS</td>\n",
       "      <td>2014-02-11</td>\n",
       "      <td>2014-04-01</td>\n",
       "      <td>2014-03-20</td>\n",
       "      <td>2014-03-30</td>\n",
       "      <td>Anvers,Belgium</td>\n",
       "      <td>Oakland, California</td>\n",
       "      <td>New</td>\n",
       "      <td>3</td>\n",
       "    </tr>\n",
       "    <tr>\n",
       "      <th>3211618</th>\n",
       "      <td>OAKLAND EXPRESS</td>\n",
       "      <td>2014-02-18</td>\n",
       "      <td>2014-03-31</td>\n",
       "      <td>2014-03-16</td>\n",
       "      <td>2014-03-30</td>\n",
       "      <td>Rotterdam,Netherlands</td>\n",
       "      <td>Oakland, California</td>\n",
       "      <td>New</td>\n",
       "      <td>3</td>\n",
       "    </tr>\n",
       "    <tr>\n",
       "      <th>4990226</th>\n",
       "      <td>OAKLAND EXPRESS</td>\n",
       "      <td>2014-02-24</td>\n",
       "      <td>2014-03-31</td>\n",
       "      <td>2014-03-20</td>\n",
       "      <td>2014-03-30</td>\n",
       "      <td>Stadersand,Federal Republic of Germany</td>\n",
       "      <td>Oakland, California</td>\n",
       "      <td>New</td>\n",
       "      <td>3</td>\n",
       "    </tr>\n",
       "    <tr>\n",
       "      <th>7207446</th>\n",
       "      <td>OAKLAND EXPRESS</td>\n",
       "      <td>2014-02-12</td>\n",
       "      <td>2014-03-31</td>\n",
       "      <td>2014-03-19</td>\n",
       "      <td>2014-03-30</td>\n",
       "      <td>Stadersand,Federal Republic of Germany</td>\n",
       "      <td>Oakland, California</td>\n",
       "      <td>New</td>\n",
       "      <td>3</td>\n",
       "    </tr>\n",
       "    <tr>\n",
       "      <th>6934472</th>\n",
       "      <td>OAKLAND EXPRESS</td>\n",
       "      <td>2014-02-07</td>\n",
       "      <td>2014-03-31</td>\n",
       "      <td>2014-03-12</td>\n",
       "      <td>2014-03-30</td>\n",
       "      <td>Stadersand,Federal Republic of Germany</td>\n",
       "      <td>Oakland, California</td>\n",
       "      <td>New</td>\n",
       "      <td>3</td>\n",
       "    </tr>\n",
       "    <tr>\n",
       "      <th>6933371</th>\n",
       "      <td>OAKLAND EXPRESS</td>\n",
       "      <td>2014-03-17</td>\n",
       "      <td>2014-03-31</td>\n",
       "      <td>2014-03-19</td>\n",
       "      <td>2014-03-30</td>\n",
       "      <td>Stadersand,Federal Republic of Germany</td>\n",
       "      <td>Oakland, California</td>\n",
       "      <td>New</td>\n",
       "      <td>3</td>\n",
       "    </tr>\n",
       "    <tr>\n",
       "      <th>6097495</th>\n",
       "      <td>OAKLAND EXPRESS</td>\n",
       "      <td>2014-02-17</td>\n",
       "      <td>2014-03-31</td>\n",
       "      <td>2014-03-19</td>\n",
       "      <td>2014-03-30</td>\n",
       "      <td>Anvers,Belgium</td>\n",
       "      <td>Oakland, California</td>\n",
       "      <td>New</td>\n",
       "      <td>3</td>\n",
       "    </tr>\n",
       "    <tr>\n",
       "      <th>5821734</th>\n",
       "      <td>OAKLAND EXPRESS</td>\n",
       "      <td>2014-03-12</td>\n",
       "      <td>2014-04-01</td>\n",
       "      <td>2014-03-27</td>\n",
       "      <td>2014-03-30</td>\n",
       "      <td>Puerto Manzanillo,Panama</td>\n",
       "      <td>Oakland, California</td>\n",
       "      <td>New</td>\n",
       "      <td>3</td>\n",
       "    </tr>\n",
       "    <tr>\n",
       "      <th>3495256</th>\n",
       "      <td>OAKLAND EXPRESS</td>\n",
       "      <td>2014-02-14</td>\n",
       "      <td>2014-04-01</td>\n",
       "      <td>2014-03-18</td>\n",
       "      <td>2014-03-30</td>\n",
       "      <td>Anvers,Belgium</td>\n",
       "      <td>Oakland, California</td>\n",
       "      <td>New</td>\n",
       "      <td>3</td>\n",
       "    </tr>\n",
       "    <tr>\n",
       "      <th>4719742</th>\n",
       "      <td>OAKLAND EXPRESS</td>\n",
       "      <td>2014-03-19</td>\n",
       "      <td>2014-04-01</td>\n",
       "      <td>2014-03-18</td>\n",
       "      <td>2014-03-30</td>\n",
       "      <td>Anvers,Belgium</td>\n",
       "      <td>Oakland, California</td>\n",
       "      <td>New</td>\n",
       "      <td>3</td>\n",
       "    </tr>\n",
       "    <tr>\n",
       "      <th>10555426</th>\n",
       "      <td>OAKLAND EXPRESS</td>\n",
       "      <td>2014-02-12</td>\n",
       "      <td>2014-03-31</td>\n",
       "      <td>2014-03-16</td>\n",
       "      <td>2014-03-30</td>\n",
       "      <td>Rotterdam,Netherlands</td>\n",
       "      <td>Oakland, California</td>\n",
       "      <td>New</td>\n",
       "      <td>3</td>\n",
       "    </tr>\n",
       "    <tr>\n",
       "      <th>4314712</th>\n",
       "      <td>OAKLAND EXPRESS</td>\n",
       "      <td>2014-02-06</td>\n",
       "      <td>2014-03-31</td>\n",
       "      <td>2014-03-16</td>\n",
       "      <td>2014-03-30</td>\n",
       "      <td>Stadersand,Federal Republic of Germany</td>\n",
       "      <td>Oakland, California</td>\n",
       "      <td>New</td>\n",
       "      <td>3</td>\n",
       "    </tr>\n",
       "    <tr>\n",
       "      <th>4314403</th>\n",
       "      <td>OAKLAND EXPRESS</td>\n",
       "      <td>2014-02-20</td>\n",
       "      <td>2014-03-31</td>\n",
       "      <td>2014-03-21</td>\n",
       "      <td>2014-03-30</td>\n",
       "      <td>Stadersand,Federal Republic of Germany</td>\n",
       "      <td>Oakland, California</td>\n",
       "      <td>New</td>\n",
       "      <td>3</td>\n",
       "    </tr>\n",
       "    <tr>\n",
       "      <th>4045408</th>\n",
       "      <td>OAKLAND EXPRESS</td>\n",
       "      <td>2014-03-19</td>\n",
       "      <td>2014-04-01</td>\n",
       "      <td>2014-03-18</td>\n",
       "      <td>2014-03-30</td>\n",
       "      <td>Southhampton,United Kingdom</td>\n",
       "      <td>Oakland, California</td>\n",
       "      <td>New</td>\n",
       "      <td>3</td>\n",
       "    </tr>\n",
       "    <tr>\n",
       "      <th>3770122</th>\n",
       "      <td>OAKLAND EXPRESS</td>\n",
       "      <td>2014-03-19</td>\n",
       "      <td>2014-04-01</td>\n",
       "      <td>2014-03-19</td>\n",
       "      <td>2014-03-30</td>\n",
       "      <td>Stadersand,Federal Republic of Germany</td>\n",
       "      <td>Oakland, California</td>\n",
       "      <td>New</td>\n",
       "      <td>3</td>\n",
       "    </tr>\n",
       "    <tr>\n",
       "      <th>3769877</th>\n",
       "      <td>OAKLAND EXPRESS</td>\n",
       "      <td>2014-03-13</td>\n",
       "      <td>2014-04-01</td>\n",
       "      <td>2014-03-27</td>\n",
       "      <td>2014-03-30</td>\n",
       "      <td>Puerto Manzanillo,Panama</td>\n",
       "      <td>Oakland, California</td>\n",
       "      <td>New</td>\n",
       "      <td>3</td>\n",
       "    </tr>\n",
       "    <tr>\n",
       "      <th>4595066</th>\n",
       "      <td>OAKLAND EXPRESS</td>\n",
       "      <td>2014-02-07</td>\n",
       "      <td>2014-03-31</td>\n",
       "      <td>2014-03-19</td>\n",
       "      <td>2014-03-30</td>\n",
       "      <td>Stadersand,Federal Republic of Germany</td>\n",
       "      <td>Oakland, California</td>\n",
       "      <td>New</td>\n",
       "      <td>3</td>\n",
       "    </tr>\n",
       "    <tr>\n",
       "      <th>4720567</th>\n",
       "      <td>OAKLAND EXPRESS</td>\n",
       "      <td>2014-02-04</td>\n",
       "      <td>2014-04-01</td>\n",
       "      <td>2014-03-16</td>\n",
       "      <td>2014-03-31</td>\n",
       "      <td>Southhampton,United Kingdom</td>\n",
       "      <td>Oakland, California</td>\n",
       "      <td>New</td>\n",
       "      <td>3</td>\n",
       "    </tr>\n",
       "    <tr>\n",
       "      <th>5270549</th>\n",
       "      <td>OAKLAND EXPRESS</td>\n",
       "      <td>2014-02-11</td>\n",
       "      <td>2014-04-01</td>\n",
       "      <td>2014-03-16</td>\n",
       "      <td>2014-03-31</td>\n",
       "      <td>Anvers,Belgium</td>\n",
       "      <td>Oakland, California</td>\n",
       "      <td>New</td>\n",
       "      <td>3</td>\n",
       "    </tr>\n",
       "    <tr>\n",
       "      <th>10273937</th>\n",
       "      <td>OAKLAND EXPRESS</td>\n",
       "      <td>2014-02-14</td>\n",
       "      <td>2014-04-01</td>\n",
       "      <td>2014-03-18</td>\n",
       "      <td>2014-03-31</td>\n",
       "      <td>Rotterdam,Netherlands</td>\n",
       "      <td>Oakland, California</td>\n",
       "      <td>New</td>\n",
       "      <td>3</td>\n",
       "    </tr>\n",
       "    <tr>\n",
       "      <th>9720541</th>\n",
       "      <td>OAKLAND EXPRESS</td>\n",
       "      <td>2014-02-12</td>\n",
       "      <td>2014-04-01</td>\n",
       "      <td>2014-03-16</td>\n",
       "      <td>2014-03-31</td>\n",
       "      <td>Southhampton,United Kingdom</td>\n",
       "      <td>Los Angeles, California</td>\n",
       "      <td>New</td>\n",
       "      <td>3</td>\n",
       "    </tr>\n",
       "    <tr>\n",
       "      <th>9161833</th>\n",
       "      <td>OAKLAND EXPRESS</td>\n",
       "      <td>2014-02-14</td>\n",
       "      <td>2014-04-01</td>\n",
       "      <td>2014-03-16</td>\n",
       "      <td>2014-03-31</td>\n",
       "      <td>Stadersand,Federal Republic of Germany</td>\n",
       "      <td>Oakland, California</td>\n",
       "      <td>New</td>\n",
       "      <td>3</td>\n",
       "    </tr>\n",
       "    <tr>\n",
       "      <th>6374571</th>\n",
       "      <td>OAKLAND EXPRESS</td>\n",
       "      <td>2014-02-07</td>\n",
       "      <td>2014-04-01</td>\n",
       "      <td>2014-03-16</td>\n",
       "      <td>2014-03-31</td>\n",
       "      <td>Stadersand,Federal Republic of Germany</td>\n",
       "      <td>Oakland, California</td>\n",
       "      <td>New</td>\n",
       "      <td>3</td>\n",
       "    </tr>\n",
       "    <tr>\n",
       "      <th>6374586</th>\n",
       "      <td>OAKLAND EXPRESS</td>\n",
       "      <td>2014-02-10</td>\n",
       "      <td>2014-04-01</td>\n",
       "      <td>2014-03-16</td>\n",
       "      <td>2014-03-31</td>\n",
       "      <td>Puerto Manzanillo,Panama</td>\n",
       "      <td>Los Angeles, California</td>\n",
       "      <td>New</td>\n",
       "      <td>3</td>\n",
       "    </tr>\n",
       "    <tr>\n",
       "      <th>3211703</th>\n",
       "      <td>OAKLAND EXPRESS</td>\n",
       "      <td>2014-02-12</td>\n",
       "      <td>2014-04-01</td>\n",
       "      <td>2014-03-16</td>\n",
       "      <td>2014-03-31</td>\n",
       "      <td>Rotterdam,Netherlands</td>\n",
       "      <td>Oakland, California</td>\n",
       "      <td>New</td>\n",
       "      <td>3</td>\n",
       "    </tr>\n",
       "  </tbody>\n",
       "</table>\n",
       "<p>349 rows × 9 columns</p>\n",
       "</div>"
      ],
      "text/plain": [
       "              vessel_name trade_update_date   run_date estimated_arrival_date  \\\n",
       "8298585   OAKLAND EXPRESS        2014-02-14 2014-03-03             2014-02-14   \n",
       "6358046   OAKLAND EXPRESS        2014-02-20 2014-03-04             2014-02-16   \n",
       "6920014   OAKLAND EXPRESS        2014-02-10 2014-03-07             2014-02-25   \n",
       "3755157   OAKLAND EXPRESS        2014-02-13 2014-03-07             2014-02-26   \n",
       "8581183   OAKLAND EXPRESS        2014-02-06 2014-03-07             2014-02-19   \n",
       "138300    OAKLAND EXPRESS        2014-02-18 2014-03-10             2014-02-26   \n",
       "6085286   OAKLAND EXPRESS        2014-02-27 2014-03-10             2014-03-01   \n",
       "6085311   OAKLAND EXPRESS        2014-02-13 2014-03-10             2014-02-25   \n",
       "2361693   OAKLAND EXPRESS        2014-02-27 2014-03-10             2014-03-02   \n",
       "2361664   OAKLAND EXPRESS        2014-02-13 2014-03-10             2014-03-01   \n",
       "2361635   OAKLAND EXPRESS        2014-02-12 2014-03-10             2014-02-28   \n",
       "9984149   OAKLAND EXPRESS        2014-02-06 2014-03-10             2014-02-28   \n",
       "2084932   OAKLAND EXPRESS        2014-03-13 2014-03-14             2014-03-03   \n",
       "4977890   OAKLAND EXPRESS        2014-02-18 2014-03-10             2014-03-01   \n",
       "1805990   OAKLAND EXPRESS        2014-02-12 2014-03-10             2014-02-26   \n",
       "1528522   OAKLAND EXPRESS        2014-02-05 2014-03-10             2014-02-28   \n",
       "6085285   OAKLAND EXPRESS        2014-03-05 2014-03-10             2014-02-28   \n",
       "1528095   OAKLAND EXPRESS        2014-02-24 2014-03-10             2014-03-03   \n",
       "1527861   OAKLAND EXPRESS        2014-02-13 2014-03-10             2014-03-01   \n",
       "1527823   OAKLAND EXPRESS        2014-02-12 2014-03-10             2014-02-27   \n",
       "1527767   OAKLAND EXPRESS        2014-02-07 2014-03-10             2014-02-28   \n",
       "1527751   OAKLAND EXPRESS        2014-03-07 2014-03-10             2014-03-03   \n",
       "6638332   OAKLAND EXPRESS        2014-03-10 2014-03-11             2014-03-01   \n",
       "6921631   OAKLAND EXPRESS        2014-02-12 2014-03-10             2014-02-25   \n",
       "1257986   OAKLAND EXPRESS        2014-02-18 2014-03-11             2014-02-28   \n",
       "1257119   OAKLAND EXPRESS        2014-02-20 2014-03-10             2014-03-08   \n",
       "1257009   OAKLAND EXPRESS        2014-02-12 2014-03-10             2014-03-01   \n",
       "6361710   OAKLAND EXPRESS        2014-02-27 2014-03-10             2014-03-01   \n",
       "5807813   OAKLAND EXPRESS        2014-02-13 2014-03-10             2014-02-26   \n",
       "2646902   OAKLAND EXPRESS        2014-02-24 2014-03-10             2014-02-22   \n",
       "...                   ...               ...        ...                    ...   \n",
       "436573    OAKLAND EXPRESS        2014-02-18 2014-04-01             2014-03-18   \n",
       "152631    OAKLAND EXPRESS        2014-02-13 2014-04-01             2014-03-18   \n",
       "151725    OAKLAND EXPRESS        2014-02-13 2014-03-31             2014-03-19   \n",
       "151691    OAKLAND EXPRESS        2014-02-12 2014-03-31             2014-03-19   \n",
       "983316    OAKLAND EXPRESS        2014-02-20 2014-03-31             2014-03-19   \n",
       "8316129   OAKLAND EXPRESS        2014-02-11 2014-04-01             2014-03-20   \n",
       "3211618   OAKLAND EXPRESS        2014-02-18 2014-03-31             2014-03-16   \n",
       "4990226   OAKLAND EXPRESS        2014-02-24 2014-03-31             2014-03-20   \n",
       "7207446   OAKLAND EXPRESS        2014-02-12 2014-03-31             2014-03-19   \n",
       "6934472   OAKLAND EXPRESS        2014-02-07 2014-03-31             2014-03-12   \n",
       "6933371   OAKLAND EXPRESS        2014-03-17 2014-03-31             2014-03-19   \n",
       "6097495   OAKLAND EXPRESS        2014-02-17 2014-03-31             2014-03-19   \n",
       "5821734   OAKLAND EXPRESS        2014-03-12 2014-04-01             2014-03-27   \n",
       "3495256   OAKLAND EXPRESS        2014-02-14 2014-04-01             2014-03-18   \n",
       "4719742   OAKLAND EXPRESS        2014-03-19 2014-04-01             2014-03-18   \n",
       "10555426  OAKLAND EXPRESS        2014-02-12 2014-03-31             2014-03-16   \n",
       "4314712   OAKLAND EXPRESS        2014-02-06 2014-03-31             2014-03-16   \n",
       "4314403   OAKLAND EXPRESS        2014-02-20 2014-03-31             2014-03-21   \n",
       "4045408   OAKLAND EXPRESS        2014-03-19 2014-04-01             2014-03-18   \n",
       "3770122   OAKLAND EXPRESS        2014-03-19 2014-04-01             2014-03-19   \n",
       "3769877   OAKLAND EXPRESS        2014-03-13 2014-04-01             2014-03-27   \n",
       "4595066   OAKLAND EXPRESS        2014-02-07 2014-03-31             2014-03-19   \n",
       "4720567   OAKLAND EXPRESS        2014-02-04 2014-04-01             2014-03-16   \n",
       "5270549   OAKLAND EXPRESS        2014-02-11 2014-04-01             2014-03-16   \n",
       "10273937  OAKLAND EXPRESS        2014-02-14 2014-04-01             2014-03-18   \n",
       "9720541   OAKLAND EXPRESS        2014-02-12 2014-04-01             2014-03-16   \n",
       "9161833   OAKLAND EXPRESS        2014-02-14 2014-04-01             2014-03-16   \n",
       "6374571   OAKLAND EXPRESS        2014-02-07 2014-04-01             2014-03-16   \n",
       "6374586   OAKLAND EXPRESS        2014-02-10 2014-04-01             2014-03-16   \n",
       "3211703   OAKLAND EXPRESS        2014-02-12 2014-04-01             2014-03-16   \n",
       "\n",
       "         actual_arrival_date                  foreign_port_of_lading  \\\n",
       "8298585           2014-03-01                   Rotterdam,Netherlands   \n",
       "6358046           2014-03-03  Stadersand,Federal Republic of Germany   \n",
       "6920014           2014-03-06  Stadersand,Federal Republic of Germany   \n",
       "3755157           2014-03-06  Stadersand,Federal Republic of Germany   \n",
       "8581183           2014-03-06                   Rotterdam,Netherlands   \n",
       "138300            2014-03-09  Stadersand,Federal Republic of Germany   \n",
       "6085286           2014-03-09                          Anvers,Belgium   \n",
       "6085311           2014-03-09                   Rotterdam,Netherlands   \n",
       "2361693           2014-03-09                          Anvers,Belgium   \n",
       "2361664           2014-03-09                          Anvers,Belgium   \n",
       "2361635           2014-03-09                   Rotterdam,Netherlands   \n",
       "9984149           2014-03-09  Stadersand,Federal Republic of Germany   \n",
       "2084932           2014-03-09  Stadersand,Federal Republic of Germany   \n",
       "4977890           2014-03-09  Stadersand,Federal Republic of Germany   \n",
       "1805990           2014-03-09                   Rotterdam,Netherlands   \n",
       "1528522           2014-03-09                   Rotterdam,Netherlands   \n",
       "6085285           2014-03-09  Stadersand,Federal Republic of Germany   \n",
       "1528095           2014-03-09  Stadersand,Federal Republic of Germany   \n",
       "1527861           2014-03-09                   Rotterdam,Netherlands   \n",
       "1527823           2014-03-09  Stadersand,Federal Republic of Germany   \n",
       "1527767           2014-03-09                   Rotterdam,Netherlands   \n",
       "1527751           2014-03-09  Stadersand,Federal Republic of Germany   \n",
       "6638332           2014-03-09                          Anvers,Belgium   \n",
       "6921631           2014-03-09                   Rotterdam,Netherlands   \n",
       "1257986           2014-03-09  Stadersand,Federal Republic of Germany   \n",
       "1257119           2014-03-09                   Rotterdam,Netherlands   \n",
       "1257009           2014-03-09             Southhampton,United Kingdom   \n",
       "6361710           2014-03-09                   Rotterdam,Netherlands   \n",
       "5807813           2014-03-09                          Anvers,Belgium   \n",
       "2646902           2014-03-09  Stadersand,Federal Republic of Germany   \n",
       "...                      ...                                     ...   \n",
       "436573            2014-03-30  Stadersand,Federal Republic of Germany   \n",
       "152631            2014-03-30                          Anvers,Belgium   \n",
       "151725            2014-03-30                          Anvers,Belgium   \n",
       "151691            2014-03-30             Southhampton,United Kingdom   \n",
       "983316            2014-03-30                   Rotterdam,Netherlands   \n",
       "8316129           2014-03-30                          Anvers,Belgium   \n",
       "3211618           2014-03-30                   Rotterdam,Netherlands   \n",
       "4990226           2014-03-30  Stadersand,Federal Republic of Germany   \n",
       "7207446           2014-03-30  Stadersand,Federal Republic of Germany   \n",
       "6934472           2014-03-30  Stadersand,Federal Republic of Germany   \n",
       "6933371           2014-03-30  Stadersand,Federal Republic of Germany   \n",
       "6097495           2014-03-30                          Anvers,Belgium   \n",
       "5821734           2014-03-30                Puerto Manzanillo,Panama   \n",
       "3495256           2014-03-30                          Anvers,Belgium   \n",
       "4719742           2014-03-30                          Anvers,Belgium   \n",
       "10555426          2014-03-30                   Rotterdam,Netherlands   \n",
       "4314712           2014-03-30  Stadersand,Federal Republic of Germany   \n",
       "4314403           2014-03-30  Stadersand,Federal Republic of Germany   \n",
       "4045408           2014-03-30             Southhampton,United Kingdom   \n",
       "3770122           2014-03-30  Stadersand,Federal Republic of Germany   \n",
       "3769877           2014-03-30                Puerto Manzanillo,Panama   \n",
       "4595066           2014-03-30  Stadersand,Federal Republic of Germany   \n",
       "4720567           2014-03-31             Southhampton,United Kingdom   \n",
       "5270549           2014-03-31                          Anvers,Belgium   \n",
       "10273937          2014-03-31                   Rotterdam,Netherlands   \n",
       "9720541           2014-03-31             Southhampton,United Kingdom   \n",
       "9161833           2014-03-31  Stadersand,Federal Republic of Germany   \n",
       "6374571           2014-03-31  Stadersand,Federal Republic of Germany   \n",
       "6374586           2014-03-31                Puerto Manzanillo,Panama   \n",
       "3211703           2014-03-31                   Rotterdam,Netherlands   \n",
       "\n",
       "                                  port_of_unlading record_status_indicator  \\\n",
       "8298585                    Los Angeles, California                     New   \n",
       "6358046                        Oakland, California                     New   \n",
       "6920014                        New York, New York                      New   \n",
       "3755157                        New York, New York                      New   \n",
       "8581183                        New York, New York                      New   \n",
       "138300                         New York, New York                      New   \n",
       "6085286                        New York, New York                      New   \n",
       "6085311                        New York, New York                      New   \n",
       "2361693                        New York, New York                      New   \n",
       "2361664                        New York, New York                      New   \n",
       "2361635                        New York, New York                      New   \n",
       "9984149                        New York, New York                      New   \n",
       "2084932                        New York, New York                  Amended   \n",
       "4977890                        New York, New York                      New   \n",
       "1805990                        New York, New York                      New   \n",
       "1528522                        New York, New York                      New   \n",
       "6085285   New York/Newark Area, Newark, New Jersey                     New   \n",
       "1528095                        New York, New York                      New   \n",
       "1527861                        New York, New York                      New   \n",
       "1527823                        New York, New York                      New   \n",
       "1527767                        New York, New York                      New   \n",
       "1527751                        New York, New York                      New   \n",
       "6638332                        New York, New York                  Amended   \n",
       "6921631   New York/Newark Area, Newark, New Jersey                     New   \n",
       "1257986   New York/Newark Area, Newark, New Jersey                     New   \n",
       "1257119                        New York, New York                      New   \n",
       "1257009                        New York, New York                      New   \n",
       "6361710                        New York, New York                      New   \n",
       "5807813                        New York, New York                      New   \n",
       "2646902                          Savannah, Georgia                     New   \n",
       "...                                            ...                     ...   \n",
       "436573                         Oakland, California                     New   \n",
       "152631                         Oakland, California                     New   \n",
       "151725                         Oakland, California                     New   \n",
       "151691                         Oakland, California                     New   \n",
       "983316                         Oakland, California                     New   \n",
       "8316129                        Oakland, California                     New   \n",
       "3211618                        Oakland, California                     New   \n",
       "4990226                        Oakland, California                     New   \n",
       "7207446                        Oakland, California                     New   \n",
       "6934472                        Oakland, California                     New   \n",
       "6933371                        Oakland, California                     New   \n",
       "6097495                        Oakland, California                     New   \n",
       "5821734                        Oakland, California                     New   \n",
       "3495256                        Oakland, California                     New   \n",
       "4719742                        Oakland, California                     New   \n",
       "10555426                       Oakland, California                     New   \n",
       "4314712                        Oakland, California                     New   \n",
       "4314403                        Oakland, California                     New   \n",
       "4045408                        Oakland, California                     New   \n",
       "3770122                        Oakland, California                     New   \n",
       "3769877                        Oakland, California                     New   \n",
       "4595066                        Oakland, California                     New   \n",
       "4720567                        Oakland, California                     New   \n",
       "5270549                        Oakland, California                     New   \n",
       "10273937                       Oakland, California                     New   \n",
       "9720541                    Los Angeles, California                     New   \n",
       "9161833                        Oakland, California                     New   \n",
       "6374571                        Oakland, California                     New   \n",
       "6374586                    Los Angeles, California                     New   \n",
       "3211703                        Oakland, California                     New   \n",
       "\n",
       "          month_act  \n",
       "8298585           3  \n",
       "6358046           3  \n",
       "6920014           3  \n",
       "3755157           3  \n",
       "8581183           3  \n",
       "138300            3  \n",
       "6085286           3  \n",
       "6085311           3  \n",
       "2361693           3  \n",
       "2361664           3  \n",
       "2361635           3  \n",
       "9984149           3  \n",
       "2084932           3  \n",
       "4977890           3  \n",
       "1805990           3  \n",
       "1528522           3  \n",
       "6085285           3  \n",
       "1528095           3  \n",
       "1527861           3  \n",
       "1527823           3  \n",
       "1527767           3  \n",
       "1527751           3  \n",
       "6638332           3  \n",
       "6921631           3  \n",
       "1257986           3  \n",
       "1257119           3  \n",
       "1257009           3  \n",
       "6361710           3  \n",
       "5807813           3  \n",
       "2646902           3  \n",
       "...             ...  \n",
       "436573            3  \n",
       "152631            3  \n",
       "151725            3  \n",
       "151691            3  \n",
       "983316            3  \n",
       "8316129           3  \n",
       "3211618           3  \n",
       "4990226           3  \n",
       "7207446           3  \n",
       "6934472           3  \n",
       "6933371           3  \n",
       "6097495           3  \n",
       "5821734           3  \n",
       "3495256           3  \n",
       "4719742           3  \n",
       "10555426          3  \n",
       "4314712           3  \n",
       "4314403           3  \n",
       "4045408           3  \n",
       "3770122           3  \n",
       "3769877           3  \n",
       "4595066           3  \n",
       "4720567           3  \n",
       "5270549           3  \n",
       "10273937          3  \n",
       "9720541           3  \n",
       "9161833           3  \n",
       "6374571           3  \n",
       "6374586           3  \n",
       "3211703           3  \n",
       "\n",
       "[349 rows x 9 columns]"
      ]
     },
     "execution_count": 50,
     "metadata": {},
     "output_type": "execute_result"
    }
   ],
   "source": [
    "vessel_detail"
   ]
  },
  {
   "cell_type": "markdown",
   "metadata": {},
   "source": [
    "** Create a modified 2014 file **"
   ]
  },
  {
   "cell_type": "code",
   "execution_count": 52,
   "metadata": {},
   "outputs": [
    {
     "data": {
      "text/plain": [
       "(10680151, 25)"
      ]
     },
     "execution_count": 52,
     "metadata": {},
     "output_type": "execute_result"
    }
   ],
   "source": [
    "df_orig_2014.shape"
   ]
  },
  {
   "cell_type": "code",
   "execution_count": 53,
   "metadata": {},
   "outputs": [
    {
     "data": {
      "text/html": [
       "<div>\n",
       "<style>\n",
       "    .dataframe thead tr:only-child th {\n",
       "        text-align: right;\n",
       "    }\n",
       "\n",
       "    .dataframe thead th {\n",
       "        text-align: left;\n",
       "    }\n",
       "\n",
       "    .dataframe tbody tr th {\n",
       "        vertical-align: top;\n",
       "    }\n",
       "</style>\n",
       "<table border=\"1\" class=\"dataframe\">\n",
       "  <thead>\n",
       "    <tr style=\"text-align: right;\">\n",
       "      <th></th>\n",
       "      <th>identifier</th>\n",
       "      <th>trade_update_date</th>\n",
       "      <th>run_date</th>\n",
       "      <th>vessel_name_orig</th>\n",
       "      <th>port_of_unlading</th>\n",
       "      <th>estimated_arrival_date</th>\n",
       "      <th>foreign_port_of_lading</th>\n",
       "      <th>record_status_indicator</th>\n",
       "      <th>place_of_receipt</th>\n",
       "      <th>port_of_destination</th>\n",
       "      <th>...</th>\n",
       "      <th>description_sequence_number</th>\n",
       "      <th>piece_count</th>\n",
       "      <th>description_text</th>\n",
       "      <th>carrier</th>\n",
       "      <th>day_of_week_est</th>\n",
       "      <th>day_of_week_act</th>\n",
       "      <th>month_est</th>\n",
       "      <th>month_act</th>\n",
       "      <th>delay_days</th>\n",
       "      <th>vessel_name</th>\n",
       "    </tr>\n",
       "  </thead>\n",
       "  <tbody>\n",
       "    <tr>\n",
       "      <th>0</th>\n",
       "      <td>2014082158845</td>\n",
       "      <td>2014-07-30</td>\n",
       "      <td>2014-08-21</td>\n",
       "      <td>HYUNDAI FORCE</td>\n",
       "      <td>Seattle, Washington</td>\n",
       "      <td>2014-08-14</td>\n",
       "      <td>Pusan,South Korea</td>\n",
       "      <td>New</td>\n",
       "      <td>XINGANG, PC</td>\n",
       "      <td>NaN</td>\n",
       "      <td>...</td>\n",
       "      <td>1</td>\n",
       "      <td>7881</td>\n",
       "      <td>IKEA HOME FURNISHING PRODUCTS TARIFF NUMBER 44...</td>\n",
       "      <td>HYUNDAI</td>\n",
       "      <td>3</td>\n",
       "      <td>1</td>\n",
       "      <td>8</td>\n",
       "      <td>8</td>\n",
       "      <td>5</td>\n",
       "      <td>HYUNDAI FORCE</td>\n",
       "    </tr>\n",
       "    <tr>\n",
       "      <th>1</th>\n",
       "      <td>2014082158905</td>\n",
       "      <td>2014-07-30</td>\n",
       "      <td>2014-08-21</td>\n",
       "      <td>HYUNDAI FORCE</td>\n",
       "      <td>Seattle, Washington</td>\n",
       "      <td>2014-08-14</td>\n",
       "      <td>Pusan,South Korea</td>\n",
       "      <td>New</td>\n",
       "      <td>XINGANG, PC</td>\n",
       "      <td>NaN</td>\n",
       "      <td>...</td>\n",
       "      <td>1</td>\n",
       "      <td>80</td>\n",
       "      <td>KLA-GARD PACKED ON 60 PALLETS -DRILLING MUD AD...</td>\n",
       "      <td>HYUNDAI</td>\n",
       "      <td>3</td>\n",
       "      <td>1</td>\n",
       "      <td>8</td>\n",
       "      <td>8</td>\n",
       "      <td>5</td>\n",
       "      <td>HYUNDAI FORCE</td>\n",
       "    </tr>\n",
       "    <tr>\n",
       "      <th>2</th>\n",
       "      <td>2014082158905</td>\n",
       "      <td>2014-07-30</td>\n",
       "      <td>2014-08-21</td>\n",
       "      <td>HYUNDAI FORCE</td>\n",
       "      <td>Seattle, Washington</td>\n",
       "      <td>2014-08-14</td>\n",
       "      <td>Pusan,South Korea</td>\n",
       "      <td>New</td>\n",
       "      <td>XINGANG, PC</td>\n",
       "      <td>NaN</td>\n",
       "      <td>...</td>\n",
       "      <td>1</td>\n",
       "      <td>80</td>\n",
       "      <td>KLA-GARD PACKED ON 60 PALLETS -DRILLING MUD AD...</td>\n",
       "      <td>HYUNDAI</td>\n",
       "      <td>3</td>\n",
       "      <td>1</td>\n",
       "      <td>8</td>\n",
       "      <td>8</td>\n",
       "      <td>5</td>\n",
       "      <td>HYUNDAI FORCE</td>\n",
       "    </tr>\n",
       "    <tr>\n",
       "      <th>3</th>\n",
       "      <td>2014082158905</td>\n",
       "      <td>2014-07-30</td>\n",
       "      <td>2014-08-21</td>\n",
       "      <td>HYUNDAI FORCE</td>\n",
       "      <td>Seattle, Washington</td>\n",
       "      <td>2014-08-14</td>\n",
       "      <td>Pusan,South Korea</td>\n",
       "      <td>New</td>\n",
       "      <td>XINGANG, PC</td>\n",
       "      <td>NaN</td>\n",
       "      <td>...</td>\n",
       "      <td>1</td>\n",
       "      <td>80</td>\n",
       "      <td>KLA-GARD PACKED ON 60 PALLETS -DRILLING MUD AD...</td>\n",
       "      <td>HYUNDAI</td>\n",
       "      <td>3</td>\n",
       "      <td>1</td>\n",
       "      <td>8</td>\n",
       "      <td>8</td>\n",
       "      <td>5</td>\n",
       "      <td>HYUNDAI FORCE</td>\n",
       "    </tr>\n",
       "    <tr>\n",
       "      <th>4</th>\n",
       "      <td>2014082158983</td>\n",
       "      <td>2014-08-06</td>\n",
       "      <td>2014-08-21</td>\n",
       "      <td>OOCL SHENZHEN</td>\n",
       "      <td>Long Beach, California</td>\n",
       "      <td>2014-08-19</td>\n",
       "      <td>Yantian,China (Mainland)</td>\n",
       "      <td>New</td>\n",
       "      <td>YANTIAN,CHINA</td>\n",
       "      <td>NaN</td>\n",
       "      <td>...</td>\n",
       "      <td>1</td>\n",
       "      <td>498</td>\n",
       "      <td>P.O.NO.050803/050938/051058/051197/051345/051 ...</td>\n",
       "      <td>OOCL</td>\n",
       "      <td>1</td>\n",
       "      <td>2</td>\n",
       "      <td>8</td>\n",
       "      <td>8</td>\n",
       "      <td>1</td>\n",
       "      <td>OOCL SHENZHEN</td>\n",
       "    </tr>\n",
       "  </tbody>\n",
       "</table>\n",
       "<p>5 rows × 25 columns</p>\n",
       "</div>"
      ],
      "text/plain": [
       "      identifier trade_update_date   run_date vessel_name_orig  \\\n",
       "0  2014082158845        2014-07-30 2014-08-21    HYUNDAI FORCE   \n",
       "1  2014082158905        2014-07-30 2014-08-21    HYUNDAI FORCE   \n",
       "2  2014082158905        2014-07-30 2014-08-21    HYUNDAI FORCE   \n",
       "3  2014082158905        2014-07-30 2014-08-21    HYUNDAI FORCE   \n",
       "4  2014082158983        2014-08-06 2014-08-21    OOCL SHENZHEN   \n",
       "\n",
       "         port_of_unlading estimated_arrival_date    foreign_port_of_lading  \\\n",
       "0     Seattle, Washington             2014-08-14         Pusan,South Korea   \n",
       "1     Seattle, Washington             2014-08-14         Pusan,South Korea   \n",
       "2     Seattle, Washington             2014-08-14         Pusan,South Korea   \n",
       "3     Seattle, Washington             2014-08-14         Pusan,South Korea   \n",
       "4  Long Beach, California             2014-08-19  Yantian,China (Mainland)   \n",
       "\n",
       "  record_status_indicator place_of_receipt port_of_destination      ...        \\\n",
       "0                     New      XINGANG, PC                 NaN      ...         \n",
       "1                     New      XINGANG, PC                 NaN      ...         \n",
       "2                     New      XINGANG, PC                 NaN      ...         \n",
       "3                     New      XINGANG, PC                 NaN      ...         \n",
       "4                     New    YANTIAN,CHINA                 NaN      ...         \n",
       "\n",
       "  description_sequence_number piece_count  \\\n",
       "0                           1        7881   \n",
       "1                           1          80   \n",
       "2                           1          80   \n",
       "3                           1          80   \n",
       "4                           1         498   \n",
       "\n",
       "                                    description_text  carrier day_of_week_est  \\\n",
       "0  IKEA HOME FURNISHING PRODUCTS TARIFF NUMBER 44...  HYUNDAI               3   \n",
       "1  KLA-GARD PACKED ON 60 PALLETS -DRILLING MUD AD...  HYUNDAI               3   \n",
       "2  KLA-GARD PACKED ON 60 PALLETS -DRILLING MUD AD...  HYUNDAI               3   \n",
       "3  KLA-GARD PACKED ON 60 PALLETS -DRILLING MUD AD...  HYUNDAI               3   \n",
       "4  P.O.NO.050803/050938/051058/051197/051345/051 ...     OOCL               1   \n",
       "\n",
       "   day_of_week_act  month_est month_act delay_days    vessel_name  \n",
       "0                1          8         8          5  HYUNDAI FORCE  \n",
       "1                1          8         8          5  HYUNDAI FORCE  \n",
       "2                1          8         8          5  HYUNDAI FORCE  \n",
       "3                1          8         8          5  HYUNDAI FORCE  \n",
       "4                2          8         8          1  OOCL SHENZHEN  \n",
       "\n",
       "[5 rows x 25 columns]"
      ]
     },
     "execution_count": 53,
     "metadata": {},
     "output_type": "execute_result"
    }
   ],
   "source": [
    "df_orig_2014.head()"
   ]
  },
  {
   "cell_type": "code",
   "execution_count": 51,
   "metadata": {
    "collapsed": true
   },
   "outputs": [],
   "source": [
    "#write all data to a file\n",
    "df_orig_2014.to_pickle('2014_data_V2.pkl')"
   ]
  },
  {
   "cell_type": "markdown",
   "metadata": {},
   "source": [
    "** Create Los Angeles/Long Beach and Shanghai file**  \n",
    "These are the largest U.S. ports by volume and the largest Chinese ports by volume"
   ]
  },
  {
   "cell_type": "code",
   "execution_count": 58,
   "metadata": {},
   "outputs": [],
   "source": [
    "#create a dataframe where Los Angeles or Long Beach is the port of unlading \n",
    "#and Shanghai China is the foreign port of lading\n",
    "df_LA_SH_2014 = df_orig_2014[(df_orig_2014.port_of_unlading.isin(['Los Angeles, California','Long Beach, California'])) &\n",
    "              (df_orig_2014.foreign_port_of_lading.isin(['Shanghai ,China (Mainland)']))]"
   ]
  },
  {
   "cell_type": "code",
   "execution_count": 59,
   "metadata": {},
   "outputs": [
    {
     "data": {
      "text/plain": [
       "(658583, 25)"
      ]
     },
     "execution_count": 59,
     "metadata": {},
     "output_type": "execute_result"
    }
   ],
   "source": [
    "#check the shape\n",
    "df_LA_SH_2014.shape"
   ]
  },
  {
   "cell_type": "code",
   "execution_count": 62,
   "metadata": {},
   "outputs": [
    {
     "data": {
      "text/plain": [
       "([Shanghai ,China (Mainland)]\n",
       " Categories (1, object): [Shanghai ,China (Mainland)],\n",
       " [Los Angeles, California, Long Beach, California]\n",
       " Categories (2, object): [Los Angeles, California, Long Beach, California])"
      ]
     },
     "execution_count": 62,
     "metadata": {},
     "output_type": "execute_result"
    }
   ],
   "source": [
    "#check the resulting ports\n",
    "df_LA_SH_2014.foreign_port_of_lading.unique(), df_LA_SH_2014.port_of_unlading.unique()"
   ]
  },
  {
   "cell_type": "code",
   "execution_count": 63,
   "metadata": {
    "collapsed": true
   },
   "outputs": [],
   "source": [
    "#write all data to a file\n",
    "df_LA_SH_2014.to_pickle('2014_data_LA_SH_V2.pkl')"
   ]
  },
  {
   "cell_type": "markdown",
   "metadata": {},
   "source": [
    "**Read in Los Angeles/Long Beach and Shanghai subset file **"
   ]
  },
  {
   "cell_type": "code",
   "execution_count": null,
   "metadata": {
    "collapsed": true
   },
   "outputs": [],
   "source": [
    "df = pd.read_pickle('2014_data_LA_SH.pkl')"
   ]
  },
  {
   "cell_type": "code",
   "execution_count": null,
   "metadata": {
    "collapsed": true
   },
   "outputs": [],
   "source": [
    "#check that all rows imported\n",
    "df.shape"
   ]
  },
  {
   "cell_type": "code",
   "execution_count": null,
   "metadata": {
    "collapsed": true,
    "scrolled": true
   },
   "outputs": [],
   "source": [
    "#check datatypes\n",
    "df.dtypes"
   ]
  },
  {
   "cell_type": "code",
   "execution_count": null,
   "metadata": {
    "collapsed": true
   },
   "outputs": [],
   "source": [
    "df.head()"
   ]
  },
  {
   "cell_type": "code",
   "execution_count": null,
   "metadata": {
    "collapsed": true
   },
   "outputs": [],
   "source": [
    "list(df)"
   ]
  },
  {
   "cell_type": "code",
   "execution_count": null,
   "metadata": {
    "collapsed": true
   },
   "outputs": [],
   "source": [
    "#create a data frame with the fields that we will group often\n",
    "df_sub = df[['trade_update_date','run_date','vessel_name','port_of_unlading','estimated_arrival_date',\n",
    " 'foreign_port_of_lading', 'record_status_indicator','actual_arrival_date','consignee_name',\n",
    " 'shipper_party_name','voyage','month_est']]"
   ]
  },
  {
   "cell_type": "code",
   "execution_count": null,
   "metadata": {
    "collapsed": true
   },
   "outputs": [],
   "source": [
    "#create a data frame with the fields that we will group often\n",
    "df_sub2 = df[['trade_update_date','run_date','vessel_name','port_of_unlading','estimated_arrival_date',\n",
    " 'foreign_port_of_lading', 'record_status_indicator','actual_arrival_date','voyage','month_est']]"
   ]
  },
  {
   "cell_type": "markdown",
   "metadata": {},
   "source": [
    "** Get voyage stats by month, month will be a proxy for vessel voyage **\n",
    "- Given the length of vessel voyages between China and California we would not expect to see the same vessel arrive more than once a month, with the possible exception of a vessel that arrives at the beginning of a month and then returns at the end of the month."
   ]
  },
  {
   "cell_type": "code",
   "execution_count": null,
   "metadata": {
    "collapsed": true
   },
   "outputs": [],
   "source": [
    "#get the unique counts\n",
    "voyage_stats = df.groupby(['vessel_name','month_est']\n",
    "          )['identifier','record_status_indicator','foreign_port_of_lading','port_of_unlading',\n",
    "            'trade_update_date','run_date','estimated_arrival_date','actual_arrival_date',\n",
    "            'container_number','consignee_name','shipper_party_name'].nunique()\n",
    "\n",
    "#flatten the index to make it easier to work with\n",
    "voyage_stats.reset_index(col_level=1,inplace = True)"
   ]
  },
  {
   "cell_type": "code",
   "execution_count": null,
   "metadata": {
    "collapsed": true
   },
   "outputs": [],
   "source": [
    "voyage_stats.sort_values('actual_arrival_date', ascending = False).head()"
   ]
  },
  {
   "cell_type": "code",
   "execution_count": null,
   "metadata": {
    "collapsed": true
   },
   "outputs": [],
   "source": [
    "#view one of the vessel voyages with multiple actual_arrival_dates\n",
    "df_sub[(df_sub.vessel_name.str.contains('OOCL KUALA LUMPUR'))& \n",
    "       (df_sub.port_of_unlading.str.contains('Los Angeles, California')) & \n",
    "       (df_sub.month_est == 11)\n",
    "        ]['actual_arrival_date'].unique()"
   ]
  },
  {
   "cell_type": "code",
   "execution_count": null,
   "metadata": {
    "collapsed": true
   },
   "outputs": [],
   "source": [
    "#view the vessel data\n",
    "df_sub2[(df_sub2.vessel_name.str.contains('OOCL KUALA LUMPUR')) &\n",
    "        (df_sub2.month_est == 11)].drop_duplicates().sort_values('actual_arrival_date')[50:100]\n",
    "#estimated arrival date looks much earlier - looks like it might have gone on an earlier shipment"
   ]
  },
  {
   "cell_type": "code",
   "execution_count": null,
   "metadata": {
    "collapsed": true
   },
   "outputs": [],
   "source": [
    "#view the vessel data\n",
    "df_sub2[(df_sub2.vessel_name.str.contains('OOCL KUALA LUMPUR')) &\n",
    "        (df_sub2.month_est == 11)].drop_duplicates().sort_values('actual_arrival_date')[50:100]\n",
    "#estimated arrival date looks much earlier - looks like it might have gone on an earlier shipment"
   ]
  },
  {
   "cell_type": "code",
   "execution_count": null,
   "metadata": {
    "collapsed": true
   },
   "outputs": [],
   "source": [
    "#view the distribution of containers by month\n",
    "sns.distplot(voyage_stats.container_number)\n",
    "#sns.distplot(voyage_stats.container_number, bins=20, kde=False, rug=True);"
   ]
  },
  {
   "cell_type": "code",
   "execution_count": null,
   "metadata": {
    "collapsed": true
   },
   "outputs": [],
   "source": [
    "#view the distribution by month of \n",
    "sns.set(style=\"whitegrid\")\n",
    "ax = sns.lvplot(x=\"month_est\", y=\"container_number\", data=voyage_stats, color = 'steelblue')\n",
    "ax.set_ylabel('containers by vessel')\n",
    "ax.set_title('container volume distribution by month')\n",
    "#sns.distplot(voyage_stats.container_number)\n",
    "#sns.distplot(voyage_stats.container_number, bins=20, kde=False, rug=True);"
   ]
  },
  {
   "cell_type": "code",
   "execution_count": null,
   "metadata": {
    "collapsed": true
   },
   "outputs": [],
   "source": [
    "#view the distribution by month of \n",
    "sns.set(style=\"whitegrid\")\n",
    "ax = sns.lvplot(x=\"month_est\", y=\"estimated_arrival_date\", data=voyage_stats, color = 'plum')\n",
    "ax.set_ylabel('estimated arrival dates per vessel')\n",
    "ax.set_title('distribution of estimated arrival dates per vessel by month')\n",
    "#sns.distplot(voyage_stats.container_number)\n",
    "#sns.distplot(voyage_stats.container_number, bins=20, kde=False, rug=True);"
   ]
  },
  {
   "cell_type": "code",
   "execution_count": null,
   "metadata": {
    "collapsed": true
   },
   "outputs": [],
   "source": [
    "#view the distribution by month of \n",
    "sns.set(style=\"whitegrid\")\n",
    "ax = sns.lvplot(x=\"month_est\", y=\"actual_arrival_date\", data=voyage_stats, color = 'mediumorchid')\n",
    "ax.set_xlabel('month')\n",
    "ax.set_ylabel('actual arrival dates per vessel by month')\n",
    "ax.set_title('distribution of actual arrival dates per vessel per month')\n",
    "ax.set(ylim=(0, 25))\n",
    "#sns.distplot(voyage_stats.container_number)\n",
    "#sns.distplot(voyage_stats.container_number, bins=20, kde=False, rug=True);"
   ]
  },
  {
   "cell_type": "code",
   "execution_count": null,
   "metadata": {
    "collapsed": true
   },
   "outputs": [],
   "source": [
    "#arrivals per vessel\n",
    "print len(voyage_stats[voyage_stats.actual_arrival_date > 2]), len(voyage_stats)\n",
    "print round(len(voyage_stats[voyage_stats.actual_arrival_date > 2])/ (len(voyage_stats) * 1.0),4)"
   ]
  },
  {
   "cell_type": "markdown",
   "metadata": {},
   "source": [
    "** Problems Encountered **  \n",
    "  \n",
    "Data Cleaning Issues:   \n",
    "- ship names are not clean - there are different spellings for the same ship\n",
    "- there are errors in the data - non-2014 dates appear (this only 1% of the time and can be removed from the dataset)\n",
    "\n",
    "Data Integrity Issues:  \n",
    "\n"
   ]
  },
  {
   "cell_type": "markdown",
   "metadata": {},
   "source": [
    "** Consider using only vessels observations that have at most two actual arrival dates per month **\n"
   ]
  },
  {
   "cell_type": "code",
   "execution_count": null,
   "metadata": {
    "collapsed": true
   },
   "outputs": [],
   "source": [
    "#subset voyage stats to only vessels that had at most 2 actual arrival dates\n",
    "voyage_stats2 = voyage_stats[voyage_stats.actual_arrival_date <= 2]"
   ]
  },
  {
   "cell_type": "code",
   "execution_count": null,
   "metadata": {
    "collapsed": true
   },
   "outputs": [],
   "source": [
    "#compare freight volumes percent of original remaining\n",
    "round(voyage_stats2.container_number.sum() / (voyage_stats.container_number.sum() * 1.0),4)"
   ]
  },
  {
   "cell_type": "markdown",
   "metadata": {},
   "source": [
    "This will drop 34% of the containers, which seems like too large a percentage to drop."
   ]
  },
  {
   "cell_type": "markdown",
   "metadata": {},
   "source": [
    "** Are there any correlations between the delay_days and any of the other possible features **"
   ]
  },
  {
   "cell_type": "markdown",
   "metadata": {},
   "source": [
    "features: \n",
    " 'month_est',\n",
    " 'day_of_week_est'\n",
    " 'record_status_indicator',\n",
    " 'consignee_name',\n",
    " 'shipper_party_name',\n",
    " 'description_sequence_number',\n",
    " 'piece_count',\n",
    " 'description_text',\n",
    " 'delay_days']"
   ]
  },
  {
   "cell_type": "code",
   "execution_count": null,
   "metadata": {
    "collapsed": true
   },
   "outputs": [],
   "source": [
    "consignees = df[['container_number','consignee_name']].groupby([\n",
    "    'consignee_name'],as_index = False).count().sort_values('container_number',ascending = False)"
   ]
  },
  {
   "cell_type": "code",
   "execution_count": null,
   "metadata": {
    "collapsed": true
   },
   "outputs": [],
   "source": [
    "consignees['containers'] = consignees.container_number\n",
    "consignees.drop('container_number',1,inplace = True)"
   ]
  },
  {
   "cell_type": "code",
   "execution_count": null,
   "metadata": {
    "collapsed": true
   },
   "outputs": [],
   "source": [
    "consignees.head()"
   ]
  },
  {
   "cell_type": "code",
   "execution_count": null,
   "metadata": {
    "collapsed": true
   },
   "outputs": [],
   "source": [
    "consignees['top_consignee'] = np.where(consignees.containers/500 >= 1, 1, 0)"
   ]
  },
  {
   "cell_type": "code",
   "execution_count": null,
   "metadata": {
    "collapsed": true
   },
   "outputs": [],
   "source": [
    "consignees.head()"
   ]
  },
  {
   "cell_type": "code",
   "execution_count": null,
   "metadata": {
    "collapsed": true
   },
   "outputs": [],
   "source": [
    "df_features = df[['delay_days','trade_update_date', 'run_date', 'estimated_arrival_date','month_est', \n",
    "                  'day_of_week_est', 'record_status_indicator', 'consignee_name', \n",
    "                  'shipper_party_name', 'description_sequence_number', 'piece_count', \n",
    "                  'description_text']]"
   ]
  },
  {
   "cell_type": "code",
   "execution_count": null,
   "metadata": {
    "collapsed": true
   },
   "outputs": [],
   "source": [
    "df_features"
   ]
  },
  {
   "cell_type": "code",
   "execution_count": null,
   "metadata": {
    "collapsed": true
   },
   "outputs": [],
   "source": [
    "df_features = df_features.merge(consignees, left_on='consignee_name', right_on='consignee_name', how='left')"
   ]
  },
  {
   "cell_type": "code",
   "execution_count": null,
   "metadata": {
    "collapsed": true
   },
   "outputs": [],
   "source": [
    "df_features.drop('containers',1,inplace = True)"
   ]
  },
  {
   "cell_type": "code",
   "execution_count": null,
   "metadata": {
    "collapsed": true
   },
   "outputs": [],
   "source": [
    "df_features.head()"
   ]
  },
  {
   "cell_type": "code",
   "execution_count": null,
   "metadata": {
    "collapsed": true
   },
   "outputs": [],
   "source": [
    "df_features['top_consignee'] = np.where(df_features.top_consignee.isnull(), 0, df_features.top_consignee).astype(int)"
   ]
  },
  {
   "cell_type": "code",
   "execution_count": null,
   "metadata": {
    "collapsed": true
   },
   "outputs": [],
   "source": [
    "df_features.head()"
   ]
  },
  {
   "cell_type": "code",
   "execution_count": null,
   "metadata": {
    "collapsed": true
   },
   "outputs": [],
   "source": [
    "#one hot encode variables\n",
    "#pd.get_dummies(df, prefix=['col1', 'col2'])\n",
    "df_features = pd.get_dummies(df_features,columns=['record_status_indicator'])"
   ]
  },
  {
   "cell_type": "code",
   "execution_count": null,
   "metadata": {
    "collapsed": true
   },
   "outputs": [],
   "source": [
    "df_features.head()"
   ]
  },
  {
   "cell_type": "code",
   "execution_count": null,
   "metadata": {
    "collapsed": true
   },
   "outputs": [],
   "source": [
    "#drop record status deleted\n",
    "df_features.drop('record_status_indicator_Deleted',1,inplace = True)"
   ]
  },
  {
   "cell_type": "code",
   "execution_count": null,
   "metadata": {
    "collapsed": true
   },
   "outputs": [],
   "source": [
    "#create a pairwise correlation matrix\n",
    "df_corr = df_features.corr()"
   ]
  },
  {
   "cell_type": "code",
   "execution_count": null,
   "metadata": {
    "collapsed": true,
    "scrolled": true
   },
   "outputs": [],
   "source": [
    "df_corr"
   ]
  },
  {
   "cell_type": "code",
   "execution_count": null,
   "metadata": {
    "collapsed": true
   },
   "outputs": [],
   "source": [
    "df_corr[['delay_days']]"
   ]
  },
  {
   "cell_type": "markdown",
   "metadata": {},
   "source": [
    "** Next Steps continue working on features **"
   ]
  }
 ],
 "metadata": {
  "anaconda-cloud": {},
  "kernelspec": {
   "display_name": "Python [conda root]",
   "language": "python",
   "name": "conda-root-py"
  },
  "language_info": {
   "codemirror_mode": {
    "name": "ipython",
    "version": 2
   },
   "file_extension": ".py",
   "mimetype": "text/x-python",
   "name": "python",
   "nbconvert_exporter": "python",
   "pygments_lexer": "ipython2",
   "version": "2.7.14"
  }
 },
 "nbformat": 4,
 "nbformat_minor": 1
}
