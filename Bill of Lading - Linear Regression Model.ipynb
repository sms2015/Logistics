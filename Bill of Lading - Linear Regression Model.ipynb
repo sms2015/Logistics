{
 "cells": [
  {
   "cell_type": "markdown",
   "metadata": {},
   "source": [
    "# Using Predictive Analytics to Predict Delays in Maritime Container Shipping"
   ]
  },
  {
   "cell_type": "code",
   "execution_count": 1,
   "metadata": {
    "collapsed": true
   },
   "outputs": [],
   "source": [
    "%matplotlib inline"
   ]
  },
  {
   "cell_type": "markdown",
   "metadata": {},
   "source": [
    "** Import Libraries **"
   ]
  },
  {
   "cell_type": "code",
   "execution_count": 2,
   "metadata": {
    "collapsed": true
   },
   "outputs": [],
   "source": [
    "import csv\n",
    "import pandas as pd\n",
    "import numpy as np\n",
    "from datetime import datetime, timedelta\n",
    "\n",
    "import pylab \n",
    "import scipy.stats as stats\n",
    "import matplotlib.pyplot as plt\n",
    "import seaborn as sns\n",
    "\n",
    "import warnings\n",
    "#https://github.com/pandas-dev/pandas/issues/8509\n",
    "warnings.filterwarnings('ignore', 'numpy not_equal will not check object identity in the future')\n",
    "\n",
    "#import sklearn libraries\n",
    "from sklearn.model_selection import train_test_split\n",
    "from sklearn.preprocessing import scale, StandardScaler\n",
    "from sklearn import linear_model\n",
    "from sklearn.metrics import mean_squared_error, r2_score, make_scorer\n",
    "\n",
    "from sklearn.model_selection import ShuffleSplit\n",
    "from sklearn.model_selection import learning_curve\n",
    "\n",
    "from sklearn.preprocessing import PolynomialFeatures\n",
    "\n",
    "from sklearn.linear_model import Ridge\n",
    "from sklearn.linear_model import Lasso\n",
    "\n",
    "from sklearn.model_selection import validation_curve"
   ]
  },
  {
   "cell_type": "code",
   "execution_count": 3,
   "metadata": {
    "collapsed": true
   },
   "outputs": [],
   "source": [
    "#Open the dataframe\n",
    "df = pd.read_pickle('D:/CUNY Files/capstone/code files/2014_features.pkl')"
   ]
  },
  {
   "cell_type": "markdown",
   "metadata": {},
   "source": [
    "** Build Linear Regression Model **"
   ]
  },
  {
   "cell_type": "code",
   "execution_count": 4,
   "metadata": {},
   "outputs": [
    {
     "data": {
      "text/html": [
       "<div>\n",
       "<style>\n",
       "    .dataframe thead tr:only-child th {\n",
       "        text-align: right;\n",
       "    }\n",
       "\n",
       "    .dataframe thead th {\n",
       "        text-align: left;\n",
       "    }\n",
       "\n",
       "    .dataframe tbody tr th {\n",
       "        vertical-align: top;\n",
       "    }\n",
       "</style>\n",
       "<table border=\"1\" class=\"dataframe\">\n",
       "  <thead>\n",
       "    <tr style=\"text-align: right;\">\n",
       "      <th></th>\n",
       "      <th>delay_days</th>\n",
       "      <th>consignee_name_nunique</th>\n",
       "      <th>shipper_party_name_nunique</th>\n",
       "      <th>shipper_consigner_nunique</th>\n",
       "      <th>container_number_nunique</th>\n",
       "      <th>piece_count_sum</th>\n",
       "      <th>shipment_count</th>\n",
       "      <th>no_ship_consign</th>\n",
       "      <th>top5_carrier</th>\n",
       "      <th>record_status_indicator_Amended</th>\n",
       "      <th>...</th>\n",
       "      <th>month_est_10</th>\n",
       "      <th>month_est_11</th>\n",
       "      <th>month_est_12</th>\n",
       "      <th>day_of_week_est_0</th>\n",
       "      <th>day_of_week_est_1</th>\n",
       "      <th>day_of_week_est_2</th>\n",
       "      <th>day_of_week_est_3</th>\n",
       "      <th>day_of_week_est_4</th>\n",
       "      <th>day_of_week_est_5</th>\n",
       "      <th>day_of_week_est_6</th>\n",
       "    </tr>\n",
       "  </thead>\n",
       "  <tbody>\n",
       "    <tr>\n",
       "      <th>0</th>\n",
       "      <td>1</td>\n",
       "      <td>0</td>\n",
       "      <td>0</td>\n",
       "      <td>0</td>\n",
       "      <td>1</td>\n",
       "      <td>126</td>\n",
       "      <td>1</td>\n",
       "      <td>1</td>\n",
       "      <td>1</td>\n",
       "      <td>1</td>\n",
       "      <td>...</td>\n",
       "      <td>0</td>\n",
       "      <td>0</td>\n",
       "      <td>0</td>\n",
       "      <td>0</td>\n",
       "      <td>0</td>\n",
       "      <td>1</td>\n",
       "      <td>0</td>\n",
       "      <td>0</td>\n",
       "      <td>0</td>\n",
       "      <td>0</td>\n",
       "    </tr>\n",
       "    <tr>\n",
       "      <th>1</th>\n",
       "      <td>4</td>\n",
       "      <td>1</td>\n",
       "      <td>1</td>\n",
       "      <td>1</td>\n",
       "      <td>1</td>\n",
       "      <td>1000</td>\n",
       "      <td>1</td>\n",
       "      <td>0</td>\n",
       "      <td>0</td>\n",
       "      <td>1</td>\n",
       "      <td>...</td>\n",
       "      <td>0</td>\n",
       "      <td>0</td>\n",
       "      <td>0</td>\n",
       "      <td>0</td>\n",
       "      <td>1</td>\n",
       "      <td>0</td>\n",
       "      <td>0</td>\n",
       "      <td>0</td>\n",
       "      <td>0</td>\n",
       "      <td>0</td>\n",
       "    </tr>\n",
       "    <tr>\n",
       "      <th>2</th>\n",
       "      <td>4</td>\n",
       "      <td>0</td>\n",
       "      <td>0</td>\n",
       "      <td>0</td>\n",
       "      <td>1</td>\n",
       "      <td>2079</td>\n",
       "      <td>1</td>\n",
       "      <td>1</td>\n",
       "      <td>0</td>\n",
       "      <td>1</td>\n",
       "      <td>...</td>\n",
       "      <td>0</td>\n",
       "      <td>0</td>\n",
       "      <td>0</td>\n",
       "      <td>0</td>\n",
       "      <td>1</td>\n",
       "      <td>0</td>\n",
       "      <td>0</td>\n",
       "      <td>0</td>\n",
       "      <td>0</td>\n",
       "      <td>0</td>\n",
       "    </tr>\n",
       "    <tr>\n",
       "      <th>3</th>\n",
       "      <td>0</td>\n",
       "      <td>1</td>\n",
       "      <td>1</td>\n",
       "      <td>1</td>\n",
       "      <td>1</td>\n",
       "      <td>14</td>\n",
       "      <td>1</td>\n",
       "      <td>0</td>\n",
       "      <td>1</td>\n",
       "      <td>1</td>\n",
       "      <td>...</td>\n",
       "      <td>0</td>\n",
       "      <td>0</td>\n",
       "      <td>0</td>\n",
       "      <td>0</td>\n",
       "      <td>0</td>\n",
       "      <td>0</td>\n",
       "      <td>0</td>\n",
       "      <td>0</td>\n",
       "      <td>0</td>\n",
       "      <td>1</td>\n",
       "    </tr>\n",
       "    <tr>\n",
       "      <th>4</th>\n",
       "      <td>7</td>\n",
       "      <td>1</td>\n",
       "      <td>1</td>\n",
       "      <td>1</td>\n",
       "      <td>14</td>\n",
       "      <td>196</td>\n",
       "      <td>14</td>\n",
       "      <td>0</td>\n",
       "      <td>1</td>\n",
       "      <td>1</td>\n",
       "      <td>...</td>\n",
       "      <td>0</td>\n",
       "      <td>0</td>\n",
       "      <td>0</td>\n",
       "      <td>0</td>\n",
       "      <td>0</td>\n",
       "      <td>0</td>\n",
       "      <td>1</td>\n",
       "      <td>0</td>\n",
       "      <td>0</td>\n",
       "      <td>0</td>\n",
       "    </tr>\n",
       "  </tbody>\n",
       "</table>\n",
       "<p>5 rows × 30 columns</p>\n",
       "</div>"
      ],
      "text/plain": [
       "   delay_days  consignee_name_nunique  shipper_party_name_nunique  \\\n",
       "0           1                       0                           0   \n",
       "1           4                       1                           1   \n",
       "2           4                       0                           0   \n",
       "3           0                       1                           1   \n",
       "4           7                       1                           1   \n",
       "\n",
       "   shipper_consigner_nunique  container_number_nunique  piece_count_sum  \\\n",
       "0                          0                         1              126   \n",
       "1                          1                         1             1000   \n",
       "2                          0                         1             2079   \n",
       "3                          1                         1               14   \n",
       "4                          1                        14              196   \n",
       "\n",
       "   shipment_count  no_ship_consign  top5_carrier  \\\n",
       "0               1                1             1   \n",
       "1               1                0             0   \n",
       "2               1                1             0   \n",
       "3               1                0             1   \n",
       "4              14                0             1   \n",
       "\n",
       "   record_status_indicator_Amended        ...          month_est_10  \\\n",
       "0                                1        ...                     0   \n",
       "1                                1        ...                     0   \n",
       "2                                1        ...                     0   \n",
       "3                                1        ...                     0   \n",
       "4                                1        ...                     0   \n",
       "\n",
       "   month_est_11  month_est_12  day_of_week_est_0  day_of_week_est_1  \\\n",
       "0             0             0                  0                  0   \n",
       "1             0             0                  0                  1   \n",
       "2             0             0                  0                  1   \n",
       "3             0             0                  0                  0   \n",
       "4             0             0                  0                  0   \n",
       "\n",
       "   day_of_week_est_2  day_of_week_est_3  day_of_week_est_4  day_of_week_est_5  \\\n",
       "0                  1                  0                  0                  0   \n",
       "1                  0                  0                  0                  0   \n",
       "2                  0                  0                  0                  0   \n",
       "3                  0                  0                  0                  0   \n",
       "4                  0                  1                  0                  0   \n",
       "\n",
       "   day_of_week_est_6  \n",
       "0                  0  \n",
       "1                  0  \n",
       "2                  0  \n",
       "3                  1  \n",
       "4                  0  \n",
       "\n",
       "[5 rows x 30 columns]"
      ]
     },
     "execution_count": 4,
     "metadata": {},
     "output_type": "execute_result"
    }
   ],
   "source": [
    "df.head()"
   ]
  },
  {
   "cell_type": "code",
   "execution_count": 5,
   "metadata": {},
   "outputs": [
    {
     "data": {
      "text/plain": [
       "['delay_days',\n",
       " 'consignee_name_nunique',\n",
       " 'shipper_party_name_nunique',\n",
       " 'shipper_consigner_nunique',\n",
       " 'container_number_nunique',\n",
       " 'piece_count_sum',\n",
       " 'shipment_count',\n",
       " 'no_ship_consign',\n",
       " 'top5_carrier',\n",
       " 'record_status_indicator_Amended',\n",
       " 'record_status_indicator_New',\n",
       " 'month_est_1',\n",
       " 'month_est_2',\n",
       " 'month_est_3',\n",
       " 'month_est_4',\n",
       " 'month_est_5',\n",
       " 'month_est_6',\n",
       " 'month_est_7',\n",
       " 'month_est_8',\n",
       " 'month_est_9',\n",
       " 'month_est_10',\n",
       " 'month_est_11',\n",
       " 'month_est_12',\n",
       " 'day_of_week_est_0',\n",
       " 'day_of_week_est_1',\n",
       " 'day_of_week_est_2',\n",
       " 'day_of_week_est_3',\n",
       " 'day_of_week_est_4',\n",
       " 'day_of_week_est_5',\n",
       " 'day_of_week_est_6']"
      ]
     },
     "execution_count": 5,
     "metadata": {},
     "output_type": "execute_result"
    }
   ],
   "source": [
    "list(df)"
   ]
  },
  {
   "cell_type": "code",
   "execution_count": 6,
   "metadata": {},
   "outputs": [
    {
     "data": {
      "text/plain": [
       "delay_days                          int64\n",
       "consignee_name_nunique              int64\n",
       "shipper_party_name_nunique          int64\n",
       "shipper_consigner_nunique           int64\n",
       "container_number_nunique            int64\n",
       "piece_count_sum                    uint64\n",
       "shipment_count                      int64\n",
       "no_ship_consign                     int32\n",
       "top5_carrier                        int32\n",
       "record_status_indicator_Amended     uint8\n",
       "record_status_indicator_New         uint8\n",
       "month_est_1                         uint8\n",
       "month_est_2                         uint8\n",
       "month_est_3                         uint8\n",
       "month_est_4                         uint8\n",
       "month_est_5                         uint8\n",
       "month_est_6                         uint8\n",
       "month_est_7                         uint8\n",
       "month_est_8                         uint8\n",
       "month_est_9                         uint8\n",
       "month_est_10                        uint8\n",
       "month_est_11                        uint8\n",
       "month_est_12                        uint8\n",
       "day_of_week_est_0                   uint8\n",
       "day_of_week_est_1                   uint8\n",
       "day_of_week_est_2                   uint8\n",
       "day_of_week_est_3                   uint8\n",
       "day_of_week_est_4                   uint8\n",
       "day_of_week_est_5                   uint8\n",
       "day_of_week_est_6                   uint8\n",
       "dtype: object"
      ]
     },
     "execution_count": 6,
     "metadata": {},
     "output_type": "execute_result"
    }
   ],
   "source": [
    "df.dtypes"
   ]
  },
  {
   "cell_type": "markdown",
   "metadata": {},
   "source": [
    "** Identify features (X) and target (y) **"
   ]
  },
  {
   "cell_type": "code",
   "execution_count": 7,
   "metadata": {
    "collapsed": true
   },
   "outputs": [],
   "source": [
    "#Identify the feature names\n",
    "features = list(df.iloc[:,1:])"
   ]
  },
  {
   "cell_type": "code",
   "execution_count": 8,
   "metadata": {
    "collapsed": true
   },
   "outputs": [],
   "source": [
    "#set X and y\n",
    "X = df.loc[:,features]\n",
    "y = df.loc[:,['delay_days']]"
   ]
  },
  {
   "cell_type": "code",
   "execution_count": 9,
   "metadata": {
    "collapsed": true
   },
   "outputs": [],
   "source": [
    "#save X,y to a file\n",
    "X.to_pickle('D:/CUNY Files/capstone/code files/X.pkl')\n",
    "y.to_pickle('D:/CUNY Files/capstone/code files/y.pkl')"
   ]
  },
  {
   "cell_type": "code",
   "execution_count": 10,
   "metadata": {},
   "outputs": [
    {
     "data": {
      "text/html": [
       "<div>\n",
       "<style>\n",
       "    .dataframe thead tr:only-child th {\n",
       "        text-align: right;\n",
       "    }\n",
       "\n",
       "    .dataframe thead th {\n",
       "        text-align: left;\n",
       "    }\n",
       "\n",
       "    .dataframe tbody tr th {\n",
       "        vertical-align: top;\n",
       "    }\n",
       "</style>\n",
       "<table border=\"1\" class=\"dataframe\">\n",
       "  <thead>\n",
       "    <tr style=\"text-align: right;\">\n",
       "      <th></th>\n",
       "      <th>consignee_name_nunique</th>\n",
       "      <th>shipper_party_name_nunique</th>\n",
       "      <th>shipper_consigner_nunique</th>\n",
       "      <th>container_number_nunique</th>\n",
       "      <th>piece_count_sum</th>\n",
       "      <th>shipment_count</th>\n",
       "      <th>no_ship_consign</th>\n",
       "      <th>top5_carrier</th>\n",
       "      <th>record_status_indicator_Amended</th>\n",
       "      <th>record_status_indicator_New</th>\n",
       "      <th>...</th>\n",
       "      <th>month_est_10</th>\n",
       "      <th>month_est_11</th>\n",
       "      <th>month_est_12</th>\n",
       "      <th>day_of_week_est_0</th>\n",
       "      <th>day_of_week_est_1</th>\n",
       "      <th>day_of_week_est_2</th>\n",
       "      <th>day_of_week_est_3</th>\n",
       "      <th>day_of_week_est_4</th>\n",
       "      <th>day_of_week_est_5</th>\n",
       "      <th>day_of_week_est_6</th>\n",
       "    </tr>\n",
       "  </thead>\n",
       "  <tbody>\n",
       "    <tr>\n",
       "      <th>0</th>\n",
       "      <td>0</td>\n",
       "      <td>0</td>\n",
       "      <td>0</td>\n",
       "      <td>1</td>\n",
       "      <td>126</td>\n",
       "      <td>1</td>\n",
       "      <td>1</td>\n",
       "      <td>1</td>\n",
       "      <td>1</td>\n",
       "      <td>0</td>\n",
       "      <td>...</td>\n",
       "      <td>0</td>\n",
       "      <td>0</td>\n",
       "      <td>0</td>\n",
       "      <td>0</td>\n",
       "      <td>0</td>\n",
       "      <td>1</td>\n",
       "      <td>0</td>\n",
       "      <td>0</td>\n",
       "      <td>0</td>\n",
       "      <td>0</td>\n",
       "    </tr>\n",
       "    <tr>\n",
       "      <th>1</th>\n",
       "      <td>1</td>\n",
       "      <td>1</td>\n",
       "      <td>1</td>\n",
       "      <td>1</td>\n",
       "      <td>1000</td>\n",
       "      <td>1</td>\n",
       "      <td>0</td>\n",
       "      <td>0</td>\n",
       "      <td>1</td>\n",
       "      <td>0</td>\n",
       "      <td>...</td>\n",
       "      <td>0</td>\n",
       "      <td>0</td>\n",
       "      <td>0</td>\n",
       "      <td>0</td>\n",
       "      <td>1</td>\n",
       "      <td>0</td>\n",
       "      <td>0</td>\n",
       "      <td>0</td>\n",
       "      <td>0</td>\n",
       "      <td>0</td>\n",
       "    </tr>\n",
       "    <tr>\n",
       "      <th>2</th>\n",
       "      <td>0</td>\n",
       "      <td>0</td>\n",
       "      <td>0</td>\n",
       "      <td>1</td>\n",
       "      <td>2079</td>\n",
       "      <td>1</td>\n",
       "      <td>1</td>\n",
       "      <td>0</td>\n",
       "      <td>1</td>\n",
       "      <td>0</td>\n",
       "      <td>...</td>\n",
       "      <td>0</td>\n",
       "      <td>0</td>\n",
       "      <td>0</td>\n",
       "      <td>0</td>\n",
       "      <td>1</td>\n",
       "      <td>0</td>\n",
       "      <td>0</td>\n",
       "      <td>0</td>\n",
       "      <td>0</td>\n",
       "      <td>0</td>\n",
       "    </tr>\n",
       "    <tr>\n",
       "      <th>3</th>\n",
       "      <td>1</td>\n",
       "      <td>1</td>\n",
       "      <td>1</td>\n",
       "      <td>1</td>\n",
       "      <td>14</td>\n",
       "      <td>1</td>\n",
       "      <td>0</td>\n",
       "      <td>1</td>\n",
       "      <td>1</td>\n",
       "      <td>0</td>\n",
       "      <td>...</td>\n",
       "      <td>0</td>\n",
       "      <td>0</td>\n",
       "      <td>0</td>\n",
       "      <td>0</td>\n",
       "      <td>0</td>\n",
       "      <td>0</td>\n",
       "      <td>0</td>\n",
       "      <td>0</td>\n",
       "      <td>0</td>\n",
       "      <td>1</td>\n",
       "    </tr>\n",
       "    <tr>\n",
       "      <th>4</th>\n",
       "      <td>1</td>\n",
       "      <td>1</td>\n",
       "      <td>1</td>\n",
       "      <td>14</td>\n",
       "      <td>196</td>\n",
       "      <td>14</td>\n",
       "      <td>0</td>\n",
       "      <td>1</td>\n",
       "      <td>1</td>\n",
       "      <td>0</td>\n",
       "      <td>...</td>\n",
       "      <td>0</td>\n",
       "      <td>0</td>\n",
       "      <td>0</td>\n",
       "      <td>0</td>\n",
       "      <td>0</td>\n",
       "      <td>0</td>\n",
       "      <td>1</td>\n",
       "      <td>0</td>\n",
       "      <td>0</td>\n",
       "      <td>0</td>\n",
       "    </tr>\n",
       "  </tbody>\n",
       "</table>\n",
       "<p>5 rows × 29 columns</p>\n",
       "</div>"
      ],
      "text/plain": [
       "   consignee_name_nunique  shipper_party_name_nunique  \\\n",
       "0                       0                           0   \n",
       "1                       1                           1   \n",
       "2                       0                           0   \n",
       "3                       1                           1   \n",
       "4                       1                           1   \n",
       "\n",
       "   shipper_consigner_nunique  container_number_nunique  piece_count_sum  \\\n",
       "0                          0                         1              126   \n",
       "1                          1                         1             1000   \n",
       "2                          0                         1             2079   \n",
       "3                          1                         1               14   \n",
       "4                          1                        14              196   \n",
       "\n",
       "   shipment_count  no_ship_consign  top5_carrier  \\\n",
       "0               1                1             1   \n",
       "1               1                0             0   \n",
       "2               1                1             0   \n",
       "3               1                0             1   \n",
       "4              14                0             1   \n",
       "\n",
       "   record_status_indicator_Amended  record_status_indicator_New  \\\n",
       "0                                1                            0   \n",
       "1                                1                            0   \n",
       "2                                1                            0   \n",
       "3                                1                            0   \n",
       "4                                1                            0   \n",
       "\n",
       "         ...          month_est_10  month_est_11  month_est_12  \\\n",
       "0        ...                     0             0             0   \n",
       "1        ...                     0             0             0   \n",
       "2        ...                     0             0             0   \n",
       "3        ...                     0             0             0   \n",
       "4        ...                     0             0             0   \n",
       "\n",
       "   day_of_week_est_0  day_of_week_est_1  day_of_week_est_2  day_of_week_est_3  \\\n",
       "0                  0                  0                  1                  0   \n",
       "1                  0                  1                  0                  0   \n",
       "2                  0                  1                  0                  0   \n",
       "3                  0                  0                  0                  0   \n",
       "4                  0                  0                  0                  1   \n",
       "\n",
       "   day_of_week_est_4  day_of_week_est_5  day_of_week_est_6  \n",
       "0                  0                  0                  0  \n",
       "1                  0                  0                  0  \n",
       "2                  0                  0                  0  \n",
       "3                  0                  0                  1  \n",
       "4                  0                  0                  0  \n",
       "\n",
       "[5 rows x 29 columns]"
      ]
     },
     "execution_count": 10,
     "metadata": {},
     "output_type": "execute_result"
    }
   ],
   "source": [
    "X.head()"
   ]
  },
  {
   "cell_type": "code",
   "execution_count": 11,
   "metadata": {},
   "outputs": [
    {
     "data": {
      "text/html": [
       "<div>\n",
       "<style>\n",
       "    .dataframe thead tr:only-child th {\n",
       "        text-align: right;\n",
       "    }\n",
       "\n",
       "    .dataframe thead th {\n",
       "        text-align: left;\n",
       "    }\n",
       "\n",
       "    .dataframe tbody tr th {\n",
       "        vertical-align: top;\n",
       "    }\n",
       "</style>\n",
       "<table border=\"1\" class=\"dataframe\">\n",
       "  <thead>\n",
       "    <tr style=\"text-align: right;\">\n",
       "      <th></th>\n",
       "      <th>delay_days</th>\n",
       "    </tr>\n",
       "  </thead>\n",
       "  <tbody>\n",
       "    <tr>\n",
       "      <th>0</th>\n",
       "      <td>1</td>\n",
       "    </tr>\n",
       "    <tr>\n",
       "      <th>1</th>\n",
       "      <td>4</td>\n",
       "    </tr>\n",
       "    <tr>\n",
       "      <th>2</th>\n",
       "      <td>4</td>\n",
       "    </tr>\n",
       "    <tr>\n",
       "      <th>3</th>\n",
       "      <td>0</td>\n",
       "    </tr>\n",
       "    <tr>\n",
       "      <th>4</th>\n",
       "      <td>7</td>\n",
       "    </tr>\n",
       "  </tbody>\n",
       "</table>\n",
       "</div>"
      ],
      "text/plain": [
       "   delay_days\n",
       "0           1\n",
       "1           4\n",
       "2           4\n",
       "3           0\n",
       "4           7"
      ]
     },
     "execution_count": 11,
     "metadata": {},
     "output_type": "execute_result"
    }
   ],
   "source": [
    "y.head()"
   ]
  },
  {
   "cell_type": "markdown",
   "metadata": {},
   "source": [
    "** Split into train, validation, and test sets ** "
   ]
  },
  {
   "cell_type": "code",
   "execution_count": 12,
   "metadata": {
    "collapsed": true
   },
   "outputs": [],
   "source": [
    "#set the random seed\n",
    "rand = 20"
   ]
  },
  {
   "cell_type": "code",
   "execution_count": 13,
   "metadata": {
    "collapsed": true
   },
   "outputs": [],
   "source": [
    "#split data into training and test sets\n",
    "training_X, test_X, \\\n",
    "training_y, test_y = train_test_split(X, y, test_size=0.2,random_state = rand)"
   ]
  },
  {
   "cell_type": "code",
   "execution_count": 14,
   "metadata": {
    "collapsed": true
   },
   "outputs": [],
   "source": [
    "#further split the training set into train and validation sets\n",
    "train_X, validation_X, \\\n",
    "train_y, validation_y = train_test_split(training_X, training_y, test_size=0.2, random_state = rand)"
   ]
  },
  {
   "cell_type": "code",
   "execution_count": 15,
   "metadata": {},
   "outputs": [
    {
     "data": {
      "text/plain": [
       "(297649, 238119, 59530, 74413)"
      ]
     },
     "execution_count": 15,
     "metadata": {},
     "output_type": "execute_result"
    }
   ],
   "source": [
    "len(training_X), len(train_X), len(validation_X), len(test_X)"
   ]
  },
  {
   "cell_type": "code",
   "execution_count": 16,
   "metadata": {},
   "outputs": [
    {
     "data": {
      "text/plain": [
       "(297649, 238119, 59530, 74413)"
      ]
     },
     "execution_count": 16,
     "metadata": {},
     "output_type": "execute_result"
    }
   ],
   "source": [
    "len(training_y), len(train_y), len(validation_y), len(test_y)"
   ]
  },
  {
   "cell_type": "code",
   "execution_count": 17,
   "metadata": {
    "collapsed": true
   },
   "outputs": [],
   "source": [
    "#save all sets to a file to use the same sets in other models\n",
    "train_X.to_pickle('D:/CUNY Files/capstone/code files/train_X.pkl')\n",
    "train_y.to_pickle('D:/CUNY Files/capstone/code files/train_y.pkl')\n",
    "\n",
    "validation_X.to_pickle('D:/CUNY Files/capstone/code files/validation_X.pkl')\n",
    "validation_y.to_pickle('D:/CUNY Files/capstone/code files/validation_y.pkl')\n",
    "\n",
    "training_X.to_pickle('D:/CUNY Files/capstone/code files/training_X.pkl')\n",
    "training_y.to_pickle('D:/CUNY Files/capstone/code files/training_y.pkl')\n",
    "\n",
    "test_X.to_pickle('D:/CUNY Files/capstone/code files/test_X.pkl')\n",
    "test_y.to_pickle('D:/CUNY Files/capstone/code files/test_y.pkl')"
   ]
  },
  {
   "cell_type": "markdown",
   "metadata": {},
   "source": [
    "** Scale all features **  \n",
    "transform the features to be closer to standard normally distributed data: Gaussian with zero mean and unit variance."
   ]
  },
  {
   "cell_type": "code",
   "execution_count": 18,
   "metadata": {
    "collapsed": true
   },
   "outputs": [],
   "source": [
    "#use the training set to create a standard scaler for validation and test sets\n",
    "#this scaler finds the mean and standard deviation of the train set\n",
    "scaler = StandardScaler().fit(train_X)"
   ]
  },
  {
   "cell_type": "code",
   "execution_count": 19,
   "metadata": {},
   "outputs": [
    {
     "data": {
      "text/plain": [
       "(297649, 238119, 59530, 74413)"
      ]
     },
     "execution_count": 19,
     "metadata": {},
     "output_type": "execute_result"
    }
   ],
   "source": [
    "#transform the features for all sets using the scaler created from the train set\n",
    "#this will subtract the mean to center the data and divide by the standard deviation\n",
    "#to scale it\n",
    "training_X_scaled = scaler.transform(training_X)\n",
    "train_X_scaled = scaler.transform(train_X)\n",
    "validation_X_scaled = scaler.transform(validation_X)\n",
    "test_X_scaled = scaler.transform(test_X)\n",
    "len(training_X_scaled),len(train_X_scaled),len(validation_X_scaled),len(test_X_scaled)"
   ]
  },
  {
   "cell_type": "code",
   "execution_count": 20,
   "metadata": {
    "collapsed": true
   },
   "outputs": [],
   "source": [
    "#save all sets to a file to use the same sets in other models\n",
    "np.save('D:/CUNY Files/capstone/code files/train_X_scaled.npy', train_X_scaled)\n",
    "#np.load('train_X_scaled.npy')  to reload\n",
    "\n",
    "np.save('D:/CUNY Files/capstone/code files/validation_X_scaled.npy', validation_X_scaled)\n",
    "\n",
    "np.save('D:/CUNY Files/capstone/code files/training_X_scaled.npy',training_X_scaled)\n",
    "\n",
    "np.save('D:/CUNY Files/capstone/code files/test_X_scaled.pkl',test_X_scaled)"
   ]
  },
  {
   "cell_type": "markdown",
   "metadata": {},
   "source": [
    "** Initial implementation: Linear Regression with Scaled Features, No Regularization **"
   ]
  },
  {
   "cell_type": "code",
   "execution_count": 21,
   "metadata": {
    "collapsed": true
   },
   "outputs": [],
   "source": [
    "#create a linear regression\n",
    "regr = linear_model.LinearRegression(fit_intercept=True, normalize=False, copy_X=True, n_jobs=1)"
   ]
  },
  {
   "cell_type": "code",
   "execution_count": 22,
   "metadata": {},
   "outputs": [
    {
     "data": {
      "text/plain": [
       "LinearRegression(copy_X=True, fit_intercept=True, n_jobs=1, normalize=False)"
      ]
     },
     "execution_count": 22,
     "metadata": {},
     "output_type": "execute_result"
    }
   ],
   "source": [
    "#fit the regression model\n",
    "regr.fit(train_X_scaled, train_y)"
   ]
  },
  {
   "cell_type": "markdown",
   "metadata": {},
   "source": [
    "** Evaluate the performance of the model on the validation set **"
   ]
  },
  {
   "cell_type": "code",
   "execution_count": 23,
   "metadata": {
    "collapsed": true
   },
   "outputs": [],
   "source": [
    "#predict the target values of the validation set using the model\n",
    "validation_y_pred = regr.predict(validation_X_scaled)"
   ]
  },
  {
   "cell_type": "code",
   "execution_count": 24,
   "metadata": {},
   "outputs": [
    {
     "data": {
      "text/plain": [
       "59530"
      ]
     },
     "execution_count": 24,
     "metadata": {},
     "output_type": "execute_result"
    }
   ],
   "source": [
    "len(validation_y_pred)"
   ]
  },
  {
   "cell_type": "code",
   "execution_count": 25,
   "metadata": {},
   "outputs": [
    {
     "data": {
      "text/plain": [
       "12.35"
      ]
     },
     "execution_count": 25,
     "metadata": {},
     "output_type": "execute_result"
    }
   ],
   "source": [
    "#Evaluate the MSE on the validation set\n",
    "round(mean_squared_error(validation_y, validation_y_pred),2)"
   ]
  },
  {
   "cell_type": "code",
   "execution_count": 26,
   "metadata": {},
   "outputs": [
    {
     "data": {
      "text/html": [
       "<div>\n",
       "<style>\n",
       "    .dataframe thead tr:only-child th {\n",
       "        text-align: right;\n",
       "    }\n",
       "\n",
       "    .dataframe thead th {\n",
       "        text-align: left;\n",
       "    }\n",
       "\n",
       "    .dataframe tbody tr th {\n",
       "        vertical-align: top;\n",
       "    }\n",
       "</style>\n",
       "<table border=\"1\" class=\"dataframe\">\n",
       "  <thead>\n",
       "    <tr style=\"text-align: right;\">\n",
       "      <th></th>\n",
       "      <th>delay_days</th>\n",
       "    </tr>\n",
       "  </thead>\n",
       "  <tbody>\n",
       "    <tr>\n",
       "      <th>count</th>\n",
       "      <td>59530.000000</td>\n",
       "    </tr>\n",
       "    <tr>\n",
       "      <th>mean</th>\n",
       "      <td>1.050462</td>\n",
       "    </tr>\n",
       "    <tr>\n",
       "      <th>std</th>\n",
       "      <td>3.778605</td>\n",
       "    </tr>\n",
       "    <tr>\n",
       "      <th>min</th>\n",
       "      <td>-30.000000</td>\n",
       "    </tr>\n",
       "    <tr>\n",
       "      <th>25%</th>\n",
       "      <td>0.000000</td>\n",
       "    </tr>\n",
       "    <tr>\n",
       "      <th>50%</th>\n",
       "      <td>1.000000</td>\n",
       "    </tr>\n",
       "    <tr>\n",
       "      <th>75%</th>\n",
       "      <td>2.000000</td>\n",
       "    </tr>\n",
       "    <tr>\n",
       "      <th>max</th>\n",
       "      <td>30.000000</td>\n",
       "    </tr>\n",
       "  </tbody>\n",
       "</table>\n",
       "</div>"
      ],
      "text/plain": [
       "         delay_days\n",
       "count  59530.000000\n",
       "mean       1.050462\n",
       "std        3.778605\n",
       "min      -30.000000\n",
       "25%        0.000000\n",
       "50%        1.000000\n",
       "75%        2.000000\n",
       "max       30.000000"
      ]
     },
     "execution_count": 26,
     "metadata": {},
     "output_type": "execute_result"
    }
   ],
   "source": [
    "validation_y.describe()"
   ]
  },
  {
   "cell_type": "markdown",
   "metadata": {},
   "source": [
    "The delay_days range from -30 to 30 with most being within 2 or 3 days so the MSE is slightly lower than the variance of the target"
   ]
  },
  {
   "cell_type": "code",
   "execution_count": 27,
   "metadata": {},
   "outputs": [
    {
     "data": {
      "text/plain": [
       "<matplotlib.axes._subplots.AxesSubplot at 0xb464de5080>"
      ]
     },
     "execution_count": 27,
     "metadata": {},
     "output_type": "execute_result"
    },
    {
     "data": {
      "image/png": "[encoded data removed]",
      "text/plain": [
       "<matplotlib.figure.Figure at 0xb461008470>"
      ]
     },
     "metadata": {},
     "output_type": "display_data"
    }
   ],
   "source": [
    "sns.distplot(validation_y)"
   ]
  },
  {
   "cell_type": "code",
   "execution_count": 28,
   "metadata": {},
   "outputs": [
    {
     "name": "stdout",
     "output_type": "stream",
     "text": [
      "Intercept: \n",
      " [ 1.03878388]\n",
      "Coefficients: \n",
      " [[  1.91326137e-02  -1.98270651e-01   1.17321441e-01   1.25175404e-02\n",
      "    2.60559794e-02   2.20090900e-02  -7.02859726e-02   4.57369902e-01\n",
      "   -8.68113469e+10  -8.68113469e+10  -5.57492898e+11  -4.59113768e+11\n",
      "   -4.74354159e+11  -5.60365423e+11  -5.61815610e+11  -5.67340706e+11\n",
      "   -5.51553974e+11  -5.81530396e+11  -4.65708855e+11  -5.45948182e+11\n",
      "   -5.41869416e+11  -4.59084247e+11  -8.53583934e+11  -7.29682659e+11\n",
      "   -9.49745077e+11  -7.63097439e+11  -8.62596405e+11  -6.31164016e+11\n",
      "   -9.15132151e+11]]\n"
     ]
    }
   ],
   "source": [
    "#get intercept and coefficients\n",
    "print('Intercept: \\n', regr.intercept_)\n",
    "print('Coefficients: \\n', regr.coef_)"
   ]
  },
  {
   "cell_type": "markdown",
   "metadata": {},
   "source": [
    "** Assess Bias vs Variance of the model **"
   ]
  },
  {
   "cell_type": "code",
   "execution_count": 73,
   "metadata": {},
   "outputs": [],
   "source": [
    "#get the list of the training set sizes\n",
    "s = 5\n",
    "cv = ShuffleSplit(n_splits=10, test_size=0.2, random_state=rand)\n",
    "m = len(training_X)  #number of training examples\n",
    "m_s = m/s*(s-1)\n",
    "l = range(10,int(np.round(m_s,0)))\n",
    "train_size = l[0::int(np.round(m_s/10,0))][1:]"
   ]
  },
  {
   "cell_type": "code",
   "execution_count": 74,
   "metadata": {
    "collapsed": true
   },
   "outputs": [],
   "source": [
    "#set up mean squared error as a scoring metric\n",
    "mse_scorer = make_scorer(mean_squared_error)"
   ]
  },
  {
   "cell_type": "code",
   "execution_count": 75,
   "metadata": {
    "collapsed": true
   },
   "outputs": [],
   "source": [
    "def learn_curve(model,X,y,train_size):\n",
    "    #Use full training set (train + validation and implement k-folds)\n",
    "    #create a learning curve: http://scikit-learn.org/stable/modules/generated/sklearn.model_selection.learning_curve.html#sklearn.model_selection.learning_curve\n",
    "    \n",
    "    train_sizes, train_scores, validation_scores = learning_curve(\n",
    "        model, X, y, train_sizes=train_size, cv = cv, scoring = mse_scorer)\n",
    "    #get the mean of the training and validation scores\n",
    "    train_scores_mean = np.mean(train_scores, axis=1)\n",
    "    validation_scores_mean = np.mean(validation_scores, axis=1)\n",
    "    #plot the chart\n",
    "    plt.figure()\n",
    "    plt.title('Learning Curve')\n",
    "    plt.xlabel(\"Training examples\")\n",
    "    plt.ylabel(\"MSE\")\n",
    "    plt.ticklabel_format(useOffset=False,style='plain')\n",
    "\n",
    "    plt.grid()\n",
    "\n",
    "    plt.plot(train_sizes, train_scores_mean, 'o-', color=\"r\",label=\"Training score\")\n",
    "    plt.plot(train_sizes, validation_scores_mean, 'o-', color=\"g\",label=\"Cross-validation score\")\n",
    "\n",
    "    plt.legend(loc=\"best\")"
   ]
  },
  {
   "cell_type": "code",
   "execution_count": 76,
   "metadata": {},
   "outputs": [
    {
     "data": {
      "image/png": "[encoded data removed]",
      "text/plain": [
       "<matplotlib.figure.Figure at 0xb477dd8e80>"
      ]
     },
     "metadata": {},
     "output_type": "display_data"
    }
   ],
   "source": [
    "learn_curve(regr, training_X, training_y, train_size)"
   ]
  },
  {
   "cell_type": "markdown",
   "metadata": {},
   "source": [
    "**High Bias**: error will be high for the training set and the validation set   \n",
    "**High Variance**:  error will be low for the training set but much higher for the validation set  \n",
    "\n",
    "Addressing high bias: additional features, adding polynomial features, decreasing the regularization parameter lambda  \n",
    "Addressing high variance: additional training examples, smaller set of features, increase the regularization parameter lambda"
   ]
  },
  {
   "cell_type": "markdown",
   "metadata": {},
   "source": [
    "** Add polynomial features **"
   ]
  },
  {
   "cell_type": "code",
   "execution_count": 77,
   "metadata": {
    "collapsed": true
   },
   "outputs": [],
   "source": [
    "#get polynomial function of order 2\n",
    "poly = PolynomialFeatures(2)\n",
    "\n",
    "#interaction terms only\n",
    "#poly = PolynomialFeatures(degree=3, interaction_only=True)"
   ]
  },
  {
   "cell_type": "code",
   "execution_count": 78,
   "metadata": {
    "collapsed": true
   },
   "outputs": [],
   "source": [
    "#apply polynomial transform to get polynomial features\n",
    "train_polyFit = poly.fit_transform(train_X_scaled) \n",
    "validation_polyFit = poly.fit_transform(validation_X_scaled) \n",
    "training_polyFit =  poly.fit_transform(training_X_scaled) \n",
    "test_polyFit = poly.fit_transform(test_X_scaled)"
   ]
  },
  {
   "cell_type": "code",
   "execution_count": 79,
   "metadata": {},
   "outputs": [
    {
     "data": {
      "text/plain": [
       "((238119, 465), (59530, 465), (297649, 465), (74413, 465))"
      ]
     },
     "execution_count": 79,
     "metadata": {},
     "output_type": "execute_result"
    }
   ],
   "source": [
    "train_polyFit.shape, validation_polyFit.shape, training_polyFit.shape, test_polyFit.shape"
   ]
  },
  {
   "cell_type": "code",
   "execution_count": 80,
   "metadata": {},
   "outputs": [
    {
     "data": {
      "text/plain": [
       "['1',\n",
       " 'consignee_name_nunique',\n",
       " 'shipper_party_name_nunique',\n",
       " 'shipper_consigner_nunique',\n",
       " 'container_number_nunique',\n",
       " 'piece_count_sum',\n",
       " 'shipment_count',\n",
       " 'no_ship_consign',\n",
       " 'top5_carrier',\n",
       " 'record_status_indicator_Amended',\n",
       " 'record_status_indicator_New',\n",
       " 'month_est_1',\n",
       " 'month_est_2',\n",
       " 'month_est_3',\n",
       " 'month_est_4',\n",
       " 'month_est_5',\n",
       " 'month_est_6',\n",
       " 'month_est_7',\n",
       " 'month_est_8',\n",
       " 'month_est_9',\n",
       " 'month_est_10',\n",
       " 'month_est_11',\n",
       " 'month_est_12',\n",
       " 'day_of_week_est_0',\n",
       " 'day_of_week_est_1',\n",
       " 'day_of_week_est_2',\n",
       " 'day_of_week_est_3',\n",
       " 'day_of_week_est_4',\n",
       " 'day_of_week_est_5',\n",
       " 'day_of_week_est_6',\n",
       " 'consignee_name_nunique^2',\n",
       " 'consignee_name_nunique shipper_party_name_nunique',\n",
       " 'consignee_name_nunique shipper_consigner_nunique',\n",
       " 'consignee_name_nunique container_number_nunique',\n",
       " 'consignee_name_nunique piece_count_sum',\n",
       " 'consignee_name_nunique shipment_count',\n",
       " 'consignee_name_nunique no_ship_consign',\n",
       " 'consignee_name_nunique top5_carrier',\n",
       " 'consignee_name_nunique record_status_indicator_Amended',\n",
       " 'consignee_name_nunique record_status_indicator_New',\n",
       " 'consignee_name_nunique month_est_1',\n",
       " 'consignee_name_nunique month_est_2',\n",
       " 'consignee_name_nunique month_est_3',\n",
       " 'consignee_name_nunique month_est_4',\n",
       " 'consignee_name_nunique month_est_5',\n",
       " 'consignee_name_nunique month_est_6',\n",
       " 'consignee_name_nunique month_est_7',\n",
       " 'consignee_name_nunique month_est_8',\n",
       " 'consignee_name_nunique month_est_9',\n",
       " 'consignee_name_nunique month_est_10',\n",
       " 'consignee_name_nunique month_est_11',\n",
       " 'consignee_name_nunique month_est_12',\n",
       " 'consignee_name_nunique day_of_week_est_0',\n",
       " 'consignee_name_nunique day_of_week_est_1',\n",
       " 'consignee_name_nunique day_of_week_est_2',\n",
       " 'consignee_name_nunique day_of_week_est_3',\n",
       " 'consignee_name_nunique day_of_week_est_4',\n",
       " 'consignee_name_nunique day_of_week_est_5',\n",
       " 'consignee_name_nunique day_of_week_est_6',\n",
       " 'shipper_party_name_nunique^2',\n",
       " 'shipper_party_name_nunique shipper_consigner_nunique',\n",
       " 'shipper_party_name_nunique container_number_nunique',\n",
       " 'shipper_party_name_nunique piece_count_sum',\n",
       " 'shipper_party_name_nunique shipment_count',\n",
       " 'shipper_party_name_nunique no_ship_consign',\n",
       " 'shipper_party_name_nunique top5_carrier',\n",
       " 'shipper_party_name_nunique record_status_indicator_Amended',\n",
       " 'shipper_party_name_nunique record_status_indicator_New',\n",
       " 'shipper_party_name_nunique month_est_1',\n",
       " 'shipper_party_name_nunique month_est_2',\n",
       " 'shipper_party_name_nunique month_est_3',\n",
       " 'shipper_party_name_nunique month_est_4',\n",
       " 'shipper_party_name_nunique month_est_5',\n",
       " 'shipper_party_name_nunique month_est_6',\n",
       " 'shipper_party_name_nunique month_est_7',\n",
       " 'shipper_party_name_nunique month_est_8',\n",
       " 'shipper_party_name_nunique month_est_9',\n",
       " 'shipper_party_name_nunique month_est_10',\n",
       " 'shipper_party_name_nunique month_est_11',\n",
       " 'shipper_party_name_nunique month_est_12',\n",
       " 'shipper_party_name_nunique day_of_week_est_0',\n",
       " 'shipper_party_name_nunique day_of_week_est_1',\n",
       " 'shipper_party_name_nunique day_of_week_est_2',\n",
       " 'shipper_party_name_nunique day_of_week_est_3',\n",
       " 'shipper_party_name_nunique day_of_week_est_4',\n",
       " 'shipper_party_name_nunique day_of_week_est_5',\n",
       " 'shipper_party_name_nunique day_of_week_est_6',\n",
       " 'shipper_consigner_nunique^2',\n",
       " 'shipper_consigner_nunique container_number_nunique',\n",
       " 'shipper_consigner_nunique piece_count_sum',\n",
       " 'shipper_consigner_nunique shipment_count',\n",
       " 'shipper_consigner_nunique no_ship_consign',\n",
       " 'shipper_consigner_nunique top5_carrier',\n",
       " 'shipper_consigner_nunique record_status_indicator_Amended',\n",
       " 'shipper_consigner_nunique record_status_indicator_New',\n",
       " 'shipper_consigner_nunique month_est_1',\n",
       " 'shipper_consigner_nunique month_est_2',\n",
       " 'shipper_consigner_nunique month_est_3',\n",
       " 'shipper_consigner_nunique month_est_4',\n",
       " 'shipper_consigner_nunique month_est_5',\n",
       " 'shipper_consigner_nunique month_est_6',\n",
       " 'shipper_consigner_nunique month_est_7',\n",
       " 'shipper_consigner_nunique month_est_8',\n",
       " 'shipper_consigner_nunique month_est_9',\n",
       " 'shipper_consigner_nunique month_est_10',\n",
       " 'shipper_consigner_nunique month_est_11',\n",
       " 'shipper_consigner_nunique month_est_12',\n",
       " 'shipper_consigner_nunique day_of_week_est_0',\n",
       " 'shipper_consigner_nunique day_of_week_est_1',\n",
       " 'shipper_consigner_nunique day_of_week_est_2',\n",
       " 'shipper_consigner_nunique day_of_week_est_3',\n",
       " 'shipper_consigner_nunique day_of_week_est_4',\n",
       " 'shipper_consigner_nunique day_of_week_est_5',\n",
       " 'shipper_consigner_nunique day_of_week_est_6',\n",
       " 'container_number_nunique^2',\n",
       " 'container_number_nunique piece_count_sum',\n",
       " 'container_number_nunique shipment_count',\n",
       " 'container_number_nunique no_ship_consign',\n",
       " 'container_number_nunique top5_carrier',\n",
       " 'container_number_nunique record_status_indicator_Amended',\n",
       " 'container_number_nunique record_status_indicator_New',\n",
       " 'container_number_nunique month_est_1',\n",
       " 'container_number_nunique month_est_2',\n",
       " 'container_number_nunique month_est_3',\n",
       " 'container_number_nunique month_est_4',\n",
       " 'container_number_nunique month_est_5',\n",
       " 'container_number_nunique month_est_6',\n",
       " 'container_number_nunique month_est_7',\n",
       " 'container_number_nunique month_est_8',\n",
       " 'container_number_nunique month_est_9',\n",
       " 'container_number_nunique month_est_10',\n",
       " 'container_number_nunique month_est_11',\n",
       " 'container_number_nunique month_est_12',\n",
       " 'container_number_nunique day_of_week_est_0',\n",
       " 'container_number_nunique day_of_week_est_1',\n",
       " 'container_number_nunique day_of_week_est_2',\n",
       " 'container_number_nunique day_of_week_est_3',\n",
       " 'container_number_nunique day_of_week_est_4',\n",
       " 'container_number_nunique day_of_week_est_5',\n",
       " 'container_number_nunique day_of_week_est_6',\n",
       " 'piece_count_sum^2',\n",
       " 'piece_count_sum shipment_count',\n",
       " 'piece_count_sum no_ship_consign',\n",
       " 'piece_count_sum top5_carrier',\n",
       " 'piece_count_sum record_status_indicator_Amended',\n",
       " 'piece_count_sum record_status_indicator_New',\n",
       " 'piece_count_sum month_est_1',\n",
       " 'piece_count_sum month_est_2',\n",
       " 'piece_count_sum month_est_3',\n",
       " 'piece_count_sum month_est_4',\n",
       " 'piece_count_sum month_est_5',\n",
       " 'piece_count_sum month_est_6',\n",
       " 'piece_count_sum month_est_7',\n",
       " 'piece_count_sum month_est_8',\n",
       " 'piece_count_sum month_est_9',\n",
       " 'piece_count_sum month_est_10',\n",
       " 'piece_count_sum month_est_11',\n",
       " 'piece_count_sum month_est_12',\n",
       " 'piece_count_sum day_of_week_est_0',\n",
       " 'piece_count_sum day_of_week_est_1',\n",
       " 'piece_count_sum day_of_week_est_2',\n",
       " 'piece_count_sum day_of_week_est_3',\n",
       " 'piece_count_sum day_of_week_est_4',\n",
       " 'piece_count_sum day_of_week_est_5',\n",
       " 'piece_count_sum day_of_week_est_6',\n",
       " 'shipment_count^2',\n",
       " 'shipment_count no_ship_consign',\n",
       " 'shipment_count top5_carrier',\n",
       " 'shipment_count record_status_indicator_Amended',\n",
       " 'shipment_count record_status_indicator_New',\n",
       " 'shipment_count month_est_1',\n",
       " 'shipment_count month_est_2',\n",
       " 'shipment_count month_est_3',\n",
       " 'shipment_count month_est_4',\n",
       " 'shipment_count month_est_5',\n",
       " 'shipment_count month_est_6',\n",
       " 'shipment_count month_est_7',\n",
       " 'shipment_count month_est_8',\n",
       " 'shipment_count month_est_9',\n",
       " 'shipment_count month_est_10',\n",
       " 'shipment_count month_est_11',\n",
       " 'shipment_count month_est_12',\n",
       " 'shipment_count day_of_week_est_0',\n",
       " 'shipment_count day_of_week_est_1',\n",
       " 'shipment_count day_of_week_est_2',\n",
       " 'shipment_count day_of_week_est_3',\n",
       " 'shipment_count day_of_week_est_4',\n",
       " 'shipment_count day_of_week_est_5',\n",
       " 'shipment_count day_of_week_est_6',\n",
       " 'no_ship_consign^2',\n",
       " 'no_ship_consign top5_carrier',\n",
       " 'no_ship_consign record_status_indicator_Amended',\n",
       " 'no_ship_consign record_status_indicator_New',\n",
       " 'no_ship_consign month_est_1',\n",
       " 'no_ship_consign month_est_2',\n",
       " 'no_ship_consign month_est_3',\n",
       " 'no_ship_consign month_est_4',\n",
       " 'no_ship_consign month_est_5',\n",
       " 'no_ship_consign month_est_6',\n",
       " 'no_ship_consign month_est_7',\n",
       " 'no_ship_consign month_est_8',\n",
       " 'no_ship_consign month_est_9',\n",
       " 'no_ship_consign month_est_10',\n",
       " 'no_ship_consign month_est_11',\n",
       " 'no_ship_consign month_est_12',\n",
       " 'no_ship_consign day_of_week_est_0',\n",
       " 'no_ship_consign day_of_week_est_1',\n",
       " 'no_ship_consign day_of_week_est_2',\n",
       " 'no_ship_consign day_of_week_est_3',\n",
       " 'no_ship_consign day_of_week_est_4',\n",
       " 'no_ship_consign day_of_week_est_5',\n",
       " 'no_ship_consign day_of_week_est_6',\n",
       " 'top5_carrier^2',\n",
       " 'top5_carrier record_status_indicator_Amended',\n",
       " 'top5_carrier record_status_indicator_New',\n",
       " 'top5_carrier month_est_1',\n",
       " 'top5_carrier month_est_2',\n",
       " 'top5_carrier month_est_3',\n",
       " 'top5_carrier month_est_4',\n",
       " 'top5_carrier month_est_5',\n",
       " 'top5_carrier month_est_6',\n",
       " 'top5_carrier month_est_7',\n",
       " 'top5_carrier month_est_8',\n",
       " 'top5_carrier month_est_9',\n",
       " 'top5_carrier month_est_10',\n",
       " 'top5_carrier month_est_11',\n",
       " 'top5_carrier month_est_12',\n",
       " 'top5_carrier day_of_week_est_0',\n",
       " 'top5_carrier day_of_week_est_1',\n",
       " 'top5_carrier day_of_week_est_2',\n",
       " 'top5_carrier day_of_week_est_3',\n",
       " 'top5_carrier day_of_week_est_4',\n",
       " 'top5_carrier day_of_week_est_5',\n",
       " 'top5_carrier day_of_week_est_6',\n",
       " 'record_status_indicator_Amended^2',\n",
       " 'record_status_indicator_Amended record_status_indicator_New',\n",
       " 'record_status_indicator_Amended month_est_1',\n",
       " 'record_status_indicator_Amended month_est_2',\n",
       " 'record_status_indicator_Amended month_est_3',\n",
       " 'record_status_indicator_Amended month_est_4',\n",
       " 'record_status_indicator_Amended month_est_5',\n",
       " 'record_status_indicator_Amended month_est_6',\n",
       " 'record_status_indicator_Amended month_est_7',\n",
       " 'record_status_indicator_Amended month_est_8',\n",
       " 'record_status_indicator_Amended month_est_9',\n",
       " 'record_status_indicator_Amended month_est_10',\n",
       " 'record_status_indicator_Amended month_est_11',\n",
       " 'record_status_indicator_Amended month_est_12',\n",
       " 'record_status_indicator_Amended day_of_week_est_0',\n",
       " 'record_status_indicator_Amended day_of_week_est_1',\n",
       " 'record_status_indicator_Amended day_of_week_est_2',\n",
       " 'record_status_indicator_Amended day_of_week_est_3',\n",
       " 'record_status_indicator_Amended day_of_week_est_4',\n",
       " 'record_status_indicator_Amended day_of_week_est_5',\n",
       " 'record_status_indicator_Amended day_of_week_est_6',\n",
       " 'record_status_indicator_New^2',\n",
       " 'record_status_indicator_New month_est_1',\n",
       " 'record_status_indicator_New month_est_2',\n",
       " 'record_status_indicator_New month_est_3',\n",
       " 'record_status_indicator_New month_est_4',\n",
       " 'record_status_indicator_New month_est_5',\n",
       " 'record_status_indicator_New month_est_6',\n",
       " 'record_status_indicator_New month_est_7',\n",
       " 'record_status_indicator_New month_est_8',\n",
       " 'record_status_indicator_New month_est_9',\n",
       " 'record_status_indicator_New month_est_10',\n",
       " 'record_status_indicator_New month_est_11',\n",
       " 'record_status_indicator_New month_est_12',\n",
       " 'record_status_indicator_New day_of_week_est_0',\n",
       " 'record_status_indicator_New day_of_week_est_1',\n",
       " 'record_status_indicator_New day_of_week_est_2',\n",
       " 'record_status_indicator_New day_of_week_est_3',\n",
       " 'record_status_indicator_New day_of_week_est_4',\n",
       " 'record_status_indicator_New day_of_week_est_5',\n",
       " 'record_status_indicator_New day_of_week_est_6',\n",
       " 'month_est_1^2',\n",
       " 'month_est_1 month_est_2',\n",
       " 'month_est_1 month_est_3',\n",
       " 'month_est_1 month_est_4',\n",
       " 'month_est_1 month_est_5',\n",
       " 'month_est_1 month_est_6',\n",
       " 'month_est_1 month_est_7',\n",
       " 'month_est_1 month_est_8',\n",
       " 'month_est_1 month_est_9',\n",
       " 'month_est_1 month_est_10',\n",
       " 'month_est_1 month_est_11',\n",
       " 'month_est_1 month_est_12',\n",
       " 'month_est_1 day_of_week_est_0',\n",
       " 'month_est_1 day_of_week_est_1',\n",
       " 'month_est_1 day_of_week_est_2',\n",
       " 'month_est_1 day_of_week_est_3',\n",
       " 'month_est_1 day_of_week_est_4',\n",
       " 'month_est_1 day_of_week_est_5',\n",
       " 'month_est_1 day_of_week_est_6',\n",
       " 'month_est_2^2',\n",
       " 'month_est_2 month_est_3',\n",
       " 'month_est_2 month_est_4',\n",
       " 'month_est_2 month_est_5',\n",
       " 'month_est_2 month_est_6',\n",
       " 'month_est_2 month_est_7',\n",
       " 'month_est_2 month_est_8',\n",
       " 'month_est_2 month_est_9',\n",
       " 'month_est_2 month_est_10',\n",
       " 'month_est_2 month_est_11',\n",
       " 'month_est_2 month_est_12',\n",
       " 'month_est_2 day_of_week_est_0',\n",
       " 'month_est_2 day_of_week_est_1',\n",
       " 'month_est_2 day_of_week_est_2',\n",
       " 'month_est_2 day_of_week_est_3',\n",
       " 'month_est_2 day_of_week_est_4',\n",
       " 'month_est_2 day_of_week_est_5',\n",
       " 'month_est_2 day_of_week_est_6',\n",
       " 'month_est_3^2',\n",
       " 'month_est_3 month_est_4',\n",
       " 'month_est_3 month_est_5',\n",
       " 'month_est_3 month_est_6',\n",
       " 'month_est_3 month_est_7',\n",
       " 'month_est_3 month_est_8',\n",
       " 'month_est_3 month_est_9',\n",
       " 'month_est_3 month_est_10',\n",
       " 'month_est_3 month_est_11',\n",
       " 'month_est_3 month_est_12',\n",
       " 'month_est_3 day_of_week_est_0',\n",
       " 'month_est_3 day_of_week_est_1',\n",
       " 'month_est_3 day_of_week_est_2',\n",
       " 'month_est_3 day_of_week_est_3',\n",
       " 'month_est_3 day_of_week_est_4',\n",
       " 'month_est_3 day_of_week_est_5',\n",
       " 'month_est_3 day_of_week_est_6',\n",
       " 'month_est_4^2',\n",
       " 'month_est_4 month_est_5',\n",
       " 'month_est_4 month_est_6',\n",
       " 'month_est_4 month_est_7',\n",
       " 'month_est_4 month_est_8',\n",
       " 'month_est_4 month_est_9',\n",
       " 'month_est_4 month_est_10',\n",
       " 'month_est_4 month_est_11',\n",
       " 'month_est_4 month_est_12',\n",
       " 'month_est_4 day_of_week_est_0',\n",
       " 'month_est_4 day_of_week_est_1',\n",
       " 'month_est_4 day_of_week_est_2',\n",
       " 'month_est_4 day_of_week_est_3',\n",
       " 'month_est_4 day_of_week_est_4',\n",
       " 'month_est_4 day_of_week_est_5',\n",
       " 'month_est_4 day_of_week_est_6',\n",
       " 'month_est_5^2',\n",
       " 'month_est_5 month_est_6',\n",
       " 'month_est_5 month_est_7',\n",
       " 'month_est_5 month_est_8',\n",
       " 'month_est_5 month_est_9',\n",
       " 'month_est_5 month_est_10',\n",
       " 'month_est_5 month_est_11',\n",
       " 'month_est_5 month_est_12',\n",
       " 'month_est_5 day_of_week_est_0',\n",
       " 'month_est_5 day_of_week_est_1',\n",
       " 'month_est_5 day_of_week_est_2',\n",
       " 'month_est_5 day_of_week_est_3',\n",
       " 'month_est_5 day_of_week_est_4',\n",
       " 'month_est_5 day_of_week_est_5',\n",
       " 'month_est_5 day_of_week_est_6',\n",
       " 'month_est_6^2',\n",
       " 'month_est_6 month_est_7',\n",
       " 'month_est_6 month_est_8',\n",
       " 'month_est_6 month_est_9',\n",
       " 'month_est_6 month_est_10',\n",
       " 'month_est_6 month_est_11',\n",
       " 'month_est_6 month_est_12',\n",
       " 'month_est_6 day_of_week_est_0',\n",
       " 'month_est_6 day_of_week_est_1',\n",
       " 'month_est_6 day_of_week_est_2',\n",
       " 'month_est_6 day_of_week_est_3',\n",
       " 'month_est_6 day_of_week_est_4',\n",
       " 'month_est_6 day_of_week_est_5',\n",
       " 'month_est_6 day_of_week_est_6',\n",
       " 'month_est_7^2',\n",
       " 'month_est_7 month_est_8',\n",
       " 'month_est_7 month_est_9',\n",
       " 'month_est_7 month_est_10',\n",
       " 'month_est_7 month_est_11',\n",
       " 'month_est_7 month_est_12',\n",
       " 'month_est_7 day_of_week_est_0',\n",
       " 'month_est_7 day_of_week_est_1',\n",
       " 'month_est_7 day_of_week_est_2',\n",
       " 'month_est_7 day_of_week_est_3',\n",
       " 'month_est_7 day_of_week_est_4',\n",
       " 'month_est_7 day_of_week_est_5',\n",
       " 'month_est_7 day_of_week_est_6',\n",
       " 'month_est_8^2',\n",
       " 'month_est_8 month_est_9',\n",
       " 'month_est_8 month_est_10',\n",
       " 'month_est_8 month_est_11',\n",
       " 'month_est_8 month_est_12',\n",
       " 'month_est_8 day_of_week_est_0',\n",
       " 'month_est_8 day_of_week_est_1',\n",
       " 'month_est_8 day_of_week_est_2',\n",
       " 'month_est_8 day_of_week_est_3',\n",
       " 'month_est_8 day_of_week_est_4',\n",
       " 'month_est_8 day_of_week_est_5',\n",
       " 'month_est_8 day_of_week_est_6',\n",
       " 'month_est_9^2',\n",
       " 'month_est_9 month_est_10',\n",
       " 'month_est_9 month_est_11',\n",
       " 'month_est_9 month_est_12',\n",
       " 'month_est_9 day_of_week_est_0',\n",
       " 'month_est_9 day_of_week_est_1',\n",
       " 'month_est_9 day_of_week_est_2',\n",
       " 'month_est_9 day_of_week_est_3',\n",
       " 'month_est_9 day_of_week_est_4',\n",
       " 'month_est_9 day_of_week_est_5',\n",
       " 'month_est_9 day_of_week_est_6',\n",
       " 'month_est_10^2',\n",
       " 'month_est_10 month_est_11',\n",
       " 'month_est_10 month_est_12',\n",
       " 'month_est_10 day_of_week_est_0',\n",
       " 'month_est_10 day_of_week_est_1',\n",
       " 'month_est_10 day_of_week_est_2',\n",
       " 'month_est_10 day_of_week_est_3',\n",
       " 'month_est_10 day_of_week_est_4',\n",
       " 'month_est_10 day_of_week_est_5',\n",
       " 'month_est_10 day_of_week_est_6',\n",
       " 'month_est_11^2',\n",
       " 'month_est_11 month_est_12',\n",
       " 'month_est_11 day_of_week_est_0',\n",
       " 'month_est_11 day_of_week_est_1',\n",
       " 'month_est_11 day_of_week_est_2',\n",
       " 'month_est_11 day_of_week_est_3',\n",
       " 'month_est_11 day_of_week_est_4',\n",
       " 'month_est_11 day_of_week_est_5',\n",
       " 'month_est_11 day_of_week_est_6',\n",
       " 'month_est_12^2',\n",
       " 'month_est_12 day_of_week_est_0',\n",
       " 'month_est_12 day_of_week_est_1',\n",
       " 'month_est_12 day_of_week_est_2',\n",
       " 'month_est_12 day_of_week_est_3',\n",
       " 'month_est_12 day_of_week_est_4',\n",
       " 'month_est_12 day_of_week_est_5',\n",
       " 'month_est_12 day_of_week_est_6',\n",
       " 'day_of_week_est_0^2',\n",
       " 'day_of_week_est_0 day_of_week_est_1',\n",
       " 'day_of_week_est_0 day_of_week_est_2',\n",
       " 'day_of_week_est_0 day_of_week_est_3',\n",
       " 'day_of_week_est_0 day_of_week_est_4',\n",
       " 'day_of_week_est_0 day_of_week_est_5',\n",
       " 'day_of_week_est_0 day_of_week_est_6',\n",
       " 'day_of_week_est_1^2',\n",
       " 'day_of_week_est_1 day_of_week_est_2',\n",
       " 'day_of_week_est_1 day_of_week_est_3',\n",
       " 'day_of_week_est_1 day_of_week_est_4',\n",
       " 'day_of_week_est_1 day_of_week_est_5',\n",
       " 'day_of_week_est_1 day_of_week_est_6',\n",
       " 'day_of_week_est_2^2',\n",
       " 'day_of_week_est_2 day_of_week_est_3',\n",
       " 'day_of_week_est_2 day_of_week_est_4',\n",
       " 'day_of_week_est_2 day_of_week_est_5',\n",
       " 'day_of_week_est_2 day_of_week_est_6',\n",
       " 'day_of_week_est_3^2',\n",
       " 'day_of_week_est_3 day_of_week_est_4',\n",
       " 'day_of_week_est_3 day_of_week_est_5',\n",
       " 'day_of_week_est_3 day_of_week_est_6',\n",
       " 'day_of_week_est_4^2',\n",
       " 'day_of_week_est_4 day_of_week_est_5',\n",
       " 'day_of_week_est_4 day_of_week_est_6',\n",
       " 'day_of_week_est_5^2',\n",
       " 'day_of_week_est_5 day_of_week_est_6',\n",
       " 'day_of_week_est_6^2']"
      ]
     },
     "execution_count": 80,
     "metadata": {},
     "output_type": "execute_result"
    }
   ],
   "source": [
    "#View features\n",
    "poly_features = poly.fit(training_X_scaled)\n",
    "poly_features.get_feature_names(X.columns)"
   ]
  },
  {
   "cell_type": "code",
   "execution_count": 81,
   "metadata": {
    "collapsed": true
   },
   "outputs": [],
   "source": [
    "#save all sets to a file to use the same sets in other models\n",
    "np.save('D:/CUNY Files/capstone/code files/train_polyFit.npy', train_polyFit)"
   ]
  },
  {
   "cell_type": "code",
   "execution_count": 82,
   "metadata": {
    "collapsed": true
   },
   "outputs": [],
   "source": [
    "np.save('D:/CUNY Files/capstone/code files/validation_polyFit.npy', validation_polyFit)"
   ]
  },
  {
   "cell_type": "code",
   "execution_count": 83,
   "metadata": {
    "collapsed": true
   },
   "outputs": [],
   "source": [
    "np.save('D:/CUNY Files/capstone/code files/training_polyFit.npy',training_polyFit)"
   ]
  },
  {
   "cell_type": "code",
   "execution_count": 84,
   "metadata": {
    "collapsed": true
   },
   "outputs": [],
   "source": [
    "np.save('D:/CUNY Files/capstone/code files/test_polyFit.npy',test_polyFit)"
   ]
  },
  {
   "cell_type": "markdown",
   "metadata": {},
   "source": [
    "** Implement a Linear Regression with scaled polynomial features, without regularization **"
   ]
  },
  {
   "cell_type": "code",
   "execution_count": 85,
   "metadata": {
    "collapsed": true
   },
   "outputs": [],
   "source": [
    "#create a linear regression\n",
    "regr_poly = linear_model.LinearRegression(fit_intercept=True, normalize=False, copy_X=True, n_jobs=1)"
   ]
  },
  {
   "cell_type": "code",
   "execution_count": 86,
   "metadata": {},
   "outputs": [
    {
     "data": {
      "text/plain": [
       "LinearRegression(copy_X=True, fit_intercept=True, n_jobs=1, normalize=False)"
      ]
     },
     "execution_count": 86,
     "metadata": {},
     "output_type": "execute_result"
    }
   ],
   "source": [
    "#fit the regression model\n",
    "regr_poly.fit(train_polyFit, train_y)"
   ]
  },
  {
   "cell_type": "code",
   "execution_count": 87,
   "metadata": {},
   "outputs": [
    {
     "name": "stdout",
     "output_type": "stream",
     "text": [
      "Intercept: \n",
      " [  6.91157794e+10]\n",
      "Coefficients: \n",
      " [[ -8.44909204e+04  -2.12799205e+10  -4.25538500e+10  -1.44588081e+09\n",
      "    5.06346767e-03   8.34933609e-02   7.09775699e-02   5.82679818e+10\n",
      "   -3.81760068e+06   6.47002483e+08  -3.00952189e+08  -2.71818994e+09\n",
      "   -4.57062977e+09   6.14514219e+09  -6.38669569e+09   1.31363621e+10\n",
      "   -1.00240468e+09  -6.08785161e+08  -7.07718706e+08  -5.41674749e+08\n",
      "   -4.78308695e+07  -4.14743735e+08   5.85160886e+08  -1.28762132e+09\n",
      "   -2.66576227e+08   3.08662294e+08   2.54787057e+08   8.91126878e+08\n",
      "   -7.06327444e+08  -8.75838076e+07  -3.54956038e+09   1.90679472e+09\n",
      "    1.43846903e+10  -1.06046438e-01   3.44663858e-03   1.96689367e-01\n",
      "    2.01263528e+10  -5.18497229e-02  -3.71385850e+08  -3.71385850e+08\n",
      "    9.25808785e+07   7.62434036e+07   7.87743215e+07   9.30579088e+07\n",
      "    9.32987360e+07   9.42162692e+07   9.15946224e+07   9.65727011e+07\n",
      "    7.73386265e+07   9.06636883e+07   8.99863420e+07   7.62385010e+07\n",
      "   -2.40207879e+08  -2.05340701e+08  -2.67268679e+08  -2.14743987e+08\n",
      "   -2.42744087e+08  -1.77616475e+08  -2.57528222e+08  -1.80185035e+10\n",
      "    3.03674962e+09  -1.17149353e-01  -2.58489847e-02   5.56067944e-01\n",
      "    1.47216559e+10  -2.49480009e-02   6.65668266e+07   6.65668275e+07\n",
      "    9.71774403e+08   1.25734329e+09   9.42056127e+08   1.33537951e+09\n",
      "    1.44638485e+09  -1.78426069e+09  -1.73461213e+09  -1.82888662e+09\n",
      "    1.41608558e+09   1.44328396e+09   9.68879408e+08   9.49086874e+08\n",
      "   -2.54103560e+07  -2.17219367e+07  -2.82729791e+07   1.64580486e+09\n",
      "   -2.56786483e+07  -1.87891338e+07  -2.72425862e+07   1.80856256e+09\n",
      "    1.13520145e-01   3.98945808e-03  -3.49745274e-01   1.08933505e+10\n",
      "    3.58563066e-02  -5.73726446e+07  -5.73726450e+07  -1.75352940e+08\n",
      "   -7.37571782e+08  -2.98711134e+08  -6.41642391e+08  -7.82879864e+08\n",
      "    3.42059036e+09   3.32540955e+09   3.50614233e+09  -8.59844510e+08\n",
      "   -3.67657783e+08  -2.02025135e+08  -5.60303399e+08  -1.63190351e+08\n",
      "   -1.39502590e+08  -1.81574684e+08  -8.67689433e+08  -1.64913379e+08\n",
      "   -1.20667545e+08  -1.74957296e+08   5.56945801e-04  -2.22772360e-03\n",
      "   -1.04522705e-03  -1.44532800e-01  -2.63570547e-02  -1.06090699e+08\n",
      "   -1.06090699e+08   2.64654099e+07   2.17951370e+07   2.25186317e+07\n",
      "    2.66017750e+07   2.66706185e+07   2.69329070e+07   2.61834762e+07\n",
      "    2.76065227e+07   2.21082202e+07   2.59173570e+07   2.57237290e+07\n",
      "    2.17937356e+07   2.70491849e+07   2.31228827e+07   3.00964314e+07\n",
      "    2.41817623e+07   2.73347808e+07   2.00009296e+07   2.89995838e+07\n",
      "   -5.95092773e-04  -6.88236952e-03   1.99686736e-03  -3.93250734e-02\n",
      "    6.60814273e+07   6.60814272e+07   1.29983429e+07   1.07045636e+07\n",
      "    1.10599041e+07   1.30653178e+07   1.30991300e+07   1.32279514e+07\n",
      "    1.28598726e+07   1.35587942e+07   1.08583327e+07   1.27291697e+07\n",
      "    1.26340703e+07   1.07038752e+07   7.70008904e+07   6.58238894e+07\n",
      "    8.56754839e+07   6.88382009e+07   7.78138958e+07   5.69366284e+07\n",
      "    8.25530890e+07   1.33514404e-05   4.73943591e-01  -3.30876708e-02\n",
      "    3.65923600e+07   3.65923599e+07   1.09088139e+08   8.98376764e+07\n",
      "    9.28198594e+07   1.09650224e+08   1.09933991e+08   1.11015122e+08\n",
      "    1.07926032e+08   1.13791707e+08   9.11281786e+07   1.06829112e+08\n",
      "    1.06030994e+08   8.98318997e+07  -1.11881164e+08  -9.56411453e+07\n",
      "   -1.24485221e+08  -1.00020896e+08  -1.13062449e+08  -8.27280854e+07\n",
      "   -1.19948427e+08  -2.74789952e+10  -8.05613995e-02   2.13841939e+07\n",
      "    2.13841944e+07  -4.90202316e+07  -4.03697752e+07  -4.17098600e+07\n",
      "   -4.92728120e+07  -4.94003258e+07  -4.98861472e+07  -4.84980231e+07\n",
      "   -5.11338434e+07   1.06870483e+07   2.73993674e+08  -4.76464612e+07\n",
      "   -2.02587294e+08   6.36129673e+06   5.43792800e+06   7.07793332e+06\n",
      "    1.05711009e+09   6.42846196e+06   4.70372182e+06   6.81998207e+06\n",
      "   -3.17847273e+09  -7.13527792e+07  -7.13527794e+07   2.59842403e+07\n",
      "    2.13988779e+07   2.21092188e+07   2.61181262e+07   2.61857181e+07\n",
      "    2.64432377e+07   2.57074324e+07   2.71046064e+07   2.17062690e+07\n",
      "    2.54461519e+07   2.52560444e+07   2.13975022e+07   2.52437335e+07\n",
      "    2.15795001e+07   2.80875854e+07   2.25677026e+07   2.55102668e+07\n",
      "    1.86659281e+07   2.70639494e+07  -1.68048192e+08   2.03303119e+08\n",
      "    4.10956664e+07   5.97298617e+06  -9.61877924e+07   1.22313426e+07\n",
      "   -1.80228064e+07  -2.73714964e+07  -6.83511024e+06  -5.54254624e+07\n",
      "    6.27375635e+07   1.89597540e+07   2.52475158e+07  -3.26512443e+06\n",
      "   -2.23639499e+07   1.34258539e+07  -1.59719988e+07  -1.43196329e+08\n",
      "    3.65422429e+07  -3.38321718e+07  -1.33321786e+08  -2.17762680e+08\n",
      "    9.09645404e+07   4.70416470e+07  -5.37558478e+07   6.23571700e+07\n",
      "    3.22327429e+07   2.33782842e+07   4.25025148e+07  -3.40638528e+06\n",
      "    1.04396168e+08   6.77959297e+07   7.37188374e+07   3.78008956e+07\n",
      "    2.69351693e+07   5.55689999e+07   3.88809499e+07  -9.91232978e+07\n",
      "    8.63618815e+07   2.62098634e+06  -8.04679217e+07   1.39375205e+09\n",
      "   -9.74142107e+08  -1.38302667e+08  -5.78971555e+08   3.53086547e+07\n",
      "   -2.21952532e+08   1.59097580e+08  -1.10786723e+09  -3.05191825e+08\n",
      "   -5.06462330e+07  -4.99766291e+08  -6.51161862e+08  -5.39256446e+07\n",
      "    3.26705300e+07   2.60378764e+07   2.07157244e+07   1.71896171e+07\n",
      "   -2.13605769e+07   2.19052048e+08   1.49958944e+09   7.66490144e+07\n",
      "   -5.29581103e+08   1.51269084e+08  -2.26454348e+08   1.05921298e+08\n",
      "   -7.33901867e+08   7.42691036e+06  -3.84933669e+08  -3.75474927e+08\n",
      "   -4.96525691e+08  -7.77608088e+07  -1.60493070e+06  -1.56654269e+07\n",
      "   -1.27556906e+07  -1.95471836e+07  -4.22520032e+07   1.44640500e+08\n",
      "   -9.02476058e+08   2.12812046e+08   1.02662736e+09   4.77139290e+08\n",
      "    2.21074127e+08  -3.68746846e+08   5.90642343e+08   4.17188316e+08\n",
      "    5.95807937e+08  -2.02252519e+08  -2.74510373e+07   4.35554949e+07\n",
      "    4.26640981e+07   3.41050802e+07   3.32534476e+07  -4.54542810e+06\n",
      "    2.06146680e+08   2.89765749e+09   2.72533800e+08  -2.94313515e+08\n",
      "   -3.24807294e+07  -9.24541329e+08  -5.77828249e+07  -1.70074439e+08\n",
      "   -8.88852619e+07  -3.70727515e+08  -1.28637264e+08  -3.07905244e+07\n",
      "   -5.66471170e+07  -4.57207456e+07  -5.79414766e+07  -7.65090614e+07\n",
      "    1.40379873e+08  -3.22721552e+09   8.71237846e+08   1.16618332e+09\n",
      "   -2.43444935e+08   4.44127731e+08   7.27041715e+08   1.18325970e+09\n",
      "    3.08520198e+08  -8.10944335e+07   1.00561640e+07  -3.52450363e+06\n",
      "   -3.03853059e+06  -9.71019906e+06  -4.13063938e+07   1.92071012e+08\n",
      "    1.56777825e+09   4.47655036e+08  -2.16142631e+08   8.28773813e+07\n",
      "    6.09940676e+08   4.45436091e+08  -6.13255148e+07  -9.51263219e+07\n",
      "   -1.15829154e+06  -1.82844700e+07  -1.48998429e+07  -2.31798030e+07\n",
      "   -5.14984867e+07   1.79771257e+08   1.47193127e+09  -3.51356889e+08\n",
      "    1.84681215e+08   4.96780116e+08   7.04786111e+08   6.66896047e+07\n",
      "   -8.33854803e+07   6.64779706e+06  -7.65734068e+06  -6.35539132e+06\n",
      "   -1.33449172e+07  -4.33412330e+07   1.84518562e+08   7.74105789e+08\n",
      "   -6.18884465e+08   6.85512745e+07  -1.32710723e+07  -3.30930134e+08\n",
      "    5.97268612e+07   1.33222178e+08   1.56203727e+08   1.25292028e+08\n",
      "    1.35132946e+08   6.34755408e+07   3.52837212e+08   7.37462825e+08\n",
      "    3.02496270e+07   2.50202887e+08  -2.06029273e+08  -7.15150482e+07\n",
      "    4.66605714e+06  -7.69821741e+06  -6.35665474e+06  -1.23874555e+07\n",
      "   -3.74146981e+07   1.54611914e+08   1.08545061e+09   3.03539972e+08\n",
      "    8.75818361e+07  -1.20221374e+08  -2.56332598e+07  -4.95081585e+07\n",
      "   -3.99794595e+07  -5.12905534e+07  -7.07648914e+07   1.42242605e+08\n",
      "    1.22613804e+09  -2.18768276e+05  -7.93719910e+07   8.71037206e+06\n",
      "   -4.68633839e+06  -3.96469922e+06  -1.05343305e+07  -4.06951567e+07\n",
      "    1.84011833e+08   2.35530032e+08  -5.29137356e+07   1.96313147e+07\n",
      "    1.19762562e+07   9.45375080e+06   5.55843858e+06  -2.38803575e+07\n",
      "    1.71264527e+08   2.50214407e+08   3.81222555e+08   4.72166032e+08\n",
      "   -3.82875716e+08  -6.45740550e+08   2.69294318e+08   3.84345901e+08\n",
      "   -1.27275004e+08  -2.85186578e+06   3.19867951e+08  -1.57878100e+08\n",
      "    2.71446716e+08  -1.98993493e+07  -1.17558038e+09  -1.91309667e+08\n",
      "   -4.76164338e+08   7.02530939e+08  -9.04333466e+08  -6.25912438e+08\n",
      "   -4.15536104e+08   2.85713986e+08  -1.46278873e+08  -1.58771576e+09\n",
      "    1.82258989e+08  -8.15424079e+08   2.94452334e+08   4.91037858e+08\n",
      "   -9.58003715e+08]]\n"
     ]
    }
   ],
   "source": [
    "#get intercept and coefficients\n",
    "print('Intercept: \\n', regr_poly.intercept_)\n",
    "print('Coefficients: \\n', regr_poly.coef_)"
   ]
  },
  {
   "cell_type": "markdown",
   "metadata": {},
   "source": [
    "** Evaluate the model with polynomial features **"
   ]
  },
  {
   "cell_type": "code",
   "execution_count": 88,
   "metadata": {
    "collapsed": true
   },
   "outputs": [],
   "source": [
    "#predict the target values of the validation set using the model\n",
    "validation_y_poly_pred = regr_poly.predict(validation_polyFit)"
   ]
  },
  {
   "cell_type": "code",
   "execution_count": 89,
   "metadata": {},
   "outputs": [
    {
     "data": {
      "text/plain": [
       "2355515759643629.0"
      ]
     },
     "execution_count": 89,
     "metadata": {},
     "output_type": "execute_result"
    }
   ],
   "source": [
    "#Evaluate the MSE on the validation set\n",
    "round(mean_squared_error(validation_y, validation_y_poly_pred),2)"
   ]
  },
  {
   "cell_type": "markdown",
   "metadata": {},
   "source": [
    "This error is extremely high, let's try regularization with ridge regression and then Lasso Regression"
   ]
  },
  {
   "cell_type": "markdown",
   "metadata": {},
   "source": [
    "** Regularize with Ridge Regression (Linear least squares with l2 regularization) **"
   ]
  },
  {
   "cell_type": "code",
   "execution_count": 91,
   "metadata": {
    "collapsed": true
   },
   "outputs": [],
   "source": [
    "#set up the ridge model\n",
    "ridge = Ridge(alpha=1.0, fit_intercept=True, normalize=True, copy_X=True, max_iter=1000, tol=0.001, solver='auto', random_state=rand)"
   ]
  },
  {
   "cell_type": "code",
   "execution_count": 92,
   "metadata": {},
   "outputs": [
    {
     "data": {
      "text/plain": [
       "Ridge(alpha=1.0, copy_X=True, fit_intercept=True, max_iter=1000,\n",
       "   normalize=True, random_state=20, solver='auto', tol=0.001)"
      ]
     },
     "execution_count": 92,
     "metadata": {},
     "output_type": "execute_result"
    }
   ],
   "source": [
    "#fit the ridge model\n",
    "ridge.fit(train_polyFit, train_y)"
   ]
  },
  {
   "cell_type": "markdown",
   "metadata": {},
   "source": [
    "** Evaluate the ridge model **"
   ]
  },
  {
   "cell_type": "code",
   "execution_count": 93,
   "metadata": {
    "collapsed": true
   },
   "outputs": [],
   "source": [
    "#predict the target values of the validation set using the model\n",
    "validation_y_ridge_pred = ridge.predict(validation_polyFit)"
   ]
  },
  {
   "cell_type": "code",
   "execution_count": 94,
   "metadata": {},
   "outputs": [
    {
     "data": {
      "text/plain": [
       "11.609999999999999"
      ]
     },
     "execution_count": 94,
     "metadata": {},
     "output_type": "execute_result"
    }
   ],
   "source": [
    "#Evaluate the MSE on the validation set\n",
    "round(mean_squared_error(validation_y, validation_y_ridge_pred),2)"
   ]
  },
  {
   "cell_type": "markdown",
   "metadata": {},
   "source": [
    "** Regularize with Lasso Regression (Linear Model trained with L1 prior as regularizer) **"
   ]
  },
  {
   "cell_type": "code",
   "execution_count": 95,
   "metadata": {
    "collapsed": true
   },
   "outputs": [],
   "source": [
    "#set up the lasso model\n",
    "lasso = Lasso(alpha=1.0, fit_intercept=True, normalize=True, precompute=False, copy_X=True, max_iter=2500, tol=0.0001, warm_start=False, positive=False, random_state=rand, selection='cyclic')"
   ]
  },
  {
   "cell_type": "code",
   "execution_count": 96,
   "metadata": {},
   "outputs": [
    {
     "data": {
      "text/plain": [
       "Lasso(alpha=1.0, copy_X=True, fit_intercept=True, max_iter=2500,\n",
       "   normalize=True, positive=False, precompute=False, random_state=20,\n",
       "   selection='cyclic', tol=0.0001, warm_start=False)"
      ]
     },
     "execution_count": 96,
     "metadata": {},
     "output_type": "execute_result"
    }
   ],
   "source": [
    "#fit the lasso model\n",
    "lasso.fit(train_polyFit, train_y)"
   ]
  },
  {
   "cell_type": "markdown",
   "metadata": {},
   "source": [
    "** Evaluate the Lasso model **"
   ]
  },
  {
   "cell_type": "code",
   "execution_count": 97,
   "metadata": {
    "collapsed": true
   },
   "outputs": [],
   "source": [
    "#predict the target values of the validation set using the model\n",
    "validation_y_lasso_pred = lasso.predict(validation_polyFit)"
   ]
  },
  {
   "cell_type": "code",
   "execution_count": 98,
   "metadata": {},
   "outputs": [
    {
     "data": {
      "text/plain": [
       "14.279999999999999"
      ]
     },
     "execution_count": 98,
     "metadata": {},
     "output_type": "execute_result"
    }
   ],
   "source": [
    "#Evaluate the MSE on the validation set\n",
    "round(mean_squared_error(validation_y, validation_y_lasso_pred),2)"
   ]
  },
  {
   "cell_type": "markdown",
   "metadata": {},
   "source": [
    "Regularizing the linear model with polynomial features with Ridge Regression resulted in a lower MSE than linear regression without poloynomial features. Regularizing with Lasso regression is not an improvement over the non-polynomial regression."
   ]
  },
  {
   "cell_type": "markdown",
   "metadata": {},
   "source": [
    "** Consider alternate values of alpha (regularization strength) for the Ridge regularization **"
   ]
  },
  {
   "cell_type": "code",
   "execution_count": 99,
   "metadata": {
    "collapsed": true
   },
   "outputs": [],
   "source": [
    "def valid_curve(model,X,y):\n",
    "    #Use full training set (train + validation and implement k-folds)\n",
    "    #create a learning curve: http://scikit-learn.org/stable/modules/generated/sklearn.model_selection.learning_curve.html#sklearn.model_selection.learning_curve\n",
    "    train_scores, validation_scores = validation_curve(\n",
    "        model, X, y, param_name = \"alpha\", \n",
    "        param_range = alpha_range, groups=None, cv=cv, \n",
    "        scoring= mse_scorer, n_jobs=1, pre_dispatch='all', verbose=0)\n",
    "    #get the mean of the training and validation scores\n",
    "    train_scores_mean = np.mean(train_scores, axis=1)\n",
    "    validation_scores_mean = np.mean(validation_scores, axis=1)\n",
    "    #plot the chart\n",
    "    plt.figure()\n",
    "    plt.title('Validation Curve')\n",
    "    plt.xlabel(\"Alpha - regularization strength\")\n",
    "    plt.ylabel(\"MSE\")\n",
    "    plt.ticklabel_format(useOffset=False,style='plain')\n",
    "\n",
    "    plt.grid()\n",
    "\n",
    "    plt.plot(alpha_range, train_scores_mean, 'o-', color=\"r\",label=\"Training score\")\n",
    "    plt.plot(alpha_range, validation_scores_mean, 'o-', color=\"g\",label=\"Cross-validation score\")\n",
    "\n",
    "    plt.legend(loc=\"best\")"
   ]
  },
  {
   "cell_type": "code",
   "execution_count": 100,
   "metadata": {},
   "outputs": [
    {
     "data": {
      "text/plain": [
       "array([ 0.1,  0.3,  0.5,  0.7,  0.9,  1.1,  1.3,  1.5])"
      ]
     },
     "execution_count": 100,
     "metadata": {},
     "output_type": "execute_result"
    }
   ],
   "source": [
    "#set up the range for alpha values\n",
    "alpha_range = np.arange(0.1, 1.6, 0.2)\n",
    "alpha_range"
   ]
  },
  {
   "cell_type": "code",
   "execution_count": 101,
   "metadata": {},
   "outputs": [
    {
     "data": {
      "image/png": "[encoded data removed]",
      "text/plain": [
       "<matplotlib.figure.Figure at 0xb40000d7b8>"
      ]
     },
     "metadata": {},
     "output_type": "display_data"
    }
   ],
   "source": [
    "#plot the validation curve with a range of alpha values\n",
    "valid_curve(ridge, training_polyFit, training_y)"
   ]
  },
  {
   "cell_type": "markdown",
   "metadata": {},
   "source": [
    "The training and validation set MSE are pretty close for all values of alpha, reducing alpha to 0.1 would reduce the MSE slightly, but there aren't large differences between alpha = 0.1 and alpha = 1.0"
   ]
  },
  {
   "cell_type": "code",
   "execution_count": null,
   "metadata": {
    "collapsed": true
   },
   "outputs": [],
   "source": []
  }
 ],
 "metadata": {
  "kernelspec": {
   "display_name": "Python 3",
   "language": "python",
   "name": "python3"
  },
  "language_info": {
   "codemirror_mode": {
    "name": "ipython",
    "version": 3
   },
   "file_extension": ".py",
   "mimetype": "text/x-python",
   "name": "python",
   "nbconvert_exporter": "python",
   "pygments_lexer": "ipython3",
   "version": "3.6.3"
  }
 },
 "nbformat": 4,
 "nbformat_minor": 2
}
